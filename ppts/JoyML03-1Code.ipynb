{
 "cells": [
  {
   "cell_type": "markdown",
   "metadata": {},
   "source": [
    "# Week 3-1 Artificial Neuron\n",
    "#### Machine Learning with Python by idebtor@gmail.com\n",
    "\n",
    "## AND Neuron Implementation"
   ]
  },
  {
   "cell_type": "code",
   "execution_count": 2,
   "metadata": {},
   "outputs": [],
   "source": [
    "import numpy as np\n",
    "def AND(x1, x2):\n",
    "    x = np.array([1, x1, x2])      # input\n",
    "    w = np.array([-0.7, 0.5, 0.5]) # bias, weight\n",
    "    return int(np.dot(x,w)>0)"
   ]
  },
  {
   "cell_type": "code",
   "execution_count": 8,
   "metadata": {},
   "outputs": [
    {
     "name": "stdout",
     "output_type": "stream",
     "text": [
      "AND(0, 0) =  0\n",
      "AND(0, 1) =  0\n",
      "AND(1, 0) =  0\n",
      "AND(1, 1) =  1\n"
     ]
    }
   ],
   "source": [
    "print(\"AND(0, 0) = \", AND(0, 0))\n",
    "print(\"AND(0, 1) = \", AND(0, 1))\n",
    "print(\"AND(1, 0) = \", AND(1, 0))\n",
    "print(\"AND(1, 1) = \", AND(1, 1))"
   ]
  },
  {
   "cell_type": "code",
   "execution_count": 9,
   "metadata": {},
   "outputs": [
    {
     "name": "stdout",
     "output_type": "stream",
     "text": [
      "0\n",
      "0\n",
      "0\n",
      "1\n"
     ]
    }
   ],
   "source": [
    "print(AND(0,0))\n",
    "print(AND(0,1))\n",
    "print(AND(1,0))\n",
    "print(AND(1,1))"
   ]
  },
  {
   "cell_type": "markdown",
   "metadata": {},
   "source": [
    "## AND Neuron Visualization"
   ]
  },
  {
   "cell_type": "code",
   "execution_count": 19,
   "metadata": {},
   "outputs": [
    {
     "data": {
      "image/png": "[encoded data removed]",
      "text/plain": [
       "<Figure size 432x288 with 1 Axes>"
      ]
     },
     "metadata": {
      "needs_background": "light"
     },
     "output_type": "display_data"
    }
   ],
   "source": [
    "import matplotlib.pyplot as plt  \n",
    "%matplotlib inline\n",
    "\n",
    "# code to plot the line b + w_1 x_1 + w_2 x_2 = 0\n",
    "w1 = 0.5\n",
    "w2 = 0.5\n",
    "b = -0.7\n",
    "x1 = np.arange(-2.5, 3.5, .5)\n",
    "x2 = -b/w2 - w1/w2*x1\n",
    "    \n",
    "plt.plot(x1, x2)    \n",
    "plt.axhline(0, color='black', linewidth=1)\n",
    "plt.axvline(0, color='black', linewidth=1)\n",
    "plt.axis('equal')\n",
    "plt.grid(True)\n",
    "plt.xlabel('x1')\n",
    "plt.ylabel('x2')\n",
    "#plt.savefig('images\\weights_bias.png')\n",
    "plt.show()"
   ]
  },
  {
   "cell_type": "markdown",
   "metadata": {},
   "source": [
    "### Classification and Classifier\n",
    "\n",
    "- Add the code to plot the line (or classifier) copied from the cell above.\n",
    "- Try to run the following code with some different value of seed in np.random.seed(0) and observe how the classifier works. \n",
    "- Why does it plot dots less than ndots = 6 sometimes? "
   ]
  },
  {
   "cell_type": "code",
   "execution_count": 58,
   "metadata": {},
   "outputs": [
    {
     "data": {
      "image/png": "[encoded data removed]",
      "text/plain": [
       "<Figure size 432x288 with 1 Axes>"
      ]
     },
     "metadata": {
      "needs_background": "light"
     },
     "output_type": "display_data"
    }
   ],
   "source": [
    "# code to plot some random dots\n",
    "ndots = 10\n",
    "np.random.seed(53)   \n",
    "px1 = [np.random.randint(-10, 10) for _ in np.arange(ndots)]\n",
    "px2 = [np.random.randint(-10, 10) for _ in np.arange(ndots)]\n",
    "for ipx1, ipx2 in zip(px1, px2):\n",
    "    if (b + w1*ipx1 + w2*ipx2) <= 0:\n",
    "        plt.plot(ipx1, ipx2, 'ro')\n",
    "    else:\n",
    "        plt.plot(ipx1, ipx2, 'bs')\n",
    "\n",
    "# code to plot the line b + w_1 x_1 + w_2 x_2 = 0\n",
    "w1 = 0.5\n",
    "w2 = 0.5\n",
    "b = -0.7\n",
    "x1 = np.arange(-2.5, 3.5, .5)\n",
    "x2 = -b/w2 - w1/w2*x1\n",
    "    \n",
    "plt.plot(x1, x2)    \n",
    "plt.axhline(0, color='black', linewidth=1)\n",
    "plt.axvline(0, color='black', linewidth=1)\n",
    "plt.axis('equal')\n",
    "plt.grid(True)\n",
    "plt.xlabel('x1')\n",
    "plt.ylabel('x2')\n",
    "#plt.savefig('images\\weights_bias.png')\n",
    "plt.show()"
   ]
  },
  {
   "cell_type": "markdown",
   "metadata": {},
   "source": [
    "## OR Neuron Implementation\n",
    "\n",
    "\n",
    "#### Isn't your job?"
   ]
  },
  {
   "cell_type": "markdown",
   "metadata": {},
   "source": []
  }
 ],
 "metadata": {
  "kernelspec": {
   "display_name": "Python 3",
   "language": "python",
   "name": "python3"
  },
  "language_info": {
   "codemirror_mode": {
    "name": "ipython",
    "version": 3
   },
   "file_extension": ".py",
   "mimetype": "text/x-python",
   "name": "python",
   "nbconvert_exporter": "python",
   "pygments_lexer": "ipython3",
   "version": "3.7.3"
  }
 },
 "nbformat": 4,
 "nbformat_minor": 2
}
