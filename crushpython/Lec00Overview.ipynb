{
 "cells": [
  {
   "cell_type": "markdown",
   "metadata": {},
   "source": [
    "# Welcome to \"CrushPython\"\n",
    "\n",
    "The fear of the LORD is the beginning of knowledge, but fools despise wisdom and discipline. Proverbs 1:7\n",
    "\n",
    "-------"
   ]
  },
  {
   "cell_type": "markdown",
   "metadata": {},
   "source": [
    "# Greetings!\n",
    "May I personally extend a warm welcome to you who are willing to come to this class. I hope that we can make this course of time will be memorable and enjoyable with a new spirit of learning together. \n",
    "\n",
    "This is a short course on Python for students who have some experience of programming in a programming language other than Python. The course assumes that you know no Python whatsoever. Also, those people who already have considerable programming experience in several different programming languages are likely to be bored, and would be better off just working through the notes in their own time, or looking at one of the many on-line Python tutorials.  \n",
    "\n",
    "__Python is named after Monty Python’s Flying Circus, not the constricting snake.__\n"
   ]
  },
  {
   "cell_type": "markdown",
   "metadata": {},
   "source": [
    "## \"Happy Coding!\" "
   ]
  },
  {
   "cell_type": "markdown",
   "metadata": {},
   "source": [
    "## Piazza\n",
    "\n",
    "You will use Piazza as a forum for discussion, to find team members, to arrange appointments, and to ask questions. Piazza should be your primary form of communication with the staff and me. All readings, homeworks, and project descriptions will be announced on Piazza as well. \n",
    "Go to [Piazza](https://piazza.com/) and login for the class. Let us know if you have not been invited yet to join in piazza yet. \n"
   ]
  },
  {
   "cell_type": "markdown",
   "metadata": {},
   "source": [
    "## Programming expectations\n",
    "\n",
    "All the assignments and labs for this class will use Python and, for the most part, the browser-based IPython notebook format you are currently viewing as well as a command-line mode and Python Tools for Visual Studio when needed. Knowledge of Python is not a prerequisite for this course, **provided you are comfortable learning on your own as needed**. While we have strived to make the programming component of this course straightforward, we will not devote much time to teaching Python syntax itself. Basically, you should feel comfortable with:\n",
    "\n",
    "* How to look up Python syntax on Google and StackOverflow.\n",
    "* Basic programming concepts like functions, loops, arrays, dictionaries, strings, and if statements.\n",
    "* How to learn new libraries by reading documentation.\n",
    "* Asking questions on StackOverflow or Piazza.\n",
    "\n",
    "There are many online tutorials to introduce you to [Python training courses](https://www.enthought.com/services/training/) and [scientific Python programming](https://github.com/jrjohansson/scientific-python-lectures).\n"
   ]
  },
  {
   "cell_type": "markdown",
   "metadata": {},
   "source": [
    "# Introduction\n",
    "\n",
    "---------\n",
    "\n",
    "# Python - Easy to learn, but powerful\n",
    "\n",
    "  - Readability\n",
    "  - Simplicity\n",
    "  - Extensibility"
   ]
  },
  {
   "cell_type": "markdown",
   "metadata": {},
   "source": [
    "## Getting Python\n",
    "\n",
    "You will be using Python 3.6 or latest (not 2.x) throughout the course, including many popular 3rd party Python libraries or modules. There are many ways of installing Python. \n",
    "\n",
    "For the program development environment, you may use any kind of IDE. Personally, I have reviewed or used a few IDE’s such as Anaconda, Canopy, Eclipse, and PyCharm. At this point I ended up using [Anaconda](http://continuum.io/downloads) and 64 bit Python executable since my computer is 64-bit system. It comes with an easy-to-install bundle of Python and 3rd party libraries.  \n",
    "\n",
    "In this first class, we will be using a variety of data types of Python and understand the basic concepts of the language to ensure everything goes smoothly moving forward, While some of this will likely be dull, doing it now will enable us to do more exciting work in the days that follow without getting bogged down in further software development. It is essential that you complete it timely. \n"
   ]
  },
  {
   "cell_type": "markdown",
   "metadata": {},
   "source": [
    "## MOOC & Textbook Available\n",
    "\n",
    "We are going to use the one of the best Python course available through www.coursera.org or available for free at www.py4e.com.\n",
    "\n",
    "The book \"Python for Everybody\" by Charles R. Severance available for free in many different forms including html and pdf. \n",
    "- https://www.py4e.com/book\n",
    "- over 200 pages long.\n",
    "\n",
    "Coursera offers a week for free, and $49 per month when you subscribe it.\n",
    "- You may earn a Coursera Certificate for this course\n",
    "\n",
    "\"Python for Everybody\" is designed to introduce students to programming and software development through the lens of exploring data.\n",
    "This course consists of five parts as shown below:\n",
    "\n",
    "1. Programming for Everybody (Getting Started with Python)\n",
    "2. Python Data Structures\n",
    "3. Using Python to Access Web Data\n",
    "4. Using Databases with Python\n",
    "5. Capstone: Retrieving, Processing, and Visualizing Data with Python\n",
    "\n",
    "In this specialization, I expect you are to finish 4 out of 5 parts.\n",
    "I hope that you take this course along with a Certification specialized in Python.\n",
    "\n"
   ]
  },
  {
   "cell_type": "markdown",
   "metadata": {},
   "source": [
    "## Python Installation Guide\n",
    "\n",
    "Refer to Course Web Site: www.py4e.com\n",
    "\n",
    "https://www.py4e.com/lessons/install"
   ]
  },
  {
   "cell_type": "markdown",
   "metadata": {},
   "source": [
    "## Python or IPython?\n",
    "IPython is short for __I__nteractive __Python__. It does all things Python does and more. It provides a rich architecture for interactive computing with:\n",
    "- A browser-based notebook with support for code, text, mathematical expressions, inline plots and other rich media.\n",
    "- Support for interactive data visualization and use of GUI toolkits.\n",
    "- Flexible, embeddable interpreters to load into your own projects.\n",
    "- Easy to use, high performance tools for parallel computing.\n",
    "Once again all Python scripts presented here should work in IPython seamlessly, but also provides you with more functionalities and rich set of tools. "
   ]
  },
  {
   "cell_type": "markdown",
   "metadata": {},
   "source": [
    "## IPython or Jupyter Notebook?\n",
    "The Jupyter Notebook is a web-based interactive computational environment where you can combine code execution, text, mathematics, plots and rich media into a single document. These files have **ipynb** extensions. A notebook consists of a series of cells which contains either code or document. \n",
    "\n",
    "- If you are new to Python see http://python.org - it will be best to spend some time learning basic Python syntax before attempting the interactive parts of these lessons.\n",
    "\n",
    "- If you are new to Jupyter Notebook see http://ipython.org/notebook - prepare to be impressed.\n",
    "\n",
    "- If you are new to numpy/scipy/matplotlib/pandas see http://www.scipy.org/ - it is not necessary to have a mastery of all these to get value out of these lessons.  However the more you know these technologies the faster you will be able to apply these techniques immediately.\n",
    "\n",
    "We'll be using them to complete labs and homework. Once you've set up Python, please get this file from Piazza or Dropbox folder as informed.\n",
    "Then, open it with IPython by typing\n",
    "\n",
    "```\n",
    "jupyter notebook <name_of_downloaded_file>\n",
    "```\n",
    "\n",
    "For the rest of the assignment, use your local copy of this page, running on IPython.\n",
    "\n",
    "Notebooks are composed of many \"cells\", which can contain text (like this one), or code (like the one below). Double click on the cell below, and evaluate it by clicking the \"play\" button above, for by hitting `<Shift + Enter>` or `<Ctrl + Enter>`."
   ]
  },
  {
   "cell_type": "markdown",
   "metadata": {},
   "source": [
    "## Video tutorial for Jupyter Notebook\n",
    "- Look for ones in you-tube.\n",
    "- In-depth [video](https://www.youtube.com/watch?v=XFw1JVXKJss)  by its creator, Fernando Perez, in PyCon 2014 \n",
    "- It is a must to watch!\n"
   ]
  },
  {
   "cell_type": "markdown",
   "metadata": {},
   "source": [
    "# Overview\n",
    "\n",
    "---------\n",
    "\n",
    "In this Jupyter Notebook, we will cover a wide variety of topics about the Python language to give you a broad overview of the data structures it offers, some use cases for them and the kinds of tasks they can be used for. \n",
    "\n",
    "__NOTE__: It isn't expected for new comers to be able to follow all the details presented here. This fast-paced overview will be followed with a slower in-depth coverage of all these topics.\n",
    "\n",
    "__NOTE__: The following materials have been collected from the numerous sources including my own and my students over the years of teaching and experiences of programming. Please help me to keep this tutorial up-to-date by reporting any issues or questions. Send any comments or criticisms to `idebtor@gmail.com`. Your assistances and comments will be appreciated."
   ]
  },
  {
   "cell_type": "markdown",
   "metadata": {},
   "source": [
    "# Code cell or Markdown cell\n",
    "IPython Notebook consists of a series of so-called cells. There are two types of cells that contains either code or document. Cells that contains code is called code cell, whereas cell that contains document is called markdown cell. By default, the notebook creates a code cell. Let's explore working with code cells.\n",
    "\n",
    "## Code cells\n",
    "May contain python code and ipython magic.\n",
    "\n",
    "\n"
   ]
  },
  {
   "cell_type": "markdown",
   "metadata": {},
   "source": [
    "## Cell menu\n",
    "The \"Cell\" menu has a number of menu items for running code in different ways. These includes:\n",
    "\n",
    "- Run and Select Below\n",
    "- Run and Insert Below\n",
    "- Run All\n",
    "- Run All Above\n",
    "- Run All Below\n",
    "\n",
    "----------"
   ]
  },
  {
   "cell_type": "markdown",
   "metadata": {},
   "source": [
    "# Running Code\n",
    "IPython is capable of running code in a wide range of languages. However, this notebook, and the default kernel in IPython, runs Python code. If the cell is a markdown cell, it just randers into webpage. \n",
    "\n",
    "Run a cell using ```<Shift-Enter>``` or \"Run Cell\" button in the toolbar above:\n",
    "\n",
    "There are two other keyboard shortcuts for running code:\n",
    "\n",
    "- `Alt+Enter` runs the current cell and inserts a new one below.\n",
    "- `Ctrl+Enter` run the current cell and enters command mode."
   ]
  },
  {
   "cell_type": "markdown",
   "metadata": {},
   "source": [
    "Run a command `pwd`.  `pwd` means `present working directory` or `print working directory`."
   ]
  },
  {
   "cell_type": "code",
   "execution_count": 1,
   "metadata": {
    "pycharm": {
     "is_executing": false
    }
   },
   "outputs": [
    {
     "name": "stdout",
     "text": [
      "/Users/mine/Documents/2019-2/AI/JoyAI/crushpython\r\n"
     ],
     "output_type": "stream"
    }
   ],
   "source": [
    "!pwd"
   ]
  },
  {
   "cell_type": "markdown",
   "metadata": {},
   "source": [
    "list file names in a current folder"
   ]
  },
  {
   "cell_type": "code",
   "execution_count": 2,
   "metadata": {
    "pycharm": {
     "is_executing": false
    }
   },
   "outputs": [
    {
     "name": "stdout",
     "text": [
      "total 96\r\n-rw-r--r--  1 mine  staff  33031 Sep  6 12:28 Lec00Overview.ipynb\r\n-rw-r--r--  1 mine  staff   1945 Sep  3 12:41 Untitled.ipynb\r\n-rw-r--r--@ 1 mine  staff     75 Aug 29 15:38 _start_ipynb.bat\r\ndrwxr-xr-x  3 mine  staff     96 Sep  3 11:53 \u001b[1m\u001b[36mimages\u001b[m\u001b[m\r\n-rw-r--r--  1 mine  staff   3989 Sep  3 12:38 q\r\ndrwxr-xr-x  3 mine  staff     96 Sep  3 11:53 \u001b[1m\u001b[36mvideos\u001b[m\u001b[m\r\n"
     ],
     "output_type": "stream"
    }
   ],
   "source": [
    "! ls -l"
   ]
  },
  {
   "cell_type": "markdown",
   "metadata": {},
   "source": [
    "Run a command `!cat [filename]` that prints the contents the file. Use `!` to run the OS command."
   ]
  },
  {
   "cell_type": "code",
   "execution_count": 15,
   "metadata": {
    "pycharm": {
     "is_executing": false
    }
   },
   "outputs": [
    {
     "name": "stdout",
     "text": [
      "# If you come from bash you might have to change your $PATH.\r\n# export PATH=$HOME/bin:/usr/local/bin:$PATH\r\n\r\n# Path to your oh-my-zsh installation.\r\nexport ZSH=\"/Users/mine/.oh-my-zsh\"\r\nexport PATH=\"$PATH:/Users/mine/development/flutter/bin\"\r\n# Set name of the theme to load --- if set to \"random\", it will\r\n# load a random theme each time oh-my-zsh is loaded, in which case,\r\n# to know which specific one was loaded, run: echo $RANDOM_THEME\r\n# See https://github.com/robbyrussell/oh-my-zsh/wiki/Themes\r\nZSH_THEME=\"refined\"\r\n#ZSH_THEME=\"random\"\r\n#ZSH_THEME=\"robbyrussell\"\r\n#ZSH_THEME=\"agnoster\"\r\n# Set list of themes to pick from when loading at random\r\n# Setting this variable when ZSH_THEME=random will cause zsh to load\r\n# a theme from this variable instead of looking in ~/.oh-my-zsh/themes/\r\n# If set to an empty array, this variable will have no effect.\r\n# ZSH_THEME_RANDOM_CANDIDATES=( \"robbyrussell\" \"agnoster\" )\r\n\r\n# Uncomment the following line to use case-sensitive completion.\r\n# CASE_SENSITIVE=\"true\"\r\n\r\n# Uncomment the following line to use hyphen-insensitive completion.\r\n# Case-sensitive completion must be off. _ and - will be interchangeable.\r\n# HYPHEN_INSENSITIVE=\"true\"\r\n\r\n# Uncomment the following line to disable bi-weekly auto-update checks.\r\n# DISABLE_AUTO_UPDATE=\"true\"\r\n\r\n# Uncomment the following line to change how often to auto-update (in days).\r\n# export UPDATE_ZSH_DAYS=13\r\n\r\n# Uncomment the following line to disable colors in ls.\r\n# DISABLE_LS_COLORS=\"true\"\r\n\r\n# Uncomment the following line to disable auto-setting terminal title.\r\n# DISABLE_AUTO_TITLE=\"true\"\r\n\r\n# Uncomment the following line to enable command auto-correction.\r\n# ENABLE_CORRECTION=\"true\"\r\n\r\n# Uncomment the following line to display red dots whilst waiting for completion.\r\n# COMPLETION_WAITING_DOTS=\"true\"\r\n\r\n# Uncomment the following line if you want to disable marking untracked files\r\n# under VCS as dirty. This makes repository status check for large repositories\r\n# much, much faster.\r\n# DISABLE_UNTRACKED_FILES_DIRTY=\"true\"\r\n\r\n# Uncomment the following line if you want to change the command execution time\r\n# stamp shown in the history command output.\r\n# You can set one of the optional three formats:\r\n# \"mm/dd/yyyy\"|\"dd.mm.yyyy\"|\"yyyy-mm-dd\"\r\n# or set a custom format using the strftime function format specifications,\r\n# see 'man strftime' for details.\r\n# HIST_STAMPS=\"mm/dd/yyyy\"\r\n\r\n# Would you like to use another custom folder than $ZSH/custom?\r\n# ZSH_CUSTOM=/path/to/new-custom-folder\r\n\r\n# Which plugins would you like to load?\r\n# Standard plugins can be found in ~/.oh-my-zsh/plugins/*\r\n# Custom plugins may be added to ~/.oh-my-zsh/custom/plugins/\r\n# Example format: plugins=(rails git textmate ruby lighthouse)\r\n# Add wisely, as too many plugins slow down shell startup.\r\nplugins=(git)\r\n\r\nsource $ZSH/oh-my-zsh.sh\r\n\r\n# User configuration\r\n\r\n# export MANPATH=\"/usr/local/man:$MANPATH\"\r\n\r\n# You may need to manually set your language environment\r\n# export LANG=en_US.UTF-8\r\n\r\n# Preferred editor for local and remote sessions\r\n# if [[ -n $SSH_CONNECTION ]]; then\r\n#   export EDITOR='vim'\r\n# else\r\n#   export EDITOR='mvim'\r\n# fi\r\n\r\n# Compilation flags\r\n# export ARCHFLAGS=\"-arch x86_64\"\r\n\r\n# ssh\r\n# export SSH_KEY_PATH=\"~/.ssh/rsa_id\"\r\n\r\n# Set personal aliases, overriding those provided by oh-my-zsh libs,\r\n# plugins, and themes. Aliases can be placed here, though oh-my-zsh\r\n# users are encouraged to define aliases within the ZSH_CUSTOM folder.\r\n# For a full list of active aliases, run `alias`.\r\n#\r\n# Example aliases\r\n# alias zshconfig=\"mate ~/.zshrc\"\r\n# alias ohmyzsh=\"mate ~/.oh-my-zsh\"\r\nplugins=(autojump)\r\nsource /usr/local/share/zsh-autosuggestions/zsh-autosuggestions.zsh\r\n\r\nexport NVM_DIR=\"$HOME/.nvm\"\r\n[ -s \"$NVM_DIR/nvm.sh\" ] && \\. \"$NVM_DIR/nvm.sh\"  # This loads nvm\r\n[ -s \"$NVM_DIR/bash_completion\" ] && \\. \"$NVM_DIR/bash_completion\"  # This loads nvm bash_completion\r\n\r\nalias python=\"python3\"\r\n# Setting PATH for Python 3.7\r\n# The original version is saved in .bash_profile.pysave\r\nPATH=\"/Library/Frameworks/Python.framework/Versions/3.6/bin:${PATH}\"\r\nexport PATH\r\n"
     ],
     "output_type": "stream"
    }
   ],
   "source": [
    "!cat q"
   ]
  },
  {
   "cell_type": "markdown",
   "metadata": {},
   "source": [
    "## Arithmetic\n",
    "Let's start simple with some arithmetic..."
   ]
  },
  {
   "cell_type": "markdown",
   "metadata": {},
   "source": [
    "Add two integer numbers. "
   ]
  },
  {
   "cell_type": "code",
   "execution_count": 4,
   "metadata": {
    "pycharm": {
     "is_executing": false
    }
   },
   "outputs": [
    {
     "data": {
      "text/plain": "5"
     },
     "metadata": {},
     "output_type": "execute_result",
     "execution_count": 4
    }
   ],
   "source": [
    "a = 3\n",
    "b = 2\n",
    "a + b"
   ]
  },
  {
   "cell_type": "markdown",
   "metadata": {},
   "source": [
    "Add two floating pointer numbers."
   ]
  },
  {
   "cell_type": "code",
   "execution_count": 4,
   "metadata": {
    "pycharm": {
     "is_executing": false
    }
   },
   "outputs": [],
   "source": []
  },
  {
   "cell_type": "markdown",
   "metadata": {},
   "source": [
    "If you add an integer to a decimal, you will get a floating point number."
   ]
  },
  {
   "cell_type": "code",
   "execution_count": 4,
   "metadata": {
    "pycharm": {
     "is_executing": false
    }
   },
   "outputs": [],
   "source": []
  },
  {
   "cell_type": "markdown",
   "metadata": {},
   "source": [
    "How about computing `2**8, 2**16, 2**32`?"
   ]
  },
  {
   "cell_type": "code",
   "execution_count": 13,
   "metadata": {
    "pycharm": {
     "is_executing": false
    }
   },
   "outputs": [
    {
     "data": {
      "text/plain": "256"
     },
     "metadata": {},
     "output_type": "execute_result",
     "execution_count": 13
    }
   ],
   "source": [
    "2**8\n"
   ]
  },
  {
   "cell_type": "markdown",
   "metadata": {},
   "source": [
    "## Variables (or names)\n",
    "You can save your value into a name called 'variable'."
   ]
  },
  {
   "cell_type": "code",
   "execution_count": 22,
   "metadata": {
    "pycharm": {
     "is_executing": false
    }
   },
   "outputs": [
    {
     "name": "stdout",
     "text": [
      "10 5\n"
     ],
     "output_type": "stream"
    }
   ],
   "source": [
    "# Save the values 10 and 5 in the variables 'a' and 'b', respectively. \n",
    "# print a, b\n",
    "\n",
    "a = 10\n",
    "b = 5\n",
    "print (a,b)"
   ]
  },
  {
   "cell_type": "code",
   "execution_count": 23,
   "metadata": {
    "pycharm": {
     "is_executing": false
    }
   },
   "outputs": [
    {
     "name": "stdout",
     "text": [
      "15 -5\n"
     ],
     "output_type": "stream"
    }
   ],
   "source": [
    "# Now you can do some math with two variables. \n",
    "# Add two numbers and save the result to another variable 'c'.\n",
    "# Subtract two numbers (a - b) and save the result to another variable 'd'.\n",
    "# print the results c and d\n",
    "\n",
    "c = a + b\n",
    "d = b - a\n",
    "print(c, d)"
   ]
  },
  {
   "cell_type": "markdown",
   "metadata": {},
   "source": [
    "## Getting an input from the user and save it \n",
    "\n",
    "The varable 'name' stores a string value, not numeric value.\n",
    "- use `input()` function to get an user's input."
   ]
  },
  {
   "cell_type": "markdown",
   "metadata": {},
   "source": [
    "Ask a name (`What is your name? `) and save it in a variable called `name`. Then, you print `Hello ` and the name entered as shown below:\n",
    "\n",
    "For example, \n",
    "```\n",
    "What is your name?\n",
    "John\n",
    "Hello John!\n",
    "```"
   ]
  },
  {
   "cell_type": "code",
   "execution_count": 25,
   "metadata": {
    "pycharm": {
     "is_executing": false
    }
   },
   "outputs": [
    {
     "name": "stdout",
     "text": [
      "What is your name?\n",
      "ym\n"
     ],
     "output_type": "stream"
    }
   ],
   "source": [
    "# print('What is your name?')\n",
    "# your code here\n",
    "name = input(\"what is your name?\")\n",
    "print(name)"
   ]
  },
  {
   "cell_type": "markdown",
   "metadata": {},
   "source": [
    "Ask an age (`What is your age? `)and save it in a variable called `age`. Print his or her age but one year older that user's input at the end of this prompt: `In a few days, you becomes`.  Note: `age` is a string type. Use `int()` to change a string to int. \n",
    "\n",
    "Sample Run:\n",
    "```\n",
    "What is your age?\n",
    "33\n",
    "In a few days, your age becomes 34\n",
    "```"
   ]
  },
  {
   "cell_type": "code",
   "execution_count": 33,
   "metadata": {
    "pycharm": {
     "is_executing": false
    }
   },
   "outputs": [
    {
     "name": "stdout",
     "text": [
      "25\nIn a few days, your age becomes 26\n"
     ],
     "output_type": "stream"
    }
   ],
   "source": [
    "# print('What is your age?')\n",
    "# your code here\n",
    "age = int(input(\"what is your age\"))\n",
    "print(age)\n",
    "print(\"In a few days, your age becomes\", age+1)\n"
   ]
  },
  {
   "cell_type": "markdown",
   "metadata": {},
   "source": [
    "## Function\n",
    "\n",
    "Define a function if you are using the same set of code more than once. Be careful when using `:` and `<tab>` characters."
   ]
  },
  {
   "cell_type": "code",
   "execution_count": 32,
   "metadata": {
    "pycharm": {
     "is_executing": false
    }
   },
   "outputs": [
    {
     "name": "stdout",
     "text": [
      "Writing mycode.py\n"
     ],
     "output_type": "stream"
    }
   ],
   "source": [
    "# store the file. %writefile _filename\n",
    "%writefile mycode.py\n",
    "def SayHello(): \n",
    "    name = input('What is your name?') \n",
    "    print('Hello ' + name)"
   ]
  },
  {
   "cell_type": "code",
   "execution_count": 11,
   "metadata": {
    "pycharm": {
     "is_executing": false
    }
   },
   "outputs": [
    {
     "name": "stdout",
     "text": [
      "Hello ym\n"
     ],
     "output_type": "stream"
    }
   ],
   "source": [
    "SayHello()"
   ]
  },
  {
   "cell_type": "markdown",
   "metadata": {},
   "source": [
    "## Writing a code cell into a file \n",
    "\n",
    "You may use __%writefile__ cell magic command.  You have to place the command at the very first line of the code cell.\n",
    "```\n",
    "%writefile mycode.py\n",
    "```\n",
    "\n",
    "\n",
    "## Loading external codes\n",
    "\n",
    "- Drag and drop a .py in the dashboard\n",
    "- Use __%load__  with any local or remote url: the Matplotlib Gallery http://matplotlib.org/gallery.html\n",
    "\n",
    "```\n",
    "%load mycode.py\n",
    "```\n",
    "\n",
    "In this notebook we've kept the output saved so you can see the result, but you should run the next cell yourself (with an active internet connection)."
   ]
  },
  {
   "cell_type": "markdown",
   "metadata": {},
   "source": [
    "## Reading a web page\n"
   ]
  },
  {
   "cell_type": "code",
   "execution_count": 39,
   "metadata": {
    "pycharm": {
     "is_executing": false
    }
   },
   "outputs": [
    {
     "data": {
      "text/plain": "True"
     },
     "metadata": {},
     "output_type": "execute_result",
     "execution_count": 39
    }
   ],
   "source": [
    "import requests \n",
    "response = requests.get('http://www.handong.edu')    # http://www.mit.edu\n",
    "response.ok"
   ]
  },
  {
   "cell_type": "markdown",
   "metadata": {},
   "source": [
    "Display the first 1000 characters from the response. Use `response.text[:1000]`"
   ]
  },
  {
   "cell_type": "code",
   "execution_count": 45,
   "metadata": {
    "pycharm": {
     "is_executing": false
    }
   },
   "outputs": [
    {
     "data": {
      "text/plain": "'\\r\\n \\r\\n\\r\\n\\r\\n\\r\\n\\r\\n\\r\\n\\r\\n\\r\\n\\r\\n\\r\\n\\r\\n\\r\\n\\r\\n\\r\\n \\r\\n\\r\\n\\r\\n<!DOCTYPE html PUBLIC \"-//W3C//DTD HTML 4.01 Transitional//EN\" \"http://www.w3.org/TR/html4/loose.dtd\">\\r\\n<html lang=\"ko\">\\r\\n\\t<head>\\r\\n\\t\\t<meta http-equiv=\"Content-Type\" content=\"text/html; charset=UTF-8\">\\r\\n\\t\\t<meta http-equiv=\"X-UA-Compatible\" content=\"IE=Edge\">\\r\\n\\t\\t<meta name=\"viewport\" content=\"width=device-width, initial-scale=1.0, maximum-scale=1.0, user-scalable=no\"/>\\r\\n\\t\\t<title>한동대학교</title>\\r\\n\\t\\t<link rel=\"shortcut icon\" href=\"/site/handong/res/img/favicon.ico\">\\r\\n\\t\\t<link rel=\"stylesheet\" type=\"text/css\" href=\"/site/handong/res/css/main.css\" />\\r\\n\\t\\t<link rel=\"stylesheet\" type=\"text/css\" href=\"/res/js/fancybox/2.1.5/jquery.fancybox.css\" />\\r\\n\\t\\t<link rel=\"stylesheet\" type=\"text/css\" href=\"/res/js/mCustomScrollbar/3.0.6/mCustomScrollbar.css\"  />\\r\\n\\t\\t<link rel=\"stylesheet\" type=\"text/css\" href=\"/res/js/slick/1.5.7/slick.css\"  />\\r\\n\\t\\t<script type=\"text/javascript\" src=\"/res/js/jquery-1.8.3.js\"></script>\\r\\n\\t\\t<script type=\"text/javascript\" src=\"/res/js/slick/1.5.7/slick.js\"></script>\\r\\n\\t\\t<script type=\"text/javascript\" src=\"/res/js/form/3.51.0/form.js\"></script> \\r\\n\\t\\t<script type=\"text/javascript\" src=\"/res/js/dc/1.0.0/dc_validate.js\"></script>\\r\\n\\t\\t<script type=\"text/javascript\" src=\"/res/js/slides/3.0.4/slides.js\"></script>\\r\\n\\t\\t<script type=\"text/javascript\" src=\"/res/js/vticker/1.15/vticker.js\"></script>\\r\\n\\t\\t<script type=\"text/javascript\" src=\"/res/js/mCustomScrollbar/3.0.6/mCustomScrollbar.concat.min.js\"></script>\\r\\n\\t\\t<script type=\"text/javascript\" src=\"/res/js/fancybox/2.1.5/jquery.fancybox.js\"></script>\\r\\n\\t\\t<script type=\"text/javascript\" src=\"/res/js/fancybox/2.1.5/helpers/jquery.fancybox-media.js?v=1.0.0\"></script> \\r\\n\\t\\t<script type=\"text/javascript\" src=\"/res/js/scroll-top/1.0.0/top-button.js\"></script>\\r\\n\\t\\t<script type=\"text/javascript\" src=\"/res/js/mobile-check/detectmobilebrowser.js\"></script>\\r\\n\\t</head>\\r\\n\\t<body class=\"os\">\\r\\n\\t\\r\\n \\r\\n\\r\\n<script>\\r\\n  (function(i,s,o,g,r,a,m){i[\\'GoogleAnalyticsObject\\']=r;i[r]=i[r]||function(){\\r\\n  (i[r].q=i[r].q||[]).push(arguments)},i[r].l=1*new Date();a=s.createElement(o),\\r\\n  m=s.getElementsByTagName(o)[0];a.async=1;a.src=g;m.parentNode.insertBefore(a,m)\\r\\n  })(window,document,\\'script\\',\\'//www.google-analytics.com/analytics.js\\',\\'ga\\');\\r\\n\\r\\n  ga(\\'create\\', \\'UA-67465969-1\\', \\'auto\\');\\r\\n  ga(\\'send\\', \\'pageview\\');\\r\\n\\r\\n</script> <!--2015.09.11 e1추가-->\\r\\n\\t\\t<div id=\"skip_nav\">\\r\\n\\t\\t\\t<a href=\"#skip_main\">본문내용 바로가기</a>\\r\\n\\t\\t\\t<a href=\"#skip_gnb\">메인메뉴 바로가기</a>\\r\\n\\t\\t\\t<a href=\"#tail\">퀙메뉴 바로가기</a>\\r\\n\\t\\t</div>\\r\\n\\t\\t<div>\\r\\n\\t\\t\\t<div id=\"head\">\\r\\n\\t\\t\\t\\t\\r\\n \\r\\n\\r\\n\\r\\n\\r\\n<div class=\"head\">\\r\\n\\t<a href=\"/\"><img class=\"logo\" alt=\"한동대학교\" src=\"/site/handong/res/img/logo.png\"></a>\\r\\n\\t<div class=\"link\">\\r\\n\\t\\t<a href=\"/sinfo/search/\"><img alt=\"통합검색\" src=\"/site/handong/res/img/icon_s.png\"></a> &nbsp;\\r\\n\\t\\t<a href=\"/sinfo/sitemap/\">SITEMAP</a> &nbsp; l &nbsp;\\r\\n\\t\\t<a href=\"http://hisnet.handong.edu/\" target=\"_blank\" title=\"새창\">HISNET</a> &nbsp; l &nbsp;\\r\\n\\t\\t<a href=\"http://www.handong.edu/eng/\">ENGLISH</a>\\r\\n<!-- \\t\\t<a href=\"https://handong.edu/cn/\">中文</a> -->\\r\\n\\t</div>\\r\\n</div>\\r\\n\\r\\n<script type=\"text/javascript\">\\r\\n\\t$(\".log\").fancybox({\\r\\n\\t\\twidth: \\'840px\\',\\r\\n\\t\\tautoHeight: true,\\r\\n\\t\\topenEffect: \\'elastic\\',\\r\\n\\t\\tcloseEffect: \\'elastic\\'\\r\\n\\t});\\r\\n\\t\\r\\n\\t$(document).bind(\\'scroll\\', function(event) {\\r\\n\\t\\tvar scroll = $(window).scrollTop();\\r\\n\\t\\tif (\"0\" == scroll) {\\r\\n\\t\\t\\t$(\"#head\").removeClass(\"top-on\");\\t\\r\\n\\t\\t\\t$(\"#head\").addClass(\"top-off\");\\r\\n\\t\\t} else {\\r\\n\\t\\t\\t$(\"#head\").removeClass(\"top-off\");\\t\\r\\n\\t\\t\\t$(\"#head\").addClass(\"top-on\");\\r\\n\\t\\t}\\r\\n\\t});\\r\\n</script>\\r\\n\\t\\t\\t\\t<div id=\"gnb\">\\r\\n\\t\\t\\t\\t\\t\\r\\n \\r\\n\\r\\n\\r\\n\\r\\n<div class=\"gnb\" id=\"skip_gnb\">\\r\\n\\t\\r\\n\\t\\t<div class=\"dep1\" tabindex=\"0\">학교소개</div>\\r\\n\\t\\t<div class=\"dep2\" >\\r\\n\\t\\t\\t<ul class=\"d2\">\\r\\n\\t\\t\\t\\r\\n\\t\\t\\t\\t<li class=\"\">\\r\\n\\t\\t\\t\\t\\t<a class=\"a2s\" href=\"/about/greet/\"  target=\"_self\">환영인사</a>\\r\\n\\t\\t\\t\\t\\t<ul class=\"dep3 \" >\\r\\n\\t\\t\\t\\t\\t\\r\\n\\t\\t\\t\\t\\t\\t<li class=\"\">\\r\\n\\t\\t\\t\\t\\t\\t\\t<a class=\"a3s\" href=\"/about/greet/chief/\" target=\"_self\">총장 인사말</a>\\r\\n\\t\\t\\t\\t\\t\\t\\t<ul class=\"dep4 \" >\\r\\n\\t\\t\\t\\t\\t\\t\\t\\r\\n\\t\\t\\t\\t\\t\\t\\t\\t<li class=\"\">\\r\\n\\t\\t\\t\\t\\t\\t\\t\\t\\t<a class=\"a4\" href=\"/about/greet/chief/greet/\" target=\"_self\">인사말</a>\\r\\n\\t\\t\\t\\t\\t\\t\\t\\t</li>\\r\\n\\t\\t\\t\\t\\t\\t\\t\\r\\n\\t\\t\\t\\t\\t\\t\\t\\t<li class=\"\">\\r\\n\\t\\t\\t\\t\\t\\t\\t\\t\\t<a class=\"a4\" href=\"/about/greet/chief/profile/\" target=\"_self\">프로필</a>\\r\\n\\t\\t\\t\\t\\t\\t\\t\\t</li>\\r\\n\\t\\t\\t\\t\\t\\t\\t\\r\\n\\t\\t\\t\\t\\t\\t\\t\\t<li class=\"\">\\r\\n\\t\\t\\t\\t\\t\\t\\t\\t\\t<a class=\"a4\" href=\"/about/greet/chief/cont/\" target=\"_self\">연설·기고문</a>\\r\\n\\t\\t\\t\\t\\t\\t\\t\\t</li>\\r\\n\\t\\t\\t\\t\\t\\t\\t\\r\\n\\t\\t\\t\\t\\t\\t\\t\\t<li class=\"\">\\r\\n\\t\\t\\t\\t\\t\\t\\t\\t\\t<a class=\"a4\" href=\"/about/greet/chief/act/\" target=\"_self\">동정·주요활동</a>\\r\\n\\t\\t\\t\\t\\t\\t\\t\\t</li>\\r\\n\\t\\t\\t\\t\\t\\t\\t\\r\\n\\t\\t\\t\\t\\t\\t\\t\\t<li class=\"\">\\r\\n\\t\\t\\t\\t\\t\\t\\t\\t\\t<a class=\"a4\" href=\"/about/greet/chief/expense/\" target=\"_self\">총장 업무추진비</a>\\r\\n\\t\\t\\t\\t\\t\\t\\t\\t</li>\\r\\n\\t\\t\\t\\t\\t\\t\\t\\r\\n\\t\\t\\t\\t\\t\\t\\t</ul>\\r\\n\\t\\t\\t\\t\\t\\t</li>\\r\\n\\t\\t\\t\\t\\t\\r\\n\\t\\t\\t\\t\\t\\t<li class=\"\">\\r\\n\\t\\t\\t\\t\\t\\t\\t<a class=\"a3\" href=\"/about/greet/chairman/\" target=\"_self\">이사장 인사말</a>\\r\\n\\t\\t\\t\\t\\t\\t\\t<ul class=\"dep4 \" >\\r\\n\\t\\t\\t\\t\\t\\t\\t\\r\\n\\t\\t\\t\\t\\t\\t\\t</ul>\\r\\n\\t\\t\\t\\t\\t\\t</li>\\r\\n\\t\\t\\t\\t\\t\\r\\n\\t\\t\\t\\t\\t\\t<li class=\"\">\\r\\n\\t\\t\\t\\t\\t\\t\\t<a class=\"a3\" href=\"/about/greet/honorary/\" target=\"_self\">명예총장 인사말</a>\\r\\n\\t\\t\\t\\t\\t\\t\\t<ul class=\"dep4 \" >\\r\\n\\t\\t\\t\\t\\t\\t\\t\\r\\n\\t\\t\\t\\t\\t\\t\\t</ul>\\r\\n\\t\\t\\t\\t\\t\\t</li>\\r\\n\\t\\t\\t\\t\\t\\r\\n\\t\\t\\t\\t\\t</ul>\\r\\n\\t\\t\\t\\t</li>\\r\\n\\t\\t\\t\\r\\n\\t\\t\\t\\t<li class=\"\">\\r\\n\\t\\t\\t\\t\\t<a class=\"a2s\" href=\"/about/vision/\"  target=\"_self\">이념과 비전</a>\\r\\n\\t\\t\\t\\t\\t<ul class=\"dep3 \" >\\r\\n\\t\\t\\t\\t\\t\\r\\n\\t\\t\\t\\t\\t\\t<li class=\"\">\\r\\n\\t\\t\\t\\t\\t\\t\\t<a class=\"a3\" href=\"/about/vision/idea/\" target=\"_self\">교육이념</a>\\r\\n\\t\\t\\t\\t\\t\\t\\t<ul class=\"dep4 \" >\\r\\n\\t\\t\\t\\t\\t\\t\\t\\r\\n\\t\\t\\t\\t\\t\\t\\t</ul>\\r\\n\\t\\t\\t\\t\\t\\t</li>\\r\\n\\t\\t\\t\\t\\t\\r\\n\\t\\t\\t\\t\\t\\t<li class=\"\">\\r\\n\\t\\t\\t\\t\\t\\t\\t<a class=\"a3\" href=\"/about/vision/reform/\" target=\"_self\">교육개혁방향</a>\\r\\n\\t\\t\\t\\t\\t\\t\\t<ul class=\"dep4 \" >\\r\\n\\t\\t\\t\\t\\t\\t\\t\\r\\n\\t\\t\\t\\t\\t\\t\\t</ul>\\r\\n\\t\\t\\t\\t\\t\\t</li>\\r\\n\\t\\t\\t\\t\\t\\r\\n\\t\\t\\t\\t\\t\\t<li class=\"\">\\r\\n\\t\\t\\t\\t\\t\\t\\t<a class=\"a3\" href=\"/about/vision/declar/\" target=\"_self\">한동 선언문 모음</a>\\r\\n\\t\\t\\t\\t\\t\\t\\t<ul class=\"dep4 \" >\\r\\n\\t\\t\\t\\t\\t\\t\\t\\r\\n\\t\\t\\t\\t\\t\\t\\t</ul>\\r\\n\\t\\t\\t\\t\\t\\t</li>\\r\\n\\t\\t\\t\\t\\t\\r\\n\\t\\t\\t\\t\\t\\t<li class=\"\">\\r\\n\\t\\t\\t\\t\\t\\t\\t<a class=\"a3\" href=\"/about/vision/3vision/\" target=\"_self\">3대 비전</a>\\r\\n\\t\\t\\t\\t\\t\\t\\t<ul class=\"dep4 \" >\\r\\n\\t\\t\\t\\t\\t\\t\\t\\r\\n\\t\\t\\t\\t\\t\\t\\t</ul>\\r\\n\\t\\t\\t\\t\\t\\t</li>\\r\\n\\t\\t\\t\\t\\t\\r\\n\\t\\t\\t\\t\\t\\t<li class=\"\">\\r\\n\\t\\t\\t\\t\\t\\t\\t<a class=\"a3s\" href=\"/about/vision/V2025/\" target=\"_self\">Vision 2025</a>\\r\\n\\t\\t\\t\\t\\t\\t\\t<ul class=\"dep4 \" >\\r\\n\\t\\t\\t\\t\\t\\t\\t\\r\\n\\t\\t\\t\\t\\t\\t\\t\\t<li class=\"\">\\r\\n\\t\\t\\t\\t\\t\\t\\t\\t\\t<a class=\"a4\" href=\"/about/vision/V2020/slogan/\" target=\"_self\">Slogan & Statement</a>\\r\\n\\t\\t\\t\\t\\t\\t\\t\\t</li>\\r\\n\\t\\t\\t\\t\\t\\t\\t\\r\\n\\t\\t\\t\\t\\t\\t\\t\\t<li class=\"\">\\r\\n\\t\\t\\t\\t\\t\\t\\t\\t\\t<a class=\"a4\" href=\"/about/vision/V2020/vision2025/\" target=\"_self\">Vision2025</a>\\r\\n\\t\\t\\t\\t\\t\\t\\t\\t</li>\\r\\n\\t\\t\\t\\t\\t\\t\\t\\r\\n\\t\\t\\t\\t\\t\\t\\t\\t<li class=\"\">\\r\\n\\t\\t\\t\\t\\t\\t\\t\\t\\t<a class=\"a4\" href=\"/about/vision/V2020/goal/\" target=\"_self\">Goals</a>\\r\\n\\t\\t\\t\\t\\t\\t\\t\\t</li>\\r\\n\\t\\t\\t\\t\\t\\t\\t\\r\\n\\t\\t\\t\\t\\t\\t\\t\\t<li class=\"\">\\r\\n\\t\\t\\t\\t\\t\\t\\t\\t\\t<a class=\"a4\" href=\"/about/vision/V2020/talent/\" target=\"_self\">Handong\\'s Talent</a>\\r\\n\\t\\t\\t\\t\\t\\t\\t\\t</li>\\r\\n\\t\\t\\t\\t\\t\\t\\t\\r\\n\\t\\t\\t\\t\\t\\t\\t\\t<li class=\"\">\\r\\n\\t\\t\\t\\t\\t\\t\\t\\t\\t<a class=\"a4\" href=\"/about/vision/V2020/principle/\" target=\"_self\">Operating Principles</a>\\r\\n\\t\\t\\t\\t\\t\\t\\t\\t</li>\\r\\n\\t\\t\\t\\t\\t\\t\\t\\r\\n\\t\\t\\t\\t\\t\\t\\t\\t<li class=\"\">\\r\\n\\t\\t\\t\\t\\t\\t\\t\\t\\t<a class=\"a4\" href=\"/about/vision/V2020/business/\" target=\"_self\">10대 전략사업</a>\\r\\n\\t\\t\\t\\t\\t\\t\\t\\t</li>\\r\\n\\t\\t\\t\\t\\t\\t\\t\\r\\n\\t\\t\\t\\t\\t\\t\\t</ul>\\r\\n\\t\\t\\t\\t\\t\\t</li>\\r\\n\\t\\t\\t\\t\\t\\r\\n\\t\\t\\t\\t\\t</ul>\\r\\n\\t\\t\\t\\t</li>\\r\\n\\t\\t\\t\\r\\n\\t\\t\\t\\t<li class=\"\">\\r\\n\\t\\t\\t\\t\\t<a class=\"a2s\" href=\"/about/history/\"  target=\"_self\">한동의 역사</a>\\r\\n\\t\\t\\t\\t\\t<ul class=\"dep3 \" >\\r\\n\\t\\t\\t\\t\\t\\r\\n\\t\\t\\t\\t\\t\\t<li class=\"\">\\r\\n\\t\\t\\t\\t\\t\\t\\t<a class=\"a3s\" href=\"/about/history/history/\" target=\"_self\">한동대연혁</a>\\r\\n\\t\\t\\t\\t\\t\\t\\t<ul class=\"dep4 \" >\\r\\n\\t\\t\\t\\t\\t\\t\\t\\r\\n\\t\\t\\t\\t\\t\\t\\t\\t<li class=\"\">\\r\\n\\t\\t\\t\\t\\t\\t\\t\\t\\t<a class=\"a4\" href=\"/about/history/history/20~16/\" target=\"_self\">2018~2016</a>\\r\\n\\t\\t\\t\\t\\t\\t\\t\\t</li>\\r\\n\\t\\t\\t\\t\\t\\t\\t\\r\\n\\t\\t\\t\\t\\t\\t\\t\\t<li class=\"\">\\r\\n\\t\\t\\t\\t\\t\\t\\t\\t\\t<a class=\"a4\" href=\"/about/history/history/16~11/\" target=\"_self\">2015~2011</a>\\r\\n\\t\\t\\t\\t\\t\\t\\t\\t</li>\\r\\n\\t\\t\\t\\t\\t\\t\\t\\r\\n\\t\\t\\t\\t\\t\\t\\t\\t<li class=\"\">\\r\\n\\t\\t\\t\\t\\t\\t\\t\\t\\t<a class=\"a4\" href=\"/about/history/history/10~06/\" target=\"_self\">2010~2006</a>\\r\\n\\t\\t\\t\\t\\t\\t\\t\\t</li>\\r\\n\\t\\t\\t\\t\\t\\t\\t\\r\\n\\t\\t\\t\\t\\t\\t\\t\\t<li class=\"\">\\r\\n\\t\\t\\t\\t\\t\\t\\t\\t\\t<a class=\"a4\" href=\"/about/history/history/05~01/\" target=\"_self\">2005~2001</a>\\r\\n\\t\\t\\t\\t\\t\\t\\t\\t</li>\\r\\n\\t\\t\\t\\t\\t\\t\\t\\r\\n\\t\\t\\t\\t\\t\\t\\t\\t<li class=\"\">\\r\\n\\t\\t\\t\\t\\t\\t\\t\\t\\t<a class=\"a4\" href=\"/about/history/history/00~96/\" target=\"_self\">2000~1996</a>\\r\\n\\t\\t\\t\\t\\t\\t\\t\\t</li>\\r\\n\\t\\t\\t\\t\\t\\t\\t\\r\\n\\t\\t\\t\\t\\t\\t\\t\\t<li class=\"\">\\r\\n\\t\\t\\t\\t\\t\\t\\t\\t\\t<a class=\"a4\" href=\"/about/history/history/95~92/\" target=\"_self\">1995~1992</a>\\r\\n\\t\\t\\t\\t\\t\\t\\t\\t</li>\\r\\n\\t\\t\\t\\t\\t\\t\\t\\r\\n\\t\\t\\t\\t\\t\\t\\t</ul>\\r\\n\\t\\t\\t\\t\\t\\t</li>\\r\\n\\t\\t\\t\\t\\t\\r\\n\\t\\t\\t\\t\\t\\t<li class=\"\">\\r\\n\\t\\t\\t\\t\\t\\t\\t<a class=\"a3\" href=\"/about/history/video/\" target=\"_self\">영상자료</a>\\r\\n\\t\\t\\t\\t\\t\\t\\t<ul class=\"dep4 \" >\\r\\n\\t\\t\\t\\t\\t\\t\\t\\r\\n\\t\\t\\t\\t\\t\\t\\t</ul>\\r\\n\\t\\t\\t\\t\\t\\t</li>\\r\\n\\t\\t\\t\\t\\t\\r\\n\\t\\t\\t\\t\\t\\t<li class=\"\">\\r\\n\\t\\t\\t\\t\\t\\t\\t<a class=\"a3\" href=\"/about/history/picture/\" target=\"_self\">사진자료</a>\\r\\n\\t\\t\\t\\t\\t\\t\\t<ul class=\"dep4 \" >\\r\\n\\t\\t\\t\\t\\t\\t\\t\\r\\n\\t\\t\\t\\t\\t\\t\\t</ul>\\r\\n\\t\\t\\t\\t\\t\\t</li>\\r\\n\\t\\t\\t\\t\\t\\r\\n\\t\\t\\t\\t\\t</ul>\\r\\n\\t\\t\\t\\t</li>\\r\\n\\t\\t\\t\\r\\n\\t\\t\\t\\t<li class=\"\">\\r\\n\\t\\t\\t\\t\\t<a class=\"a2s\" href=\"/about/symbol/\"  target=\"_self\">한동의 상징</a>\\r\\n\\t\\t\\t\\t\\t<ul class=\"dep3 \" >\\r\\n\\t\\t\\t\\t\\t\\r\\n\\t\\t\\t\\t\\t\\t<li class=\"\">\\r\\n\\t\\t\\t\\t\\t\\t\\t<a class=\"a3\" href=\"/about/symbol/object/\" target=\"_self\">대학상징물</a>\\r\\n\\t\\t\\t\\t\\t\\t\\t<ul class=\"dep4 \" >\\r\\n\\t\\t\\t\\t\\t\\t\\t\\r\\n\\t\\t\\t\\t\\t\\t\\t</ul>\\r\\n\\t\\t\\t\\t\\t\\t</li>\\r\\n\\t\\t\\t\\t\\t\\r\\n\\t\\t\\t\\t\\t\\t<li class=\"\">\\r\\n\\t\\t\\t\\t\\t\\t\\t<a class=\"a3\" href=\"/about/symbol/songs/\" target=\"_self\">교가/로고송</a>\\r\\n\\t\\t\\t\\t\\t\\t\\t<ul class=\"dep4 \" >\\r\\n\\t\\t\\t\\t\\t\\t\\t\\r\\n\\t\\t\\t\\t\\t\\t\\t</ul>\\r\\n\\t\\t\\t\\t\\t\\t</li>\\r\\n\\t\\t\\t\\t\\t\\r\\n\\t\\t\\t\\t\\t\\t<li class=\"\">\\r\\n\\t\\t\\t\\t\\t\\t\\t<a class=\"a3s\" href=\"/about/symbol/UI/\" target=\"_self\">한동대 UI</a>\\r\\n\\t\\t\\t\\t\\t\\t\\t<ul class=\"dep4 \" >\\r\\n\\t\\t\\t\\t\\t\\t\\t\\r\\n\\t\\t\\t\\t\\t\\t\\t\\t<li class=\"\">\\r\\n\\t\\t\\t\\t\\t\\t\\t\\t\\t<a class=\"a4\" href=\"/about/symbol/UI/logo/\" target=\"_self\">심볼로고</a>\\r\\n\\t\\t\\t\\t\\t\\t\\t\\t</li>\\r\\n\\t\\t\\t\\t\\t\\t\\t\\r\\n\\t\\t\\t\\t\\t\\t\\t\\t<li class=\"\">\\r\\n\\t\\t\\t\\t\\t\\t\\t\\t\\t<a class=\"a4\" href=\"/about/symbol/UI/sign/\" target=\"_self\">시그니춰</a>\\r\\n\\t\\t\\t\\t\\t\\t\\t\\t</li>\\r\\n\\t\\t\\t\\t\\t\\t\\t\\r\\n\\t\\t\\t\\t\\t\\t\\t\\t<li class=\"\">\\r\\n\\t\\t\\t\\t\\t\\t\\t\\t\\t<a class=\"a4\" href=\"/about/symbol/UI/emblem/\" target=\"_self\">엠블렘</a>\\r\\n\\t\\t\\t\\t\\t\\t\\t\\t</li>\\r\\n\\t\\t\\t\\t\\t\\t\\t\\r\\n\\t\\t\\t\\t\\t\\t\\t\\t<li class=\"\">\\r\\n\\t\\t\\t\\t\\t\\t\\t\\t\\t<a class=\"a4\" href=\"/about/symbol/UI/color/\" target=\"_self\">상징색</a>\\r\\n\\t\\t\\t\\t\\t\\t\\t\\t</li>\\r\\n\\t\\t\\t\\t\\t\\t\\t\\r\\n\\t\\t\\t\\t\\t\\t\\t</ul>\\r\\n\\t\\t\\t\\t\\t\\t</li>\\r\\n\\t\\t\\t\\t\\t\\r\\n\\t\\t\\t\\t\\t</ul>\\r\\n\\t\\t\\t\\t</li>\\r\\n\\t\\t\\t\\r\\n\\t\\t\\t\\t<li class=\"\">\\r\\n\\t\\t\\t\\t\\t<a class=\"a2s\" href=\"/about/edu/\"  target=\"_self\">한동의 교육</a>\\r\\n\\t\\t\\t\\t\\t<ul class=\"dep3 \" >\\r\\n\\t\\t\\t\\t\\t\\r\\n\\t\\t\\t\\t\\t\\t<li class=\"\">\\r\\n\\t\\t\\t\\t\\t\\t\\t<a class=\"a3\" href=\"/about/edu/system/\" target=\"_self\">교육체계</a>\\r\\n\\t\\t\\t\\t\\t\\t\\t<ul class=\"dep4 \" >\\r\\n\\t\\t\\t\\t\\t\\t\\t\\r\\n\\t\\t\\t\\t\\t\\t\\t</ul>\\r\\n\\t\\t\\t\\t\\t\\t</li>\\r\\n\\t\\t\\t\\t\\t\\r\\n\\t\\t\\t\\t\\t\\t<li class=\"\">\\r\\n\\t\\t\\t\\t\\t\\t\\t<a class=\"a3\" href=\"/about/edu/global/\" target=\"_self\">국제화 교육</a>\\r\\n\\t\\t\\t\\t\\t\\t\\t<ul class=\"dep4 \" >\\r\\n\\t\\t\\t\\t\\t\\t\\t\\r\\n\\t\\t\\t\\t\\t\\t\\t</ul>\\r\\n\\t\\t\\t\\t\\t\\t</li>\\r\\n\\t\\t\\t\\t\\t\\r\\n\\t\\t\\t\\t\\t\\t<li class=\"\">\\r\\n\\t\\t\\t\\t\\t\\t\\t<a class=\"a3\" href=\"/about/edu/expert/\" target=\"_self\">전문성 교육</a>\\r\\n\\t\\t\\t\\t\\t\\t\\t<ul class=\"dep4 \" >\\r\\n\\t\\t\\t\\t\\t\\t\\t\\r\\n\\t\\t\\t\\t\\t\\t\\t</ul>\\r\\n\\t\\t\\t\\t\\t\\t</li>\\r\\n\\t\\t\\t\\t\\t\\r\\n\\t\\t\\t\\t\\t\\t<li class=\"\">\\r\\n\\t\\t\\t\\t\\t\\t\\t<a class=\"a3\" href=\"/about/edu/character/\" target=\"_self\">인성 (정직성) 교육</a>\\r\\n\\t\\t\\t\\t\\t\\t\\t<ul class=\"dep4 \" >\\r\\n\\t\\t\\t\\t\\t\\t\\t\\r\\n\\t\\t\\t\\t\\t\\t\\t</ul>\\r\\n\\t\\t\\t\\t\\t\\t</li>\\r\\n\\t\\t\\t\\t\\t\\r\\n\\t\\t\\t\\t\\t\\t<li class=\"\">\\r\\n\\t\\t\\t\\t\\t\\t\\t<a class=\"a3\" href=\"/about/edu/belief/\" target=\"_self\">신앙교육</a>\\r\\n\\t\\t\\t\\t\\t\\t\\t<ul class=\"dep4 \" >\\r\\n\\t\\t\\t\\t\\t\\t\\t\\r\\n\\t\\t\\t\\t\\t\\t\\t</ul>\\r\\n\\t\\t\\t\\t\\t\\t</li>\\r\\n\\t\\t\\t\\t\\t\\r\\n\\t\\t\\t\\t\\t</ul>\\r\\n\\t\\t\\t\\t</li>\\r\\n\\t\\t\\t\\r\\n\\t\\t\\t\\t<li class=\"\">\\r\\n\\t\\t\\t\\t\\t<a class=\"a2s\" href=\"/about/intro/\"  target=\"_self\">대학현황</a>\\r\\n\\t\\t\\t\\t\\t<ul class=\"dep3 \" >\\r\\n\\t\\t\\t\\t\\t\\r\\n\\t\\t\\t\\t\\t\\t<li class=\"\">\\r\\n\\t\\t\\t\\t\\t\\t\\t<a class=\"a3\" href=\"/about/intro/general/\" target=\"_self\">일반현황</a>\\r\\n\\t\\t\\t\\t\\t\\t\\t<ul class=\"dep4 \" >\\r\\n\\t\\t\\t\\t\\t\\t\\t\\r\\n\\t\\t\\t\\t\\t\\t\\t</ul>\\r\\n\\t\\t\\t\\t\\t\\t</li>\\r\\n\\t\\t\\t\\t\\t\\r\\n\\t\\t\\t\\t\\t\\t<li class=\"\">\\r\\n\\t\\t\\t\\t\\t\\t\\t<a class=\"a3\" href=\"/about/intro/chart/\" target=\"_self\">대학조직도</a>\\r\\n\\t\\t\\t\\t\\t\\t\\t<ul class=\"dep4 \" >\\r\\n\\t\\t\\t\\t\\t\\t\\t\\r\\n\\t\\t\\t\\t\\t\\t\\t</ul>\\r\\n\\t\\t\\t\\t\\t\\t</li>\\r\\n\\t\\t\\t\\t\\t\\r\\n\\t\\t\\t\\t\\t\\t<li class=\"\">\\r\\n\\t\\t\\t\\t\\t\\t\\t<a class=\"a3\" href=\"/about/intro/rule/\" target=\"_self\">규정집</a>\\r\\n\\t\\t\\t\\t\\t\\t\\t<ul class=\"dep4 \" >\\r\\n\\t\\t\\t\\t\\t\\t\\t\\r\\n\\t\\t\\t\\t\\t\\t\\t</ul>\\r\\n\\t\\t\\t\\t\\t\\t</li>\\r\\n\\t\\t\\t\\t\\t\\r\\n\\t\\t\\t\\t\\t\\t<li class=\"\">\\r\\n\\t\\t\\t\\t\\t\\t\\t<a class=\"a3\" href=\"http://www.academyinfo.go.kr/popup/pubinfo1690/list.do?schlId=0000196\" target=\"_blank\">대학정보공시</a>\\r\\n\\t\\t\\t\\t\\t\\t\\t<ul class=\"dep4 \" >\\r\\n\\t\\t\\t\\t\\t\\t\\t\\r\\n\\t\\t\\t\\t\\t\\t\\t</ul>\\r\\n\\t\\t\\t\\t\\t\\t</li>\\r\\n\\t\\t\\t\\t\\t\\r\\n\\t\\t\\t\\t\\t</ul>\\r\\n\\t\\t\\t\\t</li>\\r\\n\\t\\t\\t\\r\\n\\t\\t\\t\\t<li class=\"\">\\r\\n\\t\\t\\t\\t\\t<a class=\"a2s\" href=\"/about/institute/\"  target=\"_self\">대학기관</a>\\r\\n\\t\\t\\t\\t\\t<ul class=\"dep3 \" >\\r\\n\\t\\t\\t\\t\\t\\r\\n\\t\\t\\t\\t\\t\\t<li class=\"\">\\r\\n\\t\\t\\t\\t\\t\\t\\t<a class=\"a3s\" href=\"/about/institute/corp/\" target=\"_self\">법인</a>\\r\\n\\t\\t\\t\\t\\t\\t\\t<ul class=\"dep4 \" >\\r\\n\\t\\t\\t\\t\\t\\t\\t\\r\\n\\t\\t\\t\\t\\t\\t\\t\\t<li class=\"\">\\r\\n\\t\\t\\t\\t\\t\\t\\t\\t\\t<a class=\"a4\" href=\"/about/institute/corp/department/\" target=\"_self\">법인사무처</a>\\r\\n\\t\\t\\t\\t\\t\\t\\t\\t</li>\\r\\n\\t\\t\\t\\t\\t\\t\\t\\r\\n\\t\\t\\t\\t\\t\\t\\t\\t<li class=\"\">\\r\\n\\t\\t\\t\\t\\t\\t\\t\\t\\t<a class=\"a4\" href=\"/about/institute/corp/board/\" target=\"_self\">이사회</a>\\r\\n\\t\\t\\t\\t\\t\\t\\t\\t</li>\\r\\n\\t\\t\\t\\t\\t\\t\\t\\r\\n\\t\\t\\t\\t\\t\\t\\t</ul>\\r\\n\\t\\t\\t\\t\\t\\t</li>\\r\\n\\t\\t\\t\\t\\t\\r\\n\\t\\t\\t\\t\\t\\t<li class=\"\">\\r\\n\\t\\t\\t\\t\\t\\t\\t<a class=\"a3s\" href=\"/about/institute/head/\" target=\"_self\">본부</a>\\r\\n\\t\\t\\t\\t\\t\\t\\t<ul class=\"dep4 \" >\\r\\n\\t\\t\\t\\t\\t\\t\\t\\r\\n\\t\\t\\t\\t\\t\\t\\t\\t<li class=\"\">\\r\\n\\t\\t\\t\\t\\t\\t\\t\\t\\t<a class=\"a4\" href=\"/about/institute/head/chaplaincy/\" target=\"_self\">교목실</a>\\r\\n\\t\\t\\t\\t\\t\\t\\t\\t</li>\\r\\n\\t\\t\\t\\t\\t\\t\\t\\r\\n\\t\\t\\t\\t\\t\\t\\t\\t<li class=\"\">\\r\\n\\t\\t\\t\\t\\t\\t\\t\\t\\t<a class=\"a4\" href=\"/about/institute/head/project/\" target=\"_self\">기획처</a>\\r\\n\\t\\t\\t\\t\\t\\t\\t\\t</li>\\r\\n\\t\\t\\t\\t\\t\\t\\t\\r\\n\\t\\t\\t\\t\\t\\t\\t\\t<li class=\"\">\\r\\n\\t\\t\\t\\t\\t\\t\\t\\t\\t<a class=\"a4\" href=\"/about/institute/head/global/\" target=\"_self\">국제처</a>\\r\\n\\t\\t\\t\\t\\t\\t\\t\\t</li>\\r\\n\\t\\t\\t\\t\\t\\t\\t\\r\\n\\t\\t\\t\\t\\t\\t\\t\\t<li class=\"\">\\r\\n\\t\\t\\t\\t\\t\\t\\t\\t\\t<a class=\"a4\" href=\"/about/institute/head/faculty/\" target=\"_self\">교무처</a>\\r\\n\\t\\t\\t\\t\\t\\t\\t\\t</li>\\r\\n\\t\\t\\t\\t\\t\\t\\t\\r\\n\\t\\t\\t\\t\\t\\t\\t\\t<li class=\"\">\\r\\n\\t\\t\\t\\t\\t\\t\\t\\t\\t<a class=\"a4\" href=\"/about/institute/head/admission/\" target=\"_self\">입학처</a>\\r\\n\\t\\t\\t\\t\\t\\t\\t\\t</li>\\r\\n\\t\\t\\t\\t\\t\\t\\t\\r\\n\\t\\t\\t\\t\\t\\t\\t\\t<li class=\"\">\\r\\n\\t\\t\\t\\t\\t\\t\\t\\t\\t<a class=\"a4\" href=\"/about/institute/head/students/\" target=\"_self\">학생처</a>\\r\\n\\t\\t\\t\\t\\t\\t\\t\\t</li>\\r\\n\\t\\t\\t\\t\\t\\t\\t\\r\\n\\t\\t\\t\\t\\t\\t\\t\\t<li class=\"\">\\r\\n\\t\\t\\t\\t\\t\\t\\t\\t\\t<a class=\"a4\" href=\"/about/institute/head/office/\" target=\"_self\">사무처</a>\\r\\n\\t\\t\\t\\t\\t\\t\\t\\t</li>\\r\\n\\t\\t\\t\\t\\t\\t\\t\\r\\n\\t\\t\\t\\t\\t\\t\\t\\t<li class=\"\">\\r\\n\\t\\t\\t\\t\\t\\t\\t\\t\\t<a class=\"a4\" href=\"/about/institute/head/indus-edu-lab/\" target=\"_self\">산학연구인재개발처</a>\\r\\n\\t\\t\\t\\t\\t\\t\\t\\t</li>\\r\\n\\t\\t\\t\\t\\t\\t\\t\\r\\n\\t\\t\\t\\t\\t\\t\\t\\t<li class=\"\">\\r\\n\\t\\t\\t\\t\\t\\t\\t\\t\\t<a class=\"a4\" href=\"/about/institute/head/scholar-imform/\" target=\"_self\">학술정보처</a>\\r\\n\\t\\t\\t\\t\\t\\t\\t\\t</li>\\r\\n\\t\\t\\t\\t\\t\\t\\t\\r\\n\\t\\t\\t\\t\\t\\t\\t\\t<li class=\"\">\\r\\n\\t\\t\\t\\t\\t\\t\\t\\t\\t<a class=\"a4\" href=\"/about/institute/head/indus-edu-org/\" target=\"_self\">산학협력단</a>\\r\\n\\t\\t\\t\\t\\t\\t\\t\\t</li>\\r\\n\\t\\t\\t\\t\\t\\t\\t\\r\\n\\t\\t\\t\\t\\t\\t\\t\\t<li class=\"\">\\r\\n\\t\\t\\t\\t\\t\\t\\t\\t\\t<a class=\"a4\" href=\"/about/institute/head/cooperation/\" target=\"_self\">대외협력실</a>\\r\\n\\t\\t\\t\\t\\t\\t\\t\\t</li>\\r\\n\\t\\t\\t\\t\\t\\t\\t\\r\\n\\t\\t\\t\\t\\t\\t\\t\\t<li class=\"\">\\r\\n\\t\\t\\t\\t\\t\\t\\t\\t\\t<a class=\"a4\" href=\"/about/institute/head/secretary/\" target=\"_self\">비서실</a>\\r\\n\\t\\t\\t\\t\\t\\t\\t\\t</li>\\r\\n\\t\\t\\t\\t\\t\\t\\t\\r\\n\\t\\t\\t\\t\\t\\t\\t</ul>\\r\\n\\t\\t\\t\\t\\t\\t</li>\\r\\n\\t\\t\\t\\t\\t\\r\\n\\t\\t\\t\\t\\t\\t<li class=\"\">\\r\\n\\t\\t\\t\\t\\t\\t\\t<a class=\"a3s\" href=\"/about/institute/gradschool/\" target=\"_self\">대학원</a>\\r\\n\\t\\t\\t\\t\\t\\t\\t<ul class=\"dep4 \" >\\r\\n\\t\\t\\t\\t\\t\\t\\t\\r\\n\\t\\t\\t\\t\\t\\t\\t\\t<li class=\"\">\\r\\n\\t\\t\\t\\t\\t\\t\\t\\t\\t<a class=\"a4\" href=\"/about/institute/gradschool/grad/\" target=\"_self\">대학원</a>\\r\\n\\t\\t\\t\\t\\t\\t\\t\\t</li>\\r\\n\\t\\t\\t\\t\\t\\t\\t\\r\\n\\t\\t\\t\\t\\t\\t\\t\\t<li class=\"\">\\r\\n\\t\\t\\t\\t\\t\\t\\t\\t\\t<a class=\"a4\" href=\"/about/institute/gradschool/inter-lawschool/\" target=\"_self\">국제법률대학원</a>\\r\\n\\t\\t\\t\\t\\t\\t\\t\\t</li>\\r\\n\\t\\t\\t\\t\\t\\t\\t\\r\\n\\t\\t\\t\\t\\t\\t\\t</ul>\\r\\n\\t\\t\\t\\t\\t\\t</li>\\r\\n\\t\\t\\t\\t\\t\\r\\n\\t\\t\\t\\t\\t\\t<li class=\"\">\\r\\n\\t\\t\\t\\t\\t\\t\\t<a class=\"a3s\" href=\"/about/institute/part/\" target=\"_self\">부속기관</a>\\r\\n\\t\\t\\t\\t\\t\\t\\t<ul class=\"dep4 \" >\\r\\n\\t\\t\\t\\t\\t\\t\\t\\r\\n\\t\\t\\t\\t\\t\\t\\t\\t<li class=\"\">\\r\\n\\t\\t\\t\\t\\t\\t\\t\\t\\t<a class=\"a4\" href=\"/about/institute/part/engineer/\" target=\"_self\">공학교육혁신센터</a>\\r\\n\\t\\t\\t\\t\\t\\t\\t\\t</li>\\r\\n\\t\\t\\t\\t\\t\\t\\t\\r\\n\\t\\t\\t\\t\\t\\t\\t\\t<li class=\"\">\\r\\n\\t\\t\\t\\t\\t\\t\\t\\t\\t<a class=\"a4\" href=\"/about/institute/part/counsel/\" target=\"_self\">상담센터</a>\\r\\n\\t\\t\\t\\t\\t\\t\\t\\t</li>\\r\\n\\t\\t\\t\\t\\t\\t\\t\\r\\n\\t\\t\\t\\t\\t\\t\\t\\t<li class=\"\">\\r\\n\\t\\t\\t\\t\\t\\t\\t\\t\\t<a class=\"a4\" href=\"/about/institute/part/edu-develop/\" target=\"_self\">한동교육개발원</a>\\r\\n\\t\\t\\t\\t\\t\\t\\t\\t</li>\\r\\n\\t\\t\\t\\t\\t\\t\\t\\r\\n\\t\\t\\t\\t\\t\\t\\t\\t<li class=\"\">\\r\\n\\t\\t\\t\\t\\t\\t\\t\\t\\t<a class=\"a4\" href=\"/about/institute/part/edu/\" target=\"_self\">글로벌 미래 평생교육원</a>\\r\\n\\t\\t\\t\\t\\t\\t\\t\\t</li>\\r\\n\\t\\t\\t\\t\\t\\t\\t\\r\\n\\t\\t\\t\\t\\t\\t\\t\\t<li class=\"\">\\r\\n\\t\\t\\t\\t\\t\\t\\t\\t\\t<a class=\"a4\" href=\"/about/institute/part/language/\" target=\"_self\">언어교육원</a>\\r\\n\\t\\t\\t\\t\\t\\t\\t\\t</li>\\r\\n\\t\\t\\t\\t\\t\\t\\t\\r\\n\\t\\t\\t\\t\\t\\t\\t\\t<li class=\"\">\\r\\n\\t\\t\\t\\t\\t\\t\\t\\t\\t<a class=\"a4\" href=\"/about/institute/part/hbic/\" target=\"_self\">창업보육센터</a>\\r\\n\\t\\t\\t\\t\\t\\t\\t\\t</li>\\r\\n\\t\\t\\t\\t\\t\\t\\t\\r\\n\\t\\t\\t\\t\\t\\t\\t\\t<li class=\"\">\\r\\n\\t\\t\\t\\t\\t\\t\\t\\t\\t<a class=\"a4\" href=\"/about/institute/part/green/\" target=\"_self\">그린적정연구협력센터</a>\\r\\n\\t\\t\\t\\t\\t\\t\\t\\t</li>\\r\\n\\t\\t\\t\\t\\t\\t\\t\\r\\n\\t\\t\\t\\t\\t\\t\\t\\t<li class=\"\">\\r\\n\\t\\t\\t\\t\\t\\t\\t\\t\\t<a class=\"a4\" href=\"/about/institute/part/press/\" target=\"_self\">한동신문사</a>\\r\\n\\t\\t\\t\\t\\t\\t\\t\\t</li>\\r\\n\\t\\t\\t\\t\\t\\t\\t\\r\\n\\t\\t\\t\\t\\t\\t\\t\\t<li class=\"\">\\r\\n\\t\\t\\t\\t\\t\\t\\t\\t\\t<a class=\"a4\" href=\"/about/institute/part/international/\" target=\"_self\">국제개발협력센터</a>\\r\\n\\t\\t\\t\\t\\t\\t\\t\\t</li>\\r\\n\\t\\t\\t\\t\\t\\t\\t\\r\\n\\t\\t\\t\\t\\t\\t\\t\\t<li class=\"\">\\r\\n\\t\\t\\t\\t\\t\\t\\t\\t\\t<a class=\"a4\" href=\"/about/institute/part/law/\" target=\"_self\">공익법센터</a>\\r\\n\\t\\t\\t\\t\\t\\t\\t\\t</li>\\r\\n\\t\\t\\t\\t\\t\\t\\t\\r\\n\\t\\t\\t\\t\\t\\t\\t\\t<li class=\"\">\\r\\n\\t\\t\\t\\t\\t\\t\\t\\t\\t<a class=\"a4\" href=\"/about/institute/part/global/\" target=\"_self\">글로벌창업센터</a>\\r\\n\\t\\t\\t\\t\\t\\t\\t\\t</li>\\r\\n\\t\\t\\t\\t\\t\\t\\t\\r\\n\\t\\t\\t\\t\\t\\t\\t\\t<li class=\"\">\\r\\n\\t\\t\\t\\t\\t\\t\\t\\t\\t<a class=\"a4\" href=\"/about/institute/part/child/\" target=\"_self\">어린이 급식관리 지원센터</a>\\r\\n\\t\\t\\t\\t\\t\\t\\t\\t</li>\\r\\n\\t\\t\\t\\t\\t\\t\\t\\r\\n\\t\\t\\t\\t\\t\\t\\t\\t<li class=\"\">\\r\\n\\t\\t\\t\\t\\t\\t\\t\\t\\t<a class=\"a4\" href=\"/about/institute/part/GGRI/\" target=\"_self\">글로벌녹색기술연구원</a>\\r\\n\\t\\t\\t\\t\\t\\t\\t\\t</li>\\r\\n\\t\\t\\t\\t\\t\\t\\t\\r\\n\\t\\t\\t\\t\\t\\t\\t\\t<li class=\"\">\\r\\n\\t\\t\\t\\t\\t\\t\\t\\t\\t<a class=\"a4\" href=\"/about/institute/part/software/\" target=\"_self\">소프트웨어중심대학지원사업단</a>\\r\\n\\t\\t\\t\\t\\t\\t\\t\\t</li>\\r\\n\\t\\t\\t\\t\\t\\t\\t\\r\\n\\t\\t\\t\\t\\t\\t\\t</ul>\\r\\n\\t\\t\\t\\t\\t\\t</li>\\r\\n\\t\\t\\t\\t\\t\\r\\n\\t\\t\\t\\t\\t</ul>\\r\\n\\t\\t\\t\\t</li>\\r\\n\\t\\t\\t\\r\\n\\t\\t\\t\\t<li class=\"\">\\r\\n\\t\\t\\t\\t\\t<a class=\"a2s\" href=\"/about/campus/\"  target=\"_self\">캠퍼스 안내</a>\\r\\n\\t\\t\\t\\t\\t<ul class=\"dep3 \" >\\r\\n\\t\\t\\t\\t\\t\\r\\n\\t\\t\\t\\t\\t\\t<li class=\"\">\\r\\n\\t\\t\\t\\t\\t\\t\\t<a class=\"a3s\" href=\"/about/campus/ways/\" target=\"_self\">학교오시는 길</a>\\r\\n\\t\\t\\t\\t\\t\\t\\t<ul class=\"dep4 \" >\\r\\n\\t\\t\\t\\t\\t\\t\\t\\r\\n\\t\\t\\t\\t\\t\\t\\t\\t<li class=\"\">\\r\\n\\t\\t\\t\\t\\t\\t\\t\\t\\t<a class=\"a4\" href=\"/about/campus/ways/express-bus/\" target=\"_self\">고속버스편</a>\\r\\n\\t\\t\\t\\t\\t\\t\\t\\t</li>\\r\\n\\t\\t\\t\\t\\t\\t\\t\\r\\n\\t\\t\\t\\t\\t\\t\\t\\t<li class=\"\">\\r\\n\\t\\t\\t\\t\\t\\t\\t\\t\\t<a class=\"a4\" href=\"/about/campus/ways/intercity-bus/\" target=\"_self\">시외버스편</a>\\r\\n\\t\\t\\t\\t\\t\\t\\t\\t</li>\\r\\n\\t\\t\\t\\t\\t\\t\\t\\r\\n\\t\\t\\t\\t\\t\\t\\t\\t<li class=\"\">\\r\\n\\t\\t\\t\\t\\t\\t\\t\\t\\t<a class=\"a4\" href=\"/about/campus/ways/KTX/\" target=\"_self\">KTX편</a>\\r\\n\\t\\t\\t\\t\\t\\t\\t\\t</li>\\r\\n\\t\\t\\t\\t\\t\\t\\t\\r\\n\\t\\t\\t\\t\\t\\t\\t\\t<li class=\"\">\\r\\n\\t\\t\\t\\t\\t\\t\\t\\t\\t<a class=\"a4\" href=\"/about/campus/ways/car/\" target=\"_self\">자가운전편</a>\\r\\n\\t\\t\\t\\t\\t\\t\\t\\t</li>\\r\\n\\t\\t\\t\\t\\t\\t\\t\\r\\n\\t\\t\\t\\t\\t\\t\\t\\t<li class=\"\">\\r\\n\\t\\t\\t\\t\\t\\t\\t\\t\\t<a class=\"a4\" href=\"/about/campus/ways/shuttle/\" target=\"_self\">셔틀버스</a>\\r\\n\\t\\t\\t\\t\\t\\t\\t\\t</li>\\r\\n\\t\\t\\t\\t\\t\\t\\t\\r\\n\\t\\t\\t\\t\\t\\t\\t</ul>\\r\\n\\t\\t\\t\\t\\t\\t</li>\\r\\n\\t\\t\\t\\t\\t\\r\\n\\t\\t\\t\\t\\t\\t<li class=\"\">\\r\\n\\t\\t\\t\\t\\t\\t\\t<a class=\"a3\" href=\"/about/campus/map/\" target=\"_self\">캠퍼스 맵</a>\\r\\n\\t\\t\\t\\t\\t\\t\\t<ul class=\"dep4 \" >\\r\\n\\t\\t\\t\\t\\t\\t\\t\\r\\n\\t\\t\\t\\t\\t\\t\\t</ul>\\r\\n\\t\\t\\t\\t\\t\\t</li>\\r\\n\\t\\t\\t\\t\\t\\r\\n\\t\\t\\t\\t\\t</ul>\\r\\n\\t\\t\\t\\t</li>\\r\\n\\t\\t\\t\\r\\n\\t\\t\\t\\r\\n\\t\\t\\t\\t<li class=\"link\">\\r\\n\\t\\t\\t\\t\\t<div class=\"tb22\">E-서비스</div>\\r\\n\\t\\t\\t\\t\\t<ul class=\"ul li\">\\r\\n\\t\\t\\t\\t\\t\\t<li><a href=\"http://sarang.handong.edu/campaign/support/\" target=\"_blank\" title=\"새창\">한동대 후원 참여</a></li>\\r\\n\\t\\t\\t\\t\\t\\t<li><a href=\"/about/campus/map/\">캠퍼스맵</a></li>\\r\\n\\t\\t\\t\\t\\t\\t<!--li><a href=\"http://i7.handong.edu/\" target=\"_blank\" title=\"새창\">i7 인트라넷</a></li-->\\r\\n\\t\\t\\t\\t\\t\\t<li><a href=\"/about/campus/ways/\">찾아오시는길</a></li>\\r\\n\\t\\t\\t\\t\\t\\t<li><a href=\"http://han.certpia.com/\" target=\"_blank\" title=\"새창\">온라인증명발급</a></li>\\r\\n\\t\\t\\t\\t\\t\\t<!--li><a href=\"/about/campus/telephone/\">교내전화번호안내</a></li-->\\r\\n\\t\\t\\t\\t\\t\\t<li><a href=\"/square/inform/account/\" >예결산공고</a></li>\\r\\n\\t\\t\\t\\t\\t\\t<li><a href=\"/about/intro/general/\">2015 대학자체평가</a></li>\\r\\n\\t\\t\\t\\t\\t\\t<li><a href=\"/square/offerdata/\">홍보자료신청</a></li>\\r\\n\\t\\t\\t\\t\\t\\t<li><a class=\"last\" href=\"/square/media/video/\">홍보영상</a></li>\\r\\n\\t\\t\\t\\t\\t</ul>\\r\\n\\t\\t\\t\\t</li>\\r\\n\\t\\t\\t</ul>\\r\\n\\t\\t\\t\\r\\n\\t\\t</div>\\r\\n\\t\\r\\n\\t\\t<div class=\"dep1\" tabindex=\"0\">대학·대학원</div>\\r\\n\\t\\t<div class=\"dep2\" >\\r\\n\\t\\t\\t<ul class=\"d2\">\\r\\n\\t\\t\\t\\r\\n\\t\\t\\t\\t<li class=\"\">\\r\\n\\t\\t\\t\\t\\t<a class=\"a2s\" href=\"/major/college/\"  target=\"_self\">대학</a>\\r\\n\\t\\t\\t\\t\\t<ul class=\"dep3 \" >\\r\\n\\t\\t\\t\\t\\t\\r\\n\\t\\t\\t\\t\\t\\t<li class=\"\">\\r\\n\\t\\t\\t\\t\\t\\t\\t<a class=\"a3\" href=\"/major/college/intro/\" target=\"_self\">학부소개</a>\\r\\n\\t\\t\\t\\t\\t\\t\\t<ul class=\"dep4 \" >\\r\\n\\t\\t\\t\\t\\t\\t\\t\\r\\n\\t\\t\\t\\t\\t\\t\\t</ul>\\r\\n\\t\\t\\t\\t\\t\\t</li>\\r\\n\\t\\t\\t\\t\\t\\r\\n\\t\\t\\t\\t\\t\\t<li class=\"\">\\r\\n\\t\\t\\t\\t\\t\\t\\t<a class=\"a3s\" href=\"/major/college/global-leadership/\" target=\"_self\">글로벌리더십학부</a>\\r\\n\\t\\t\\t\\t\\t\\t\\t<ul class=\"dep4 \" >\\r\\n\\t\\t\\t\\t\\t\\t\\t\\r\\n\\t\\t\\t\\t\\t\\t\\t\\t<li class=\"\">\\r\\n\\t\\t\\t\\t\\t\\t\\t\\t\\t<a class=\"a4\" href=\"/major/college/global-leadership/intro/\" target=\"_self\">학부소개/전망</a>\\r\\n\\t\\t\\t\\t\\t\\t\\t\\t</li>\\r\\n\\t\\t\\t\\t\\t\\t\\t\\r\\n\\t\\t\\t\\t\\t\\t\\t\\t<li class=\"\">\\r\\n\\t\\t\\t\\t\\t\\t\\t\\t\\t<a class=\"a4\" href=\"/major/college/global-leadership/faculty/\" target=\"_self\">교수진소개</a>\\r\\n\\t\\t\\t\\t\\t\\t\\t\\t</li>\\r\\n\\t\\t\\t\\t\\t\\t\\t\\r\\n\\t\\t\\t\\t\\t\\t\\t\\t<li class=\"\">\\r\\n\\t\\t\\t\\t\\t\\t\\t\\t\\t<a class=\"a4\" href=\"http://ibook.handong.edu/Viewer/25AYB5ZSUHI2\" target=\"_blank\">교과과정</a>\\r\\n\\t\\t\\t\\t\\t\\t\\t\\t</li>\\r\\n\\t\\t\\t\\t\\t\\t\\t\\r\\n\\t\\t\\t\\t\\t\\t\\t</ul>\\r\\n\\t\\t\\t\\t\\t\\t</li>\\r\\n\\t\\t\\t\\t\\t\\r\\n\\t\\t\\t\\t\\t\\t<li class=\"\">\\r\\n\\t\\t\\t\\t\\t\\t\\t<a class=\"a3s\" href=\"/major/college/inter-langlit/\" target=\"_self\">국제어문학부</a>\\r\\n\\t\\t\\t\\t\\t\\t\\t<ul class=\"dep4 \" >\\r\\n\\t\\t\\t\\t\\t\\t\\t\\r\\n\\t\\t\\t\\t\\t\\t\\t\\t<li class=\"\">\\r\\n\\t\\t\\t\\t\\t\\t\\t\\t\\t<a class=\"a4\" href=\"/major/college/inter-verbal/intro/\" target=\"_self\">학부소개/전망</a>\\r\\n\\t\\t\\t\\t\\t\\t\\t\\t</li>\\r\\n\\t\\t\\t\\t\\t\\t\\t\\r\\n\\t\\t\\t\\t\\t\\t\\t\\t<li class=\"\">\\r\\n\\t\\t\\t\\t\\t\\t\\t\\t\\t<a class=\"a4\" href=\"/major/college/inter-verbal/faculty/\" target=\"_self\">교수진소개</a>\\r\\n\\t\\t\\t\\t\\t\\t\\t\\t</li>\\r\\n\\t\\t\\t\\t\\t\\t\\t\\r\\n\\t\\t\\t\\t\\t\\t\\t\\t<li class=\"\">\\r\\n\\t\\t\\t\\t\\t\\t\\t\\t\\t<a class=\"a4\" href=\"http://ibook.handong.edu/Viewer/69UV306SNF05\" target=\"_blank\">교과과정</a>\\r\\n\\t\\t\\t\\t\\t\\t\\t\\t</li>\\r\\n\\t\\t\\t\\t\\t\\t\\t\\r\\n\\t\\t\\t\\t\\t\\t\\t</ul>\\r\\n\\t\\t\\t\\t\\t\\t</li>\\r\\n\\t\\t\\t\\t\\t\\r\\n\\t\\t\\t\\t\\t\\t<li class=\"\">\\r\\n\\t\\t\\t\\t\\t\\t\\t<a class=\"a3s\" href=\"/major/college/manage-economics/\" target=\"_self\">경영경제학부</a>\\r\\n\\t\\t\\t\\t\\t\\t\\t<ul class=\"dep4 \" >\\r\\n\\t\\t\\t\\t\\t\\t\\t\\r\\n\\t\\t\\t\\t\\t\\t\\t\\t<li class=\"\">\\r\\n\\t\\t\\t\\t\\t\\t\\t\\t\\t<a class=\"a4\" href=\"/major/college/manage-economics/intro/\" target=\"_self\">학부소개/전망</a>\\r\\n\\t\\t\\t\\t\\t\\t\\t\\t</li>\\r\\n\\t\\t\\t\\t\\t\\t\\t\\r\\n\\t\\t\\t\\t\\t\\t\\t\\t<li class=\"\">\\r\\n\\t\\t\\t\\t\\t\\t\\t\\t\\t<a class=\"a4\" href=\"/major/college/manage-economics/faculty/\" target=\"_self\">교수진소개</a>\\r\\n\\t\\t\\t\\t\\t\\t\\t\\t</li>\\r\\n\\t\\t\\t\\t\\t\\t\\t\\r\\n\\t\\t\\t\\t\\t\\t\\t\\t<li class=\"\">\\r\\n\\t\\t\\t\\t\\t\\t\\t\\t\\t<a class=\"a4\" href=\"http://ibook.handong.edu/Viewer/HW9AGHDOAS0R\" target=\"_blank\">교과과정</a>\\r\\n\\t\\t\\t\\t\\t\\t\\t\\t</li>\\r\\n\\t\\t\\t\\t\\t\\t\\t\\r\\n\\t\\t\\t\\t\\t\\t\\t</ul>\\r\\n\\t\\t\\t\\t\\t\\t</li>\\r\\n\\t\\t\\t\\t\\t\\r\\n\\t\\t\\t\\t\\t\\t<li class=\"\">\\r\\n\\t\\t\\t\\t\\t\\t\\t<a class=\"a3s\" href=\"/major/college/law/\" target=\"_self\">법학부</a>\\r\\n\\t\\t\\t\\t\\t\\t\\t<ul class=\"dep4 \" >\\r\\n\\t\\t\\t\\t\\t\\t\\t\\r\\n\\t\\t\\t\\t\\t\\t\\t\\t<li class=\"\">\\r\\n\\t\\t\\t\\t\\t\\t\\t\\t\\t<a class=\"a4\" href=\"/major/college/law/intro/\" target=\"_self\">학부소개/전망</a>\\r\\n\\t\\t\\t\\t\\t\\t\\t\\t</li>\\r\\n\\t\\t\\t\\t\\t\\t\\t\\r\\n\\t\\t\\t\\t\\t\\t\\t\\t<li class=\"\">\\r\\n\\t\\t\\t\\t\\t\\t\\t\\t\\t<a class=\"a4\" href=\"/major/college/law/faculty/\" target=\"_self\">교수진소개</a>\\r\\n\\t\\t\\t\\t\\t\\t\\t\\t</li>\\r\\n\\t\\t\\t\\t\\t\\t\\t\\r\\n\\t\\t\\t\\t\\t\\t\\t\\t<li class=\"\">\\r\\n\\t\\t\\t\\t\\t\\t\\t\\t\\t<a class=\"a4\" href=\"http://ibook.handong.edu/Viewer/OKIR5U95IIA3\" target=\"_blank\">교과과정</a>\\r\\n\\t\\t\\t\\t\\t\\t\\t\\t</li>\\r\\n\\t\\t\\t\\t\\t\\t\\t\\r\\n\\t\\t\\t\\t\\t\\t\\t</ul>\\r\\n\\t\\t\\t\\t\\t\\t</li>\\r\\n\\t\\t\\t\\t\\t\\r\\n\\t\\t\\t\\t\\t\\t<li class=\"\">\\r\\n\\t\\t\\t\\t\\t\\t\\t<a class=\"a3s\" href=\"/major/college/media-culture/\" target=\"_self\">언론정보문화학부</a>\\r\\n\\t\\t\\t\\t\\t\\t\\t<ul class=\"dep4 \" >\\r\\n\\t\\t\\t\\t\\t\\t\\t\\r\\n\\t\\t\\t\\t\\t\\t\\t\\t<li class=\"\">\\r\\n\\t\\t\\t\\t\\t\\t\\t\\t\\t<a class=\"a4\" href=\"/major/college/communi-science/intro/\" target=\"_self\">학부소개/전망</a>\\r\\n\\t\\t\\t\\t\\t\\t\\t\\t</li>\\r\\n\\t\\t\\t\\t\\t\\t\\t\\r\\n\\t\\t\\t\\t\\t\\t\\t\\t<li class=\"\">\\r\\n\\t\\t\\t\\t\\t\\t\\t\\t\\t<a class=\"a4\" href=\"/major/college/media-culture/faculty/\" target=\"_self\">교수진소개</a>\\r\\n\\t\\t\\t\\t\\t\\t\\t\\t</li>\\r\\n\\t\\t\\t\\t\\t\\t\\t\\r\\n\\t\\t\\t\\t\\t\\t\\t\\t<li class=\"\">\\r\\n\\t\\t\\t\\t\\t\\t\\t\\t\\t<a class=\"a4\" href=\"http://ibook.handong.edu/Viewer/15SVAKJTL23C\" target=\"_blank\">교과과정</a>\\r\\n\\t\\t\\t\\t\\t\\t\\t\\t</li>\\r\\n\\t\\t\\t\\t\\t\\t\\t\\r\\n\\t\\t\\t\\t\\t\\t\\t</ul>\\r\\n\\t\\t\\t\\t\\t\\t</li>\\r\\n\\t\\t\\t\\t\\t\\r\\n\\t\\t\\t\\t\\t\\t<li class=\"\">\\r\\n\\t\\t\\t\\t\\t\\t\\t<a class=\"a3s\" href=\"/major/college/spatial-environm/\" target=\"_self\">공간환경시스템공학부</a>\\r\\n\\t\\t\\t\\t\\t\\t\\t<ul class=\"dep4 \" >\\r\\n\\t\\t\\t\\t\\t\\t\\t\\r\\n\\t\\t\\t\\t\\t\\t\\t\\t<li class=\"\">\\r\\n\\t\\t\\t\\t\\t\\t\\t\\t\\t<a class=\"a4\" href=\"/major/college/spatial-environm/intro/\" target=\"_self\">학부소개/전망</a>\\r\\n\\t\\t\\t\\t\\t\\t\\t\\t</li>\\r\\n\\t\\t\\t\\t\\t\\t\\t\\r\\n\\t\\t\\t\\t\\t\\t\\t\\t<li class=\"\">\\r\\n\\t\\t\\t\\t\\t\\t\\t\\t\\t<a class=\"a4\" href=\"/major/college/spatial-environm/faculty/\" target=\"_self\">교수진소개</a>\\r\\n\\t\\t\\t\\t\\t\\t\\t\\t</li>\\r\\n\\t\\t\\t\\t\\t\\t\\t\\r\\n\\t\\t\\t\\t\\t\\t\\t\\t<li class=\"\">\\r\\n\\t\\t\\t\\t\\t\\t\\t\\t\\t<a class=\"a4\" href=\"http://ibook.handong.edu/Viewer/EQKI4NYS0BUJ\" target=\"_blank\">교과과정</a>\\r\\n\\t\\t\\t\\t\\t\\t\\t\\t</li>\\r\\n\\t\\t\\t\\t\\t\\t\\t\\r\\n\\t\\t\\t\\t\\t\\t\\t</ul>\\r\\n\\t\\t\\t\\t\\t\\t</li>\\r\\n\\t\\t\\t\\t\\t\\r\\n\\t\\t\\t\\t\\t\\t<li class=\"\">\\r\\n\\t\\t\\t\\t\\t\\t\\t<a class=\"a3s\" href=\"/major/college/mechanic-control/\" target=\"_self\">기계제어공학부</a>\\r\\n\\t\\t\\t\\t\\t\\t\\t<ul class=\"dep4 \" >\\r\\n\\t\\t\\t\\t\\t\\t\\t\\r\\n\\t\\t\\t\\t\\t\\t\\t\\t<li class=\"\">\\r\\n\\t\\t\\t\\t\\t\\t\\t\\t\\t<a class=\"a4\" href=\"/major/college/mechanic-control/intro/\" target=\"_self\">학부소개/전망</a>\\r\\n\\t\\t\\t\\t\\t\\t\\t\\t</li>\\r\\n\\t\\t\\t\\t\\t\\t\\t\\r\\n\\t\\t\\t\\t\\t\\t\\t\\t<li class=\"\">\\r\\n\\t\\t\\t\\t\\t\\t\\t\\t\\t<a class=\"a4\" href=\"/major/college/mechanic-control/faculty/\" target=\"_self\">교수진소개</a>\\r\\n\\t\\t\\t\\t\\t\\t\\t\\t</li>\\r\\n\\t\\t\\t\\t\\t\\t\\t\\r\\n\\t\\t\\t\\t\\t\\t\\t\\t<li class=\"\">\\r\\n\\t\\t\\t\\t\\t\\t\\t\\t\\t<a class=\"a4\" href=\"http://ibook.handong.edu/Viewer/ZSNQQ21B4LVX\" target=\"_blank\">교과과정</a>\\r\\n\\t\\t\\t\\t\\t\\t\\t\\t</li>\\r\\n\\t\\t\\t\\t\\t\\t\\t\\r\\n\\t\\t\\t\\t\\t\\t\\t</ul>\\r\\n\\t\\t\\t\\t\\t\\t</li>\\r\\n\\t\\t\\t\\t\\t\\r\\n\\t\\t\\t\\t\\t\\t<li class=\"\">\\r\\n\\t\\t\\t\\t\\t\\t\\t<a class=\"a3s\" href=\"/major/college/con-design/\" target=\"_self\">콘텐츠융합디자인학부</a>\\r\\n\\t\\t\\t\\t\\t\\t\\t<ul class=\"dep4 \" >\\r\\n\\t\\t\\t\\t\\t\\t\\t\\r\\n\\t\\t\\t\\t\\t\\t\\t\\t<li class=\"\">\\r\\n\\t\\t\\t\\t\\t\\t\\t\\t\\t<a class=\"a4\" href=\"/major/college/indus-media/intro/\" target=\"_self\">학부소개/전망</a>\\r\\n\\t\\t\\t\\t\\t\\t\\t\\t</li>\\r\\n\\t\\t\\t\\t\\t\\t\\t\\r\\n\\t\\t\\t\\t\\t\\t\\t\\t<li class=\"\">\\r\\n\\t\\t\\t\\t\\t\\t\\t\\t\\t<a class=\"a4\" href=\"/major/college/info-industry/faculty/\" target=\"_self\">교수진소개</a>\\r\\n\\t\\t\\t\\t\\t\\t\\t\\t</li>\\r\\n\\t\\t\\t\\t\\t\\t\\t\\r\\n\\t\\t\\t\\t\\t\\t\\t\\t<li class=\"\">\\r\\n\\t\\t\\t\\t\\t\\t\\t\\t\\t<a class=\"a4\" href=\"http://ibook.handong.edu/Viewer/R0CB211M7PJ4\" target=\"_blank\">교과과정</a>\\r\\n\\t\\t\\t\\t\\t\\t\\t\\t</li>\\r\\n\\t\\t\\t\\t\\t\\t\\t\\r\\n\\t\\t\\t\\t\\t\\t\\t</ul>\\r\\n\\t\\t\\t\\t\\t\\t</li>\\r\\n\\t\\t\\t\\t\\t\\r\\n\\t\\t\\t\\t\\t\\t<li class=\"\">\\r\\n\\t\\t\\t\\t\\t\\t\\t<a class=\"a3s\" href=\"/major/college/life-science/\" target=\"_self\">생명과학부</a>\\r\\n\\t\\t\\t\\t\\t\\t\\t<ul class=\"dep4 \" >\\r\\n\\t\\t\\t\\t\\t\\t\\t\\r\\n\\t\\t\\t\\t\\t\\t\\t\\t<li class=\"\">\\r\\n\\t\\t\\t\\t\\t\\t\\t\\t\\t<a class=\"a4\" href=\"/major/college/life-science/intro/\" target=\"_self\">학부소개/전망</a>\\r\\n\\t\\t\\t\\t\\t\\t\\t\\t</li>\\r\\n\\t\\t\\t\\t\\t\\t\\t\\r\\n\\t\\t\\t\\t\\t\\t\\t\\t<li class=\"\">\\r\\n\\t\\t\\t\\t\\t\\t\\t\\t\\t<a class=\"a4\" href=\"/major/college/life-science/faculty/\" target=\"_self\">교수진소개</a>\\r\\n\\t\\t\\t\\t\\t\\t\\t\\t</li>\\r\\n\\t\\t\\t\\t\\t\\t\\t\\r\\n\\t\\t\\t\\t\\t\\t\\t\\t<li class=\"\">\\r\\n\\t\\t\\t\\t\\t\\t\\t\\t\\t<a class=\"a4\" href=\"http://ibook.handong.edu/Viewer/CDZD3DEKOCG3\" target=\"_blank\">교과과정</a>\\r\\n\\t\\t\\t\\t\\t\\t\\t\\t</li>\\r\\n\\t\\t\\t\\t\\t\\t\\t\\r\\n\\t\\t\\t\\t\\t\\t\\t</ul>\\r\\n\\t\\t\\t\\t\\t\\t</li>\\r\\n\\t\\t\\t\\t\\t\\r\\n\\t\\t\\t\\t\\t\\t<li class=\"\">\\r\\n\\t\\t\\t\\t\\t\\t\\t<a class=\"a3s\" href=\"/major/college/computer-electric/\" target=\"_self\">전산전자공학부</a>\\r\\n\\t\\t\\t\\t\\t\\t\\t<ul class=\"dep4 \" >\\r\\n\\t\\t\\t\\t\\t\\t\\t\\r\\n\\t\\t\\t\\t\\t\\t\\t\\t<li class=\"\">\\r\\n\\t\\t\\t\\t\\t\\t\\t\\t\\t<a class=\"a4\" href=\"/major/college/computer-electric/intro/\" target=\"_self\">학부소개/전망</a>\\r\\n\\t\\t\\t\\t\\t\\t\\t\\t</li>\\r\\n\\t\\t\\t\\t\\t\\t\\t\\r\\n\\t\\t\\t\\t\\t\\t\\t\\t<li class=\"\">\\r\\n\\t\\t\\t\\t\\t\\t\\t\\t\\t<a class=\"a4\" href=\"/major/college/computer-electric/faculty/\" target=\"_self\">교수진소개</a>\\r\\n\\t\\t\\t\\t\\t\\t\\t\\t</li>\\r\\n\\t\\t\\t\\t\\t\\t\\t\\r\\n\\t\\t\\t\\t\\t\\t\\t\\t<li class=\"\">\\r\\n\\t\\t\\t\\t\\t\\t\\t\\t\\t<a class=\"a4\" href=\"http://ibook.handong.edu/Viewer/JTRNCDU8TB1Y\" target=\"_blank\">교과과정</a>\\r\\n\\t\\t\\t\\t\\t\\t\\t\\t</li>\\r\\n\\t\\t\\t\\t\\t\\t\\t\\r\\n\\t\\t\\t\\t\\t\\t\\t</ul>\\r\\n\\t\\t\\t\\t\\t\\t</li>\\r\\n\\t\\t\\t\\t\\t\\r\\n\\t\\t\\t\\t\\t\\t<li class=\"\">\\r\\n\\t\\t\\t\\t\\t\\t\\t<a class=\"a3s\" href=\"/major/college/counsel-welfare/\" target=\"_self\">상담심리사회복지학부</a>\\r\\n\\t\\t\\t\\t\\t\\t\\t<ul class=\"dep4 \" >\\r\\n\\t\\t\\t\\t\\t\\t\\t\\r\\n\\t\\t\\t\\t\\t\\t\\t\\t<li class=\"\">\\r\\n\\t\\t\\t\\t\\t\\t\\t\\t\\t<a class=\"a4\" href=\"/major/college/counsel-welfare/intro/\" target=\"_self\">학부소개/전망</a>\\r\\n\\t\\t\\t\\t\\t\\t\\t\\t</li>\\r\\n\\t\\t\\t\\t\\t\\t\\t\\r\\n\\t\\t\\t\\t\\t\\t\\t\\t<li class=\"\">\\r\\n\\t\\t\\t\\t\\t\\t\\t\\t\\t<a class=\"a4\" href=\"/major/college/counsel-welfare/faculty/\" target=\"_self\">교수진소개</a>\\r\\n\\t\\t\\t\\t\\t\\t\\t\\t</li>\\r\\n\\t\\t\\t\\t\\t\\t\\t\\r\\n\\t\\t\\t\\t\\t\\t\\t\\t<li class=\"\">\\r\\n\\t\\t\\t\\t\\t\\t\\t\\t\\t<a class=\"a4\" href=\"http://ibook.handong.edu/Viewer/6183P4YILNXU\" target=\"_blank\">교과과정</a>\\r\\n\\t\\t\\t\\t\\t\\t\\t\\t</li>\\r\\n\\t\\t\\t\\t\\t\\t\\t\\r\\n\\t\\t\\t\\t\\t\\t\\t</ul>\\r\\n\\t\\t\\t\\t\\t\\t</li>\\r\\n\\t\\t\\t\\t\\t\\r\\n\\t\\t\\t\\t\\t\\t<li class=\"\">\\r\\n\\t\\t\\t\\t\\t\\t\\t<a class=\"a3s\" href=\"/major/college/ge-ict/\" target=\"_self\">ICT창업학부</a>\\r\\n\\t\\t\\t\\t\\t\\t\\t<ul class=\"dep4 \" >\\r\\n\\t\\t\\t\\t\\t\\t\\t\\r\\n\\t\\t\\t\\t\\t\\t\\t\\t<li class=\"\">\\r\\n\\t\\t\\t\\t\\t\\t\\t\\t\\t<a class=\"a4\" href=\"/major/college/global-edison/intro/\" target=\"_self\">학부소개/전망</a>\\r\\n\\t\\t\\t\\t\\t\\t\\t\\t</li>\\r\\n\\t\\t\\t\\t\\t\\t\\t\\r\\n\\t\\t\\t\\t\\t\\t\\t\\t<li class=\"\">\\r\\n\\t\\t\\t\\t\\t\\t\\t\\t\\t<a class=\"a4\" href=\"/major/college/global-edison/faculty/\" target=\"_self\">교수진소개</a>\\r\\n\\t\\t\\t\\t\\t\\t\\t\\t</li>\\r\\n\\t\\t\\t\\t\\t\\t\\t\\r\\n\\t\\t\\t\\t\\t\\t\\t\\t<li class=\"\">\\r\\n\\t\\t\\t\\t\\t\\t\\t\\t\\t<a class=\"a4\" href=\"http://ibook.handong.edu/Viewer/33GI3G5JTW2E\" target=\"_blank\">교과과정</a>\\r\\n\\t\\t\\t\\t\\t\\t\\t\\t</li>\\r\\n\\t\\t\\t\\t\\t\\t\\t\\r\\n\\t\\t\\t\\t\\t\\t\\t</ul>\\r\\n\\t\\t\\t\\t\\t\\t</li>\\r\\n\\t\\t\\t\\t\\t\\r\\n\\t\\t\\t\\t\\t\\t<li class=\"\">\\r\\n\\t\\t\\t\\t\\t\\t\\t<a class=\"a3s\" href=\"/major/college/crecon-edu/\" target=\"_self\">창의융합교육원</a>\\r\\n\\t\\t\\t\\t\\t\\t\\t<ul class=\"dep4 \" >\\r\\n\\t\\t\\t\\t\\t\\t\\t\\r\\n\\t\\t\\t\\t\\t\\t\\t\\t<li class=\"\">\\r\\n\\t\\t\\t\\t\\t\\t\\t\\t\\t<a class=\"a4\" href=\"/major/college/ICT/intro/\" target=\"_self\">학부소개/전망</a>\\r\\n\\t\\t\\t\\t\\t\\t\\t\\t</li>\\r\\n\\t\\t\\t\\t\\t\\t\\t\\r\\n\\t\\t\\t\\t\\t\\t\\t\\t<li class=\"\">\\r\\n\\t\\t\\t\\t\\t\\t\\t\\t\\t<a class=\"a4\" href=\"/major/college/ICT/faculty/\" target=\"_self\">교수진소개</a>\\r\\n\\t\\t\\t\\t\\t\\t\\t\\t</li>\\r\\n\\t\\t\\t\\t\\t\\t\\t\\r\\n\\t\\t\\t\\t\\t\\t\\t\\t<li class=\"\">\\r\\n\\t\\t\\t\\t\\t\\t\\t\\t\\t<a class=\"a4\" href=\"http://ibook.handong.edu/Viewer/E1YNSCI4EPKC\" target=\"_blank\">교과과정</a>\\r\\n\\t\\t\\t\\t\\t\\t\\t\\t</li>\\r\\n\\t\\t\\t\\t\\t\\t\\t\\r\\n\\t\\t\\t\\t\\t\\t\\t</ul>\\r\\n\\t\\t\\t\\t\\t\\t</li>\\r\\n\\t\\t\\t\\t\\t\\r\\n\\t\\t\\t\\t\\t</ul>\\r\\n\\t\\t\\t\\t</li>\\r\\n\\t\\t\\t\\r\\n\\t\\t\\t\\t<li class=\"\">\\r\\n\\t\\t\\t\\t\\t<a class=\"a2s\" href=\"/major/college_ITC/\"  target=\"_self\">IT융합대학</a>\\r\\n\\t\\t\\t\\t\\t<ul class=\"dep3 \" >\\r\\n\\t\\t\\t\\t\\t\\r\\n\\t\\t\\t\\t\\t\\t<li class=\"\">\\r\\n\\t\\t\\t\\t\\t\\t\\t<a class=\"a3\" href=\"/major/college_ITC/intro/\" target=\"_self\">대학소개</a>\\r\\n\\t\\t\\t\\t\\t\\t\\t<ul class=\"dep4 \" >\\r\\n\\t\\t\\t\\t\\t\\t\\t\\r\\n\\t\\t\\t\\t\\t\\t\\t</ul>\\r\\n\\t\\t\\t\\t\\t\\t</li>\\r\\n\\t\\t\\t\\t\\t\\r\\n\\t\\t\\t\\t\\t\\t<li class=\"\">\\r\\n\\t\\t\\t\\t\\t\\t\\t<a class=\"a3s\" href=\"/major/college_ITC/computer-electric/\" target=\"_self\">전산전자공학부</a>\\r\\n\\t\\t\\t\\t\\t\\t\\t<ul class=\"dep4 \" >\\r\\n\\t\\t\\t\\t\\t\\t\\t\\r\\n\\t\\t\\t\\t\\t\\t\\t\\t<li class=\"\">\\r\\n\\t\\t\\t\\t\\t\\t\\t\\t\\t<a class=\"a4\" href=\"/major/college_ITC/computer-electric/intro/\" target=\"_self\">학부소개/전망</a>\\r\\n\\t\\t\\t\\t\\t\\t\\t\\t</li>\\r\\n\\t\\t\\t\\t\\t\\t\\t\\r\\n\\t\\t\\t\\t\\t\\t\\t\\t<li class=\"\">\\r\\n\\t\\t\\t\\t\\t\\t\\t\\t\\t<a class=\"a4\" href=\"/major/college/computer-electric/faculty/\" target=\"_self\">교수진소개</a>\\r\\n\\t\\t\\t\\t\\t\\t\\t\\t</li>\\r\\n\\t\\t\\t\\t\\t\\t\\t\\r\\n\\t\\t\\t\\t\\t\\t\\t\\t<li class=\"\">\\r\\n\\t\\t\\t\\t\\t\\t\\t\\t\\t<a class=\"a4\" href=\"http://ibook.handong.edu/Viewer/VI0118PBDIBD\" target=\"_blank\">교과과정</a>\\r\\n\\t\\t\\t\\t\\t\\t\\t\\t</li>\\r\\n\\t\\t\\t\\t\\t\\t\\t\\r\\n\\t\\t\\t\\t\\t\\t\\t</ul>\\r\\n\\t\\t\\t\\t\\t\\t</li>\\r\\n\\t\\t\\t\\t\\t\\r\\n\\t\\t\\t\\t\\t\\t<li class=\"\">\\r\\n\\t\\t\\t\\t\\t\\t\\t<a class=\"a3s\" href=\"/major/college_ITC/ICT/\" target=\"_self\">ICT창업학부</a>\\r\\n\\t\\t\\t\\t\\t\\t\\t<ul class=\"dep4 \" >\\r\\n\\t\\t\\t\\t\\t\\t\\t\\r\\n\\t\\t\\t\\t\\t\\t\\t\\t<li class=\"\">\\r\\n\\t\\t\\t\\t\\t\\t\\t\\t\\t<a class=\"a4\" href=\"/major/college_ITC/ICT/intro/\" target=\"_self\">학부소개/전망</a>\\r\\n\\t\\t\\t\\t\\t\\t\\t\\t</li>\\r\\n\\t\\t\\t\\t\\t\\t\\t\\r\\n\\t\\t\\t\\t\\t\\t\\t\\t<li class=\"\">\\r\\n\\t\\t\\t\\t\\t\\t\\t\\t\\t<a class=\"a4\" href=\"/major/college/global-edison/faculty/\" target=\"_self\">교수진소개</a>\\r\\n\\t\\t\\t\\t\\t\\t\\t\\t</li>\\r\\n\\t\\t\\t\\t\\t\\t\\t\\r\\n\\t\\t\\t\\t\\t\\t\\t\\t<li class=\"\">\\r\\n\\t\\t\\t\\t\\t\\t\\t\\t\\t<a class=\"a4\" href=\"http://ibook.handong.edu/Viewer/PYT06DHQ2O2K\" target=\"_blank\">교과과정</a>\\r\\n\\t\\t\\t\\t\\t\\t\\t\\t</li>\\r\\n\\t\\t\\t\\t\\t\\t\\t\\r\\n\\t\\t\\t\\t\\t\\t\\t</ul>\\r\\n\\t\\t\\t\\t\\t\\t</li>\\r\\n\\t\\t\\t\\t\\t\\r\\n\\t\\t\\t\\t\\t\\t<li class=\"\">\\r\\n\\t\\t\\t\\t\\t\\t\\t<a class=\"a3s\" href=\"/major/college_ITC/ISE/\" target=\"_self\">소프트웨어기초교육원</a>\\r\\n\\t\\t\\t\\t\\t\\t\\t<ul class=\"dep4 \" >\\r\\n\\t\\t\\t\\t\\t\\t\\t\\r\\n\\t\\t\\t\\t\\t\\t\\t\\t<li class=\"\">\\r\\n\\t\\t\\t\\t\\t\\t\\t\\t\\t<a class=\"a4\" href=\"/major/college_ITC/ISE/intro/\" target=\"_self\">교육원소개</a>\\r\\n\\t\\t\\t\\t\\t\\t\\t\\t</li>\\r\\n\\t\\t\\t\\t\\t\\t\\t\\r\\n\\t\\t\\t\\t\\t\\t\\t\\t<li class=\"\">\\r\\n\\t\\t\\t\\t\\t\\t\\t\\t\\t<a class=\"a4\" href=\"/major/college_ITC/ISE/faculty/\" target=\"_self\">교수진소개</a>\\r\\n\\t\\t\\t\\t\\t\\t\\t\\t</li>\\r\\n\\t\\t\\t\\t\\t\\t\\t\\r\\n\\t\\t\\t\\t\\t\\t\\t</ul>\\r\\n\\t\\t\\t\\t\\t\\t</li>\\r\\n\\t\\t\\t\\t\\t\\r\\n\\t\\t\\t\\t\\t</ul>\\r\\n\\t\\t\\t\\t</li>\\r\\n\\t\\t\\t\\r\\n\\t\\t\\t\\t<li class=\"\">\\r\\n\\t\\t\\t\\t\\t<a class=\"a2s\" href=\"/major/gradschool/\"  target=\"_self\">대학원</a>\\r\\n\\t\\t\\t\\t\\t<ul class=\"dep3 \" >\\r\\n\\t\\t\\t\\t\\t\\r\\n\\t\\t\\t\\t\\t\\t<li class=\"\">\\r\\n\\t\\t\\t\\t\\t\\t\\t<a class=\"a3s\" href=\"/major/gradschool/general/\" target=\"_self\">일반대학원</a>\\r\\n\\t\\t\\t\\t\\t\\t\\t<ul class=\"dep4 \" >\\r\\n\\t\\t\\t\\t\\t\\t\\t\\r\\n\\t\\t\\t\\t\\t\\t\\t\\t<li class=\"\">\\r\\n\\t\\t\\t\\t\\t\\t\\t\\t\\t<a class=\"a4\" href=\"/major/gradschool/general/spatial-engineering/\" target=\"_self\">공간설계공학과</a>\\r\\n\\t\\t\\t\\t\\t\\t\\t\\t</li>\\r\\n\\t\\t\\t\\t\\t\\t\\t\\r\\n\\t\\t\\t\\t\\t\\t\\t\\t<li class=\"\">\\r\\n\\t\\t\\t\\t\\t\\t\\t\\t\\t<a class=\"a4\" href=\"/major/gradschool/general/machanic-control/\" target=\"_self\">기계제어공학과</a>\\r\\n\\t\\t\\t\\t\\t\\t\\t\\t</li>\\r\\n\\t\\t\\t\\t\\t\\t\\t\\r\\n\\t\\t\\t\\t\\t\\t\\t\\t<li class=\"\">\\r\\n\\t\\t\\t\\t\\t\\t\\t\\t\\t<a class=\"a4\" href=\"/major/gradschool/general/life-science/\" target=\"_self\">생명과학과</a>\\r\\n\\t\\t\\t\\t\\t\\t\\t\\t</li>\\r\\n\\t\\t\\t\\t\\t\\t\\t\\r\\n\\t\\t\\t\\t\\t\\t\\t\\t<li class=\"\">\\r\\n\\t\\t\\t\\t\\t\\t\\t\\t\\t<a class=\"a4\" href=\"/major/gradschool/general/info-communication/\" target=\"_self\">정보통신공학과</a>\\r\\n\\t\\t\\t\\t\\t\\t\\t\\t</li>\\r\\n\\t\\t\\t\\t\\t\\t\\t\\r\\n\\t\\t\\t\\t\\t\\t\\t\\t<li class=\"\">\\r\\n\\t\\t\\t\\t\\t\\t\\t\\t\\t<a class=\"a4\" href=\"/major/gradschool/general/culture-media/\" target=\"_self\">문화·미디어 디자인학과</a>\\r\\n\\t\\t\\t\\t\\t\\t\\t\\t</li>\\r\\n\\t\\t\\t\\t\\t\\t\\t\\r\\n\\t\\t\\t\\t\\t\\t\\t\\t<li class=\"\">\\r\\n\\t\\t\\t\\t\\t\\t\\t\\t\\t<a class=\"a4\" href=\"/major/gradschool/general/business-economy/\" target=\"_self\">경영경제학과</a>\\r\\n\\t\\t\\t\\t\\t\\t\\t\\t</li>\\r\\n\\t\\t\\t\\t\\t\\t\\t\\r\\n\\t\\t\\t\\t\\t\\t\\t\\t<li class=\"\">\\r\\n\\t\\t\\t\\t\\t\\t\\t\\t\\t<a class=\"a4\" href=\"/major/gradschool/general/energy-environment/\" target=\"_self\">첨단그린에너지환경학과</a>\\r\\n\\t\\t\\t\\t\\t\\t\\t\\t</li>\\r\\n\\t\\t\\t\\t\\t\\t\\t\\r\\n\\t\\t\\t\\t\\t\\t\\t\\t<li class=\"\">\\r\\n\\t\\t\\t\\t\\t\\t\\t\\t\\t<a class=\"a4\" href=\"/major/gradschool/general/psychology/\" target=\"_self\">심리학과</a>\\r\\n\\t\\t\\t\\t\\t\\t\\t\\t</li>\\r\\n\\t\\t\\t\\t\\t\\t\\t\\r\\n\\t\\t\\t\\t\\t\\t\\t\\t<li class=\"\">\\r\\n\\t\\t\\t\\t\\t\\t\\t\\t\\t<a class=\"a4\" href=\"/major/gradschool/general/SCA/\" target=\"_self\">언론정보학과</a>\\r\\n\\t\\t\\t\\t\\t\\t\\t\\t</li>\\r\\n\\t\\t\\t\\t\\t\\t\\t\\r\\n\\t\\t\\t\\t\\t\\t\\t\\t<li class=\"\">\\r\\n\\t\\t\\t\\t\\t\\t\\t\\t\\t<a class=\"a4\" href=\"/major/gradschool/general/law/\" target=\"_self\">법학과</a>\\r\\n\\t\\t\\t\\t\\t\\t\\t\\t</li>\\r\\n\\t\\t\\t\\t\\t\\t\\t\\r\\n\\t\\t\\t\\t\\t\\t\\t</ul>\\r\\n\\t\\t\\t\\t\\t\\t</li>\\r\\n\\t\\t\\t\\t\\t\\r\\n\\t\\t\\t\\t\\t\\t<li class=\"\">\\r\\n\\t\\t\\t\\t\\t\\t\\t<a class=\"a3s\" href=\"/major/gradschool/edu/\" target=\"_self\">교육대학원(계절제)</a>\\r\\n\\t\\t\\t\\t\\t\\t\\t<ul class=\"dep4 \" >\\r\\n\\t\\t\\t\\t\\t\\t\\t\\r\\n\\t\\t\\t\\t\\t\\t\\t\\t<li class=\"\">\\r\\n\\t\\t\\t\\t\\t\\t\\t\\t\\t<a class=\"a4\" href=\"/major/gradschool/edu/intro/\" target=\"_self\">소개</a>\\r\\n\\t\\t\\t\\t\\t\\t\\t\\t</li>\\r\\n\\t\\t\\t\\t\\t\\t\\t\\r\\n\\t\\t\\t\\t\\t\\t\\t\\t<li class=\"\">\\r\\n\\t\\t\\t\\t\\t\\t\\t\\t\\t<a class=\"a4\" href=\"/major/gradschool/edu/course/\" target=\"_self\">교과과정</a>\\r\\n\\t\\t\\t\\t\\t\\t\\t\\t</li>\\r\\n\\t\\t\\t\\t\\t\\t\\t\\r\\n\\t\\t\\t\\t\\t\\t\\t\\t<li class=\"\">\\r\\n\\t\\t\\t\\t\\t\\t\\t\\t\\t<a class=\"a4\" href=\"/major/gradschool/edu/faculty/\" target=\"_self\">교수진소개</a>\\r\\n\\t\\t\\t\\t\\t\\t\\t\\t</li>\\r\\n\\t\\t\\t\\t\\t\\t\\t\\r\\n\\t\\t\\t\\t\\t\\t\\t</ul>\\r\\n\\t\\t\\t\\t\\t\\t</li>\\r\\n\\t\\t\\t\\t\\t\\r\\n\\t\\t\\t\\t\\t\\t<li class=\"\">\\r\\n\\t\\t\\t\\t\\t\\t\\t<a class=\"a3s\" href=\"/major/gradschool/interpret-trans/\" target=\"_self\">통역번역대학원</a>\\r\\n\\t\\t\\t\\t\\t\\t\\t<ul class=\"dep4 \" >\\r\\n\\t\\t\\t\\t\\t\\t\\t\\r\\n\\t\\t\\t\\t\\t\\t\\t\\t<li class=\"\">\\r\\n\\t\\t\\t\\t\\t\\t\\t\\t\\t<a class=\"a4\" href=\"/major/gradschool/interpret-trans/kor-eng-interpret/\" target=\"_self\">한영통역번역학과</a>\\r\\n\\t\\t\\t\\t\\t\\t\\t\\t</li>\\r\\n\\t\\t\\t\\t\\t\\t\\t\\r\\n\\t\\t\\t\\t\\t\\t\\t</ul>\\r\\n\\t\\t\\t\\t\\t\\t</li>\\r\\n\\t\\t\\t\\t\\t\\r\\n\\t\\t\\t\\t\\t\\t<li class=\"\">\\r\\n\\t\\t\\t\\t\\t\\t\\t<a class=\"a3s\" href=\"/major/gradschool/global-manage/\" target=\"_self\">국제경영대학원</a>\\r\\n\\t\\t\\t\\t\\t\\t\\t<ul class=\"dep4 \" >\\r\\n\\t\\t\\t\\t\\t\\t\\t\\r\\n\\t\\t\\t\\t\\t\\t\\t\\t<li class=\"\">\\r\\n\\t\\t\\t\\t\\t\\t\\t\\t\\t<a class=\"a4\" href=\"/major/gradschool/global-manage/intro/\" target=\"_self\">소개</a>\\r\\n\\t\\t\\t\\t\\t\\t\\t\\t</li>\\r\\n\\t\\t\\t\\t\\t\\t\\t\\r\\n\\t\\t\\t\\t\\t\\t\\t</ul>\\r\\n\\t\\t\\t\\t\\t\\t</li>\\r\\n\\t\\t\\t\\t\\t\\r\\n\\t\\t\\t\\t\\t\\t<li class=\"\">\\r\\n\\t\\t\\t\\t\\t\\t\\t<a class=\"a3s\" href=\"/major/gradschool/counsel/\" target=\"_self\">상담대학원(야간)</a>\\r\\n\\t\\t\\t\\t\\t\\t\\t<ul class=\"dep4 \" >\\r\\n\\t\\t\\t\\t\\t\\t\\t\\r\\n\\t\\t\\t\\t\\t\\t\\t\\t<li class=\"\">\\r\\n\\t\\t\\t\\t\\t\\t\\t\\t\\t<a class=\"a4\" href=\"/major/gradschool/counsel/intro/\" target=\"_self\">소개</a>\\r\\n\\t\\t\\t\\t\\t\\t\\t\\t</li>\\r\\n\\t\\t\\t\\t\\t\\t\\t\\r\\n\\t\\t\\t\\t\\t\\t\\t\\t<li class=\"\">\\r\\n\\t\\t\\t\\t\\t\\t\\t\\t\\t<a class=\"a4\" href=\"/major/gradschool/counsel/course/\" target=\"_self\">교과과정</a>\\r\\n\\t\\t\\t\\t\\t\\t\\t\\t</li>\\r\\n\\t\\t\\t\\t\\t\\t\\t\\r\\n\\t\\t\\t\\t\\t\\t\\t\\t<li class=\"\">\\r\\n\\t\\t\\t\\t\\t\\t\\t\\t\\t<a class=\"a4\" href=\"/major/gradschool/counsel/faculty/\" target=\"_self\">교수진소개</a>\\r\\n\\t\\t\\t\\t\\t\\t\\t\\t</li>\\r\\n\\t\\t\\t\\t\\t\\t\\t\\r\\n\\t\\t\\t\\t\\t\\t\\t</ul>\\r\\n\\t\\t\\t\\t\\t\\t</li>\\r\\n\\t\\t\\t\\t\\t\\r\\n\\t\\t\\t\\t\\t\\t<li class=\"\">\\r\\n\\t\\t\\t\\t\\t\\t\\t<a class=\"a3s\" href=\"/major/gradschool/global-develop/\" target=\"_self\">국제개발협력대학원</a>\\r\\n\\t\\t\\t\\t\\t\\t\\t<ul class=\"dep4 \" >\\r\\n\\t\\t\\t\\t\\t\\t\\t\\r\\n\\t\\t\\t\\t\\t\\t\\t\\t<li class=\"\">\\r\\n\\t\\t\\t\\t\\t\\t\\t\\t\\t<a class=\"a4\" href=\"/major/gradschool/global-develop/intro/\" target=\"_self\">소개</a>\\r\\n\\t\\t\\t\\t\\t\\t\\t\\t</li>\\r\\n\\t\\t\\t\\t\\t\\t\\t\\r\\n\\t\\t\\t\\t\\t\\t\\t\\t<li class=\"\">\\r\\n\\t\\t\\t\\t\\t\\t\\t\\t\\t<a class=\"a4\" href=\"/major/gradschool/global-develop/course/\" target=\"_self\">교과과정</a>\\r\\n\\t\\t\\t\\t\\t\\t\\t\\t</li>\\r\\n\\t\\t\\t\\t\\t\\t\\t\\r\\n\\t\\t\\t\\t\\t\\t\\t\\t<li class=\"\">\\r\\n\\t\\t\\t\\t\\t\\t\\t\\t\\t<a class=\"a4\" href=\"/major/gradschool/global-develop/faculty/\" target=\"_self\">교수진소개</a>\\r\\n\\t\\t\\t\\t\\t\\t\\t\\t</li>\\r\\n\\t\\t\\t\\t\\t\\t\\t\\r\\n\\t\\t\\t\\t\\t\\t\\t</ul>\\r\\n\\t\\t\\t\\t\\t\\t</li>\\r\\n\\t\\t\\t\\t\\t\\r\\n\\t\\t\\t\\t\\t\\t<li class=\"\">\\r\\n\\t\\t\\t\\t\\t\\t\\t<a class=\"a3\" href=\"/major/gradschool/inter-law/\" target=\"_self\">국제법률대학원</a>\\r\\n\\t\\t\\t\\t\\t\\t\\t<ul class=\"dep4 \" >\\r\\n\\t\\t\\t\\t\\t\\t\\t\\r\\n\\t\\t\\t\\t\\t\\t\\t</ul>\\r\\n\\t\\t\\t\\t\\t\\t</li>\\r\\n\\t\\t\\t\\t\\t\\r\\n\\t\\t\\t\\t\\t</ul>\\r\\n\\t\\t\\t\\t</li>\\r\\n\\t\\t\\t\\r\\n\\t\\t\\t\\r\\n\\t\\t\\t\\t<li class=\"link\">\\r\\n\\t\\t\\t\\t\\t<div class=\"tb22\">E-서비스</div>\\r\\n\\t\\t\\t\\t\\t<ul class=\"ul li\">\\r\\n\\t\\t\\t\\t\\t\\t<li><a href=\"http://sarang.handong.edu/campaign/support/\" target=\"_blank\" title=\"새창\">한동대 후원 참여</a></li>\\r\\n\\t\\t\\t\\t\\t\\t<li><a href=\"/about/campus/map/\">캠퍼스맵</a></li>\\r\\n\\t\\t\\t\\t\\t\\t<!--li><a href=\"http://i7.handong.edu/\" target=\"_blank\" title=\"새창\">i7 인트라넷</a></li-->\\r\\n\\t\\t\\t\\t\\t\\t<li><a href=\"/about/campus/ways/\">찾아오시는길</a></li>\\r\\n\\t\\t\\t\\t\\t\\t<li><a href=\"http://han.certpia.com/\" target=\"_blank\" title=\"새창\">온라인증명발급</a></li>\\r\\n\\t\\t\\t\\t\\t\\t<!--li><a href=\"/about/campus/telephone/\">교내전화번호안내</a></li-->\\r\\n\\t\\t\\t\\t\\t\\t<li><a href=\"/square/inform/account/\" >예결산공고</a></li>\\r\\n\\t\\t\\t\\t\\t\\t<li><a href=\"/about/intro/general/\">2015 대학자체평가</a></li>\\r\\n\\t\\t\\t\\t\\t\\t<li><a href=\"/square/offerdata/\">홍보자료신청</a></li>\\r\\n\\t\\t\\t\\t\\t\\t<li><a class=\"last\" href=\"/square/media/video/\">홍보영상</a></li>\\r\\n\\t\\t\\t\\t\\t</ul>\\r\\n\\t\\t\\t\\t</li>\\r\\n\\t\\t\\t</ul>\\r\\n\\t\\t\\t\\r\\n\\t\\t</div>\\r\\n\\t\\r\\n\\t\\t<div class=\"dep1\" tabindex=\"0\">산학·연구</div>\\r\\n\\t\\t<div class=\"dep2\" >\\r\\n\\t\\t\\t<ul class=\"d2\">\\r\\n\\t\\t\\t\\r\\n\\t\\t\\t\\t<li class=\"\">\\r\\n\\t\\t\\t\\t\\t<a class=\"a2s\" href=\"/lab-coop/indus-edu-coop/\"  target=\"_self\">산학협력</a>\\r\\n\\t\\t\\t\\t\\t<ul class=\"dep3 \" >\\r\\n\\t\\t\\t\\t\\t\\r\\n\\t\\t\\t\\t\\t\\t<li class=\"\">\\r\\n\\t\\t\\t\\t\\t\\t\\t<a class=\"a3\" href=\"/lab-coop/indus-edu-coop/vision/\" target=\"_self\">산학협력 비전</a>\\r\\n\\t\\t\\t\\t\\t\\t\\t<ul class=\"dep4 \" >\\r\\n\\t\\t\\t\\t\\t\\t\\t\\r\\n\\t\\t\\t\\t\\t\\t\\t</ul>\\r\\n\\t\\t\\t\\t\\t\\t</li>\\r\\n\\t\\t\\t\\t\\t\\r\\n\\t\\t\\t\\t\\t\\t<li class=\"\">\\r\\n\\t\\t\\t\\t\\t\\t\\t<a class=\"a3\" href=\"/lab-coop/indus-edu-coop/3vision-10project/\" target=\"_self\">3대 비전, 10대 프로젝트</a>\\r\\n\\t\\t\\t\\t\\t\\t\\t<ul class=\"dep4 \" >\\r\\n\\t\\t\\t\\t\\t\\t\\t\\r\\n\\t\\t\\t\\t\\t\\t\\t</ul>\\r\\n\\t\\t\\t\\t\\t\\t</li>\\r\\n\\t\\t\\t\\t\\t\\r\\n\\t\\t\\t\\t\\t\\t<li class=\"\">\\r\\n\\t\\t\\t\\t\\t\\t\\t<a class=\"a3\" href=\"/lab-coop/indus-edu-coop/local-coop/\" target=\"_self\">지역협력 연계방안</a>\\r\\n\\t\\t\\t\\t\\t\\t\\t<ul class=\"dep4 \" >\\r\\n\\t\\t\\t\\t\\t\\t\\t\\r\\n\\t\\t\\t\\t\\t\\t\\t</ul>\\r\\n\\t\\t\\t\\t\\t\\t</li>\\r\\n\\t\\t\\t\\t\\t\\r\\n\\t\\t\\t\\t\\t\\t<li class=\"\">\\r\\n\\t\\t\\t\\t\\t\\t\\t<a class=\"a3\" href=\"http://iacf.handong.edu/\" target=\"_blank\">미래기술산학연구처</a>\\r\\n\\t\\t\\t\\t\\t\\t\\t<ul class=\"dep4 \" >\\r\\n\\t\\t\\t\\t\\t\\t\\t\\r\\n\\t\\t\\t\\t\\t\\t\\t</ul>\\r\\n\\t\\t\\t\\t\\t\\t</li>\\r\\n\\t\\t\\t\\t\\t\\r\\n\\t\\t\\t\\t\\t\\t<li class=\"\">\\r\\n\\t\\t\\t\\t\\t\\t\\t<a class=\"a3\" href=\"http://iacf.handong.edu/\" target=\"_blank\">산학협력단</a>\\r\\n\\t\\t\\t\\t\\t\\t\\t<ul class=\"dep4 \" >\\r\\n\\t\\t\\t\\t\\t\\t\\t\\r\\n\\t\\t\\t\\t\\t\\t\\t</ul>\\r\\n\\t\\t\\t\\t\\t\\t</li>\\r\\n\\t\\t\\t\\t\\t\\r\\n\\t\\t\\t\\t\\t</ul>\\r\\n\\t\\t\\t\\t</li>\\r\\n\\t\\t\\t\\r\\n\\t\\t\\t\\t<li class=\"\">\\r\\n\\t\\t\\t\\t\\t<a class=\"a2s\" href=\"/lab-coop/lab/\"  target=\"_self\">연구소</a>\\r\\n\\t\\t\\t\\t\\t<ul class=\"dep3 \" >\\r\\n\\t\\t\\t\\t\\t\\r\\n\\t\\t\\t\\t\\t\\t<li class=\"\">\\r\\n\\t\\t\\t\\t\\t\\t\\t<a class=\"a3\" href=\"/lab-coop/lab/global-era/\" target=\"_self\">국제지역연구소</a>\\r\\n\\t\\t\\t\\t\\t\\t\\t<ul class=\"dep4 \" >\\r\\n\\t\\t\\t\\t\\t\\t\\t\\r\\n\\t\\t\\t\\t\\t\\t\\t</ul>\\r\\n\\t\\t\\t\\t\\t\\t</li>\\r\\n\\t\\t\\t\\t\\t\\r\\n\\t\\t\\t\\t\\t\\t<li class=\"\">\\r\\n\\t\\t\\t\\t\\t\\t\\t<a class=\"a3\" href=\"/lab-coop/lab/business-economy/\" target=\"_self\">경영경제연구소</a>\\r\\n\\t\\t\\t\\t\\t\\t\\t<ul class=\"dep4 \" >\\r\\n\\t\\t\\t\\t\\t\\t\\t\\r\\n\\t\\t\\t\\t\\t\\t\\t</ul>\\r\\n\\t\\t\\t\\t\\t\\t</li>\\r\\n\\t\\t\\t\\t\\t\\r\\n\\t\\t\\t\\t\\t\\t<li class=\"\">\\r\\n\\t\\t\\t\\t\\t\\t\\t<a class=\"a3\" href=\"/lab-coop/lab/constrict-environment/\" target=\"_self\">건설환경연구소</a>\\r\\n\\t\\t\\t\\t\\t\\t\\t<ul class=\"dep4 \" >\\r\\n\\t\\t\\t\\t\\t\\t\\t\\r\\n\\t\\t\\t\\t\\t\\t\\t</ul>\\r\\n\\t\\t\\t\\t\\t\\t</li>\\r\\n\\t\\t\\t\\t\\t\\r\\n\\t\\t\\t\\t\\t\\t<li class=\"\">\\r\\n\\t\\t\\t\\t\\t\\t\\t<a class=\"a3\" href=\"/lab-coop/lab/hitech-machine/\" target=\"_self\">첨단기계기술연구소</a>\\r\\n\\t\\t\\t\\t\\t\\t\\t<ul class=\"dep4 \" >\\r\\n\\t\\t\\t\\t\\t\\t\\t\\r\\n\\t\\t\\t\\t\\t\\t\\t</ul>\\r\\n\\t\\t\\t\\t\\t\\t</li>\\r\\n\\t\\t\\t\\t\\t\\r\\n\\t\\t\\t\\t\\t\\t<li class=\"\">\\r\\n\\t\\t\\t\\t\\t\\t\\t<a class=\"a3\" href=\"/lab-coop/lab/design/\" target=\"_self\">디자인연구소</a>\\r\\n\\t\\t\\t\\t\\t\\t\\t<ul class=\"dep4 \" >\\r\\n\\t\\t\\t\\t\\t\\t\\t\\r\\n\\t\\t\\t\\t\\t\\t\\t</ul>\\r\\n\\t\\t\\t\\t\\t\\t</li>\\r\\n\\t\\t\\t\\t\\t\\r\\n\\t\\t\\t\\t\\t\\t<li class=\"\">\\r\\n\\t\\t\\t\\t\\t\\t\\t<a class=\"a3\" href=\"/lab-coop/lab/life-science/\" target=\"_self\">생명과학연구소</a>\\r\\n\\t\\t\\t\\t\\t\\t\\t<ul class=\"dep4 \" >\\r\\n\\t\\t\\t\\t\\t\\t\\t\\r\\n\\t\\t\\t\\t\\t\\t\\t</ul>\\r\\n\\t\\t\\t\\t\\t\\t</li>\\r\\n\\t\\t\\t\\t\\t\\r\\n\\t\\t\\t\\t\\t\\t<li class=\"\">\\r\\n\\t\\t\\t\\t\\t\\t\\t<a class=\"a3\" href=\"/lab-coop/lab/ICT/\" target=\"_self\">정보통신기술연구소</a>\\r\\n\\t\\t\\t\\t\\t\\t\\t<ul class=\"dep4 \" >\\r\\n\\t\\t\\t\\t\\t\\t\\t\\r\\n\\t\\t\\t\\t\\t\\t\\t</ul>\\r\\n\\t\\t\\t\\t\\t\\t</li>\\r\\n\\t\\t\\t\\t\\t\\r\\n\\t\\t\\t\\t\\t\\t<li class=\"\">\\r\\n\\t\\t\\t\\t\\t\\t\\t<a class=\"a3\" href=\"/lab-coop/lab/create-science/\" target=\"_self\">창조과학연구소</a>\\r\\n\\t\\t\\t\\t\\t\\t\\t<ul class=\"dep4 \" >\\r\\n\\t\\t\\t\\t\\t\\t\\t\\r\\n\\t\\t\\t\\t\\t\\t\\t</ul>\\r\\n\\t\\t\\t\\t\\t\\t</li>\\r\\n\\t\\t\\t\\t\\t\\r\\n\\t\\t\\t\\t\\t\\t<li class=\"\">\\r\\n\\t\\t\\t\\t\\t\\t\\t<a class=\"a3\" href=\"/lab-coop/lab/edu-belief/\" target=\"_self\">학문과신앙연구소</a>\\r\\n\\t\\t\\t\\t\\t\\t\\t<ul class=\"dep4 \" >\\r\\n\\t\\t\\t\\t\\t\\t\\t\\r\\n\\t\\t\\t\\t\\t\\t\\t</ul>\\r\\n\\t\\t\\t\\t\\t\\t</li>\\r\\n\\t\\t\\t\\t\\t\\r\\n\\t\\t\\t\\t\\t\\t<li class=\"\">\\r\\n\\t\\t\\t\\t\\t\\t\\t<a class=\"a3\" href=\"/lab-coop/lab/PanEastSea-economy/\" target=\"_self\">환동해경제문화연구소</a>\\r\\n\\t\\t\\t\\t\\t\\t\\t<ul class=\"dep4 \" >\\r\\n\\t\\t\\t\\t\\t\\t\\t\\r\\n\\t\\t\\t\\t\\t\\t\\t</ul>\\r\\n\\t\\t\\t\\t\\t\\t</li>\\r\\n\\t\\t\\t\\t\\t\\r\\n\\t\\t\\t\\t\\t\\t<li class=\"\">\\r\\n\\t\\t\\t\\t\\t\\t\\t<a class=\"a3\" href=\"/lab-coop/lab/IEI/\" target=\"_self\">IEI</a>\\r\\n\\t\\t\\t\\t\\t\\t\\t<ul class=\"dep4 \" >\\r\\n\\t\\t\\t\\t\\t\\t\\t\\r\\n\\t\\t\\t\\t\\t\\t\\t</ul>\\r\\n\\t\\t\\t\\t\\t\\t</li>\\r\\n\\t\\t\\t\\t\\t\\r\\n\\t\\t\\t\\t\\t\\t<li class=\"\">\\r\\n\\t\\t\\t\\t\\t\\t\\t<a class=\"a3\" href=\"/lab-coop/lab/expert-mission/\" target=\"_self\">전문인선교연구소</a>\\r\\n\\t\\t\\t\\t\\t\\t\\t<ul class=\"dep4 \" >\\r\\n\\t\\t\\t\\t\\t\\t\\t\\r\\n\\t\\t\\t\\t\\t\\t\\t</ul>\\r\\n\\t\\t\\t\\t\\t\\t</li>\\r\\n\\t\\t\\t\\t\\t\\r\\n\\t\\t\\t\\t\\t\\t<li class=\"\">\\r\\n\\t\\t\\t\\t\\t\\t\\t<a class=\"a3\" href=\"/lab-coop/lab/PanEastSea-maritime/\" target=\"_self\">환동해해양수산연구소</a>\\r\\n\\t\\t\\t\\t\\t\\t\\t<ul class=\"dep4 \" >\\r\\n\\t\\t\\t\\t\\t\\t\\t\\r\\n\\t\\t\\t\\t\\t\\t\\t</ul>\\r\\n\\t\\t\\t\\t\\t\\t</li>\\r\\n\\t\\t\\t\\t\\t\\r\\n\\t\\t\\t\\t\\t\\t<li class=\"\">\\r\\n\\t\\t\\t\\t\\t\\t\\t<a class=\"a3\" href=\"/lab-coop/lab/global-culture/\" target=\"_self\">글로벌문화컨텐츠연구소</a>\\r\\n\\t\\t\\t\\t\\t\\t\\t<ul class=\"dep4 \" >\\r\\n\\t\\t\\t\\t\\t\\t\\t\\r\\n\\t\\t\\t\\t\\t\\t\\t</ul>\\r\\n\\t\\t\\t\\t\\t\\t</li>\\r\\n\\t\\t\\t\\t\\t\\r\\n\\t\\t\\t\\t\\t\\t<li class=\"\">\\r\\n\\t\\t\\t\\t\\t\\t\\t<a class=\"a3\" href=\"/lab-coop/lab/human-service/\" target=\"_self\">휴먼서비스연구소</a>\\r\\n\\t\\t\\t\\t\\t\\t\\t<ul class=\"dep4 \" >\\r\\n\\t\\t\\t\\t\\t\\t\\t\\r\\n\\t\\t\\t\\t\\t\\t\\t</ul>\\r\\n\\t\\t\\t\\t\\t\\t</li>\\r\\n\\t\\t\\t\\t\\t\\r\\n\\t\\t\\t\\t\\t\\t<li class=\"\">\\r\\n\\t\\t\\t\\t\\t\\t\\t<a class=\"a3\" href=\"/lab-coop/lab/interpretation/\" target=\"_self\">통번역연구소</a>\\r\\n\\t\\t\\t\\t\\t\\t\\t<ul class=\"dep4 \" >\\r\\n\\t\\t\\t\\t\\t\\t\\t\\r\\n\\t\\t\\t\\t\\t\\t\\t</ul>\\r\\n\\t\\t\\t\\t\\t\\t</li>\\r\\n\\t\\t\\t\\t\\t\\r\\n\\t\\t\\t\\t\\t\\t<li class=\"\">\\r\\n\\t\\t\\t\\t\\t\\t\\t<a class=\"a3\" href=\"/lab-coop/lab/unify-peace/\" target=\"_self\">통일과평화연구소</a>\\r\\n\\t\\t\\t\\t\\t\\t\\t<ul class=\"dep4 \" >\\r\\n\\t\\t\\t\\t\\t\\t\\t\\r\\n\\t\\t\\t\\t\\t\\t\\t</ul>\\r\\n\\t\\t\\t\\t\\t\\t</li>\\r\\n\\t\\t\\t\\t\\t\\r\\n\\t\\t\\t\\t\\t</ul>\\r\\n\\t\\t\\t\\t</li>\\r\\n\\t\\t\\t\\r\\n\\t\\t\\t\\r\\n\\t\\t\\t\\t<li class=\"link\">\\r\\n\\t\\t\\t\\t\\t<div class=\"tb22\">E-서비스</div>\\r\\n\\t\\t\\t\\t\\t<ul class=\"ul li\">\\r\\n\\t\\t\\t\\t\\t\\t<li><a href=\"http://sarang.handong.edu/campaign/support/\" target=\"_blank\" title=\"새창\">한동대 후원 참여</a></li>\\r\\n\\t\\t\\t\\t\\t\\t<li><a href=\"/about/campus/map/\">캠퍼스맵</a></li>\\r\\n\\t\\t\\t\\t\\t\\t<!--li><a href=\"http://i7.handong.edu/\" target=\"_blank\" title=\"새창\">i7 인트라넷</a></li-->\\r\\n\\t\\t\\t\\t\\t\\t<li><a href=\"/about/campus/ways/\">찾아오시는길</a></li>\\r\\n\\t\\t\\t\\t\\t\\t<li><a href=\"http://han.certpia.com/\" target=\"_blank\" title=\"새창\">온라인증명발급</a></li>\\r\\n\\t\\t\\t\\t\\t\\t<!--li><a href=\"/about/campus/telephone/\">교내전화번호안내</a></li-->\\r\\n\\t\\t\\t\\t\\t\\t<li><a href=\"/square/inform/account/\" >예결산공고</a></li>\\r\\n\\t\\t\\t\\t\\t\\t<li><a href=\"/about/intro/general/\">2015 대학자체평가</a></li>\\r\\n\\t\\t\\t\\t\\t\\t<li><a href=\"/square/offerdata/\">홍보자료신청</a></li>\\r\\n\\t\\t\\t\\t\\t\\t<li><a class=\"last\" href=\"/square/media/video/\">홍보영상</a></li>\\r\\n\\t\\t\\t\\t\\t</ul>\\r\\n\\t\\t\\t\\t</li>\\r\\n\\t\\t\\t</ul>\\r\\n\\t\\t\\t\\r\\n\\t\\t</div>\\r\\n\\t\\r\\n\\t\\t<div class=\"dep1\" tabindex=\"0\">입학안내</div>\\r\\n\\t\\t<div class=\"dep2\" >\\r\\n\\t\\t\\t<ul class=\"d2\">\\r\\n\\t\\t\\t\\r\\n\\t\\t\\t\\t<li class=\"\">\\r\\n\\t\\t\\t\\t\\t<a class=\"a2s\" href=\"http://admissions.handong.edu/\"  target=\"_blank\">대학입학</a>\\r\\n\\t\\t\\t\\t\\t<ul class=\"dep3 \" >\\r\\n\\t\\t\\t\\t\\t\\r\\n\\t\\t\\t\\t\\t\\t<li class=\"\">\\r\\n\\t\\t\\t\\t\\t\\t\\t<a class=\"a3\" href=\"http://admissions.handong.edu/\" target=\"_blank\">입학홈페이지(바로가기)</a>\\r\\n\\t\\t\\t\\t\\t\\t\\t<ul class=\"dep4 \" >\\r\\n\\t\\t\\t\\t\\t\\t\\t\\r\\n\\t\\t\\t\\t\\t\\t\\t</ul>\\r\\n\\t\\t\\t\\t\\t\\t</li>\\r\\n\\t\\t\\t\\t\\t\\r\\n\\t\\t\\t\\t\\t</ul>\\r\\n\\t\\t\\t\\t</li>\\r\\n\\t\\t\\t\\r\\n\\t\\t\\t\\t<li class=\"\">\\r\\n\\t\\t\\t\\t\\t<a class=\"a2s\" href=\"/admission/gradschool/\"  target=\"_self\">대학원입학</a>\\r\\n\\t\\t\\t\\t\\t<ul class=\"dep3 \" >\\r\\n\\t\\t\\t\\t\\t\\r\\n\\t\\t\\t\\t\\t\\t<li class=\"\">\\r\\n\\t\\t\\t\\t\\t\\t\\t<a class=\"a3\" href=\"/admission/gradschool/general_01/\" target=\"_self\">일반대학원(일반전형)</a>\\r\\n\\t\\t\\t\\t\\t\\t\\t<ul class=\"dep4 \" >\\r\\n\\t\\t\\t\\t\\t\\t\\t\\r\\n\\t\\t\\t\\t\\t\\t\\t</ul>\\r\\n\\t\\t\\t\\t\\t\\t</li>\\r\\n\\t\\t\\t\\t\\t\\r\\n\\t\\t\\t\\t\\t\\t<li class=\"\">\\r\\n\\t\\t\\t\\t\\t\\t\\t<a class=\"a3\" href=\"/admission/gradschool/general_02/\" target=\"_self\">일반대학원(학석사연계)</a>\\r\\n\\t\\t\\t\\t\\t\\t\\t<ul class=\"dep4 \" >\\r\\n\\t\\t\\t\\t\\t\\t\\t\\r\\n\\t\\t\\t\\t\\t\\t\\t</ul>\\r\\n\\t\\t\\t\\t\\t\\t</li>\\r\\n\\t\\t\\t\\t\\t\\r\\n\\t\\t\\t\\t\\t\\t<li class=\"\">\\r\\n\\t\\t\\t\\t\\t\\t\\t<a class=\"a3\" href=\"/admission/gradschool/special_01/\" target=\"_self\">교육대학원(계절제)</a>\\r\\n\\t\\t\\t\\t\\t\\t\\t<ul class=\"dep4 \" >\\r\\n\\t\\t\\t\\t\\t\\t\\t\\r\\n\\t\\t\\t\\t\\t\\t\\t</ul>\\r\\n\\t\\t\\t\\t\\t\\t</li>\\r\\n\\t\\t\\t\\t\\t\\r\\n\\t\\t\\t\\t\\t\\t<li class=\"\">\\r\\n\\t\\t\\t\\t\\t\\t\\t<a class=\"a3\" href=\"/admission/gradschool/special_02/\" target=\"_self\">통역번역대학원(한영과)</a>\\r\\n\\t\\t\\t\\t\\t\\t\\t<ul class=\"dep4 \" >\\r\\n\\t\\t\\t\\t\\t\\t\\t\\r\\n\\t\\t\\t\\t\\t\\t\\t</ul>\\r\\n\\t\\t\\t\\t\\t\\t</li>\\r\\n\\t\\t\\t\\t\\t\\r\\n\\t\\t\\t\\t\\t\\t<li class=\"\">\\r\\n\\t\\t\\t\\t\\t\\t\\t<a class=\"a3\" href=\"/admission/gradschool/special_04/\" target=\"_self\">국제경영대학원(최고경영자)</a>\\r\\n\\t\\t\\t\\t\\t\\t\\t<ul class=\"dep4 \" >\\r\\n\\t\\t\\t\\t\\t\\t\\t\\r\\n\\t\\t\\t\\t\\t\\t\\t</ul>\\r\\n\\t\\t\\t\\t\\t\\t</li>\\r\\n\\t\\t\\t\\t\\t\\r\\n\\t\\t\\t\\t\\t\\t<li class=\"\">\\r\\n\\t\\t\\t\\t\\t\\t\\t<a class=\"a3\" href=\"http://www.handong.edu/eng/admission/graduate/management/\" target=\"_blank\">국제경영대학원(GM)</a>\\r\\n\\t\\t\\t\\t\\t\\t\\t<ul class=\"dep4 \" >\\r\\n\\t\\t\\t\\t\\t\\t\\t\\r\\n\\t\\t\\t\\t\\t\\t\\t</ul>\\r\\n\\t\\t\\t\\t\\t\\t</li>\\r\\n\\t\\t\\t\\t\\t\\r\\n\\t\\t\\t\\t\\t\\t<li class=\"\">\\r\\n\\t\\t\\t\\t\\t\\t\\t<a class=\"a3\" href=\"/admission/gradschool/special_05/\" target=\"_self\">상담대학원(야간)</a>\\r\\n\\t\\t\\t\\t\\t\\t\\t<ul class=\"dep4 \" >\\r\\n\\t\\t\\t\\t\\t\\t\\t\\r\\n\\t\\t\\t\\t\\t\\t\\t</ul>\\r\\n\\t\\t\\t\\t\\t\\t</li>\\r\\n\\t\\t\\t\\t\\t\\r\\n\\t\\t\\t\\t\\t\\t<li class=\"\">\\r\\n\\t\\t\\t\\t\\t\\t\\t<a class=\"a3\" href=\"/admission/gradschool/special_06/\" target=\"_self\">국제개발협력대학원</a>\\r\\n\\t\\t\\t\\t\\t\\t\\t<ul class=\"dep4 \" >\\r\\n\\t\\t\\t\\t\\t\\t\\t\\r\\n\\t\\t\\t\\t\\t\\t\\t</ul>\\r\\n\\t\\t\\t\\t\\t\\t</li>\\r\\n\\t\\t\\t\\t\\t\\r\\n\\t\\t\\t\\t\\t\\t<li class=\"\">\\r\\n\\t\\t\\t\\t\\t\\t\\t<a class=\"a3\" href=\"http://lawschool.handong.edu/ko/admission/type/summary/\" target=\"_blank\">한동국제법률대학원</a>\\r\\n\\t\\t\\t\\t\\t\\t\\t<ul class=\"dep4 \" >\\r\\n\\t\\t\\t\\t\\t\\t\\t\\r\\n\\t\\t\\t\\t\\t\\t\\t</ul>\\r\\n\\t\\t\\t\\t\\t\\t</li>\\r\\n\\t\\t\\t\\t\\t\\r\\n\\t\\t\\t\\t\\t</ul>\\r\\n\\t\\t\\t\\t</li>\\r\\n\\t\\t\\t\\r\\n\\t\\t\\t\\r\\n\\t\\t\\t\\t<li class=\"link\">\\r\\n\\t\\t\\t\\t\\t<div class=\"tb22\">E-서비스</div>\\r\\n\\t\\t\\t\\t\\t<ul class=\"ul li\">\\r\\n\\t\\t\\t\\t\\t\\t<li><a href=\"http://sarang.handong.edu/campaign/support/\" target=\"_blank\" title=\"새창\">한동대 후원 참여</a></li>\\r\\n\\t\\t\\t\\t\\t\\t<li><a href=\"/about/campus/map/\">캠퍼스맵</a></li>\\r\\n\\t\\t\\t\\t\\t\\t<!--li><a href=\"http://i7.handong.edu/\" target=\"_blank\" title=\"새창\">i7 인트라넷</a></li-->\\r\\n\\t\\t\\t\\t\\t\\t<li><a href=\"/about/campus/ways/\">찾아오시는길</a></li>\\r\\n\\t\\t\\t\\t\\t\\t<li><a href=\"http://han.certpia.com/\" target=\"_blank\" title=\"새창\">온라인증명발급</a></li>\\r\\n\\t\\t\\t\\t\\t\\t<!--li><a href=\"/about/campus/telephone/\">교내전화번호안내</a></li-->\\r\\n\\t\\t\\t\\t\\t\\t<li><a href=\"/square/inform/account/\" >예결산공고</a></li>\\r\\n\\t\\t\\t\\t\\t\\t<li><a href=\"/about/intro/general/\">2015 대학자체평가</a></li>\\r\\n\\t\\t\\t\\t\\t\\t<li><a href=\"/square/offerdata/\">홍보자료신청</a></li>\\r\\n\\t\\t\\t\\t\\t\\t<li><a class=\"last\" href=\"/square/media/video/\">홍보영상</a></li>\\r\\n\\t\\t\\t\\t\\t</ul>\\r\\n\\t\\t\\t\\t</li>\\r\\n\\t\\t\\t</ul>\\r\\n\\t\\t\\t\\r\\n\\t\\t</div>\\r\\n\\t\\r\\n\\t\\t<div class=\"dep1\" tabindex=\"0\">대학생활</div>\\r\\n\\t\\t<div class=\"dep2\" >\\r\\n\\t\\t\\t<ul class=\"d2\">\\r\\n\\t\\t\\t\\r\\n\\t\\t\\t\\t<li class=\"\">\\r\\n\\t\\t\\t\\t\\t<a class=\"a2s\" href=\"/camplife/inform/\"  target=\"_self\">학사 및 장학 정보</a>\\r\\n\\t\\t\\t\\t\\t<ul class=\"dep3 \" >\\r\\n\\t\\t\\t\\t\\t\\r\\n\\t\\t\\t\\t\\t\\t<li class=\"\">\\r\\n\\t\\t\\t\\t\\t\\t\\t<a class=\"a3s\" href=\"/camplife/inform/school/\" target=\"_self\">학사 안내</a>\\r\\n\\t\\t\\t\\t\\t\\t\\t<ul class=\"dep4 \" >\\r\\n\\t\\t\\t\\t\\t\\t\\t\\r\\n\\t\\t\\t\\t\\t\\t\\t\\t<li class=\"\">\\r\\n\\t\\t\\t\\t\\t\\t\\t\\t\\t<a class=\"a4\" href=\"/camplife/inform/school/schedule/\" target=\"_self\">학사일정</a>\\r\\n\\t\\t\\t\\t\\t\\t\\t\\t</li>\\r\\n\\t\\t\\t\\t\\t\\t\\t\\r\\n\\t\\t\\t\\t\\t\\t\\t\\t<li class=\"\">\\r\\n\\t\\t\\t\\t\\t\\t\\t\\t\\t<a class=\"a4\" href=\"http://admissions.handong.edu/early/view/\" target=\"_blank\">입학</a>\\r\\n\\t\\t\\t\\t\\t\\t\\t\\t</li>\\r\\n\\t\\t\\t\\t\\t\\t\\t\\r\\n\\t\\t\\t\\t\\t\\t\\t\\t<li class=\"\">\\r\\n\\t\\t\\t\\t\\t\\t\\t\\t\\t<a class=\"a4\" href=\"/camplife/inform/school/absence/\" target=\"_self\">휴·복학/재입학</a>\\r\\n\\t\\t\\t\\t\\t\\t\\t\\t</li>\\r\\n\\t\\t\\t\\t\\t\\t\\t\\r\\n\\t\\t\\t\\t\\t\\t\\t\\t<li class=\"\">\\r\\n\\t\\t\\t\\t\\t\\t\\t\\t\\t<a class=\"a4\" href=\"/camplife/inform/school/tran-connect/\" target=\"_self\">전과/연계전공</a>\\r\\n\\t\\t\\t\\t\\t\\t\\t\\t</li>\\r\\n\\t\\t\\t\\t\\t\\t\\t\\r\\n\\t\\t\\t\\t\\t\\t\\t\\t<li class=\"\">\\r\\n\\t\\t\\t\\t\\t\\t\\t\\t\\t<a class=\"a4\" href=\"/camplife/inform/school/class-grade/\" target=\"_self\">수강신청/학점취득</a>\\r\\n\\t\\t\\t\\t\\t\\t\\t\\t</li>\\r\\n\\t\\t\\t\\t\\t\\t\\t\\r\\n\\t\\t\\t\\t\\t\\t\\t\\t<li class=\"\">\\r\\n\\t\\t\\t\\t\\t\\t\\t\\t\\t<a class=\"a4\" href=\"/camplife/inform/school/rule/\" target=\"_self\">교육과정 이수/원칙</a>\\r\\n\\t\\t\\t\\t\\t\\t\\t\\t</li>\\r\\n\\t\\t\\t\\t\\t\\t\\t\\r\\n\\t\\t\\t\\t\\t\\t\\t\\t<li class=\"\">\\r\\n\\t\\t\\t\\t\\t\\t\\t\\t\\t<a class=\"a4\" href=\"/camplife/inform/school/degree/\" target=\"_self\">졸업/제공학위</a>\\r\\n\\t\\t\\t\\t\\t\\t\\t\\t</li>\\r\\n\\t\\t\\t\\t\\t\\t\\t\\r\\n\\t\\t\\t\\t\\t\\t\\t</ul>\\r\\n\\t\\t\\t\\t\\t\\t</li>\\r\\n\\t\\t\\t\\t\\t\\r\\n\\t\\t\\t\\t\\t\\t<li class=\"\">\\r\\n\\t\\t\\t\\t\\t\\t\\t<a class=\"a3s\" href=\"/camplife/inform/scholarship/\" target=\"_self\">장학 안내</a>\\r\\n\\t\\t\\t\\t\\t\\t\\t<ul class=\"dep4 \" >\\r\\n\\t\\t\\t\\t\\t\\t\\t\\r\\n\\t\\t\\t\\t\\t\\t\\t\\t<li class=\"\">\\r\\n\\t\\t\\t\\t\\t\\t\\t\\t\\t<a class=\"a4\" href=\"/camplife/inform/scholarship/in-school/\" target=\"_self\">교내 장학금</a>\\r\\n\\t\\t\\t\\t\\t\\t\\t\\t</li>\\r\\n\\t\\t\\t\\t\\t\\t\\t\\r\\n\\t\\t\\t\\t\\t\\t\\t\\t<li class=\"\">\\r\\n\\t\\t\\t\\t\\t\\t\\t\\t\\t<a class=\"a4\" href=\"/camplife/inform/scholarship/out-of-school/\" target=\"_self\">교외 장학금</a>\\r\\n\\t\\t\\t\\t\\t\\t\\t\\t</li>\\r\\n\\t\\t\\t\\t\\t\\t\\t\\r\\n\\t\\t\\t\\t\\t\\t\\t</ul>\\r\\n\\t\\t\\t\\t\\t\\t</li>\\r\\n\\t\\t\\t\\t\\t\\r\\n\\t\\t\\t\\t\\t</ul>\\r\\n\\t\\t\\t\\t</li>\\r\\n\\t\\t\\t\\r\\n\\t\\t\\t\\t<li class=\"\">\\r\\n\\t\\t\\t\\t\\t<a class=\"a2s\" href=\"/camplife/stu-support/\"  target=\"_self\">학생지원</a>\\r\\n\\t\\t\\t\\t\\t<ul class=\"dep3 \" >\\r\\n\\t\\t\\t\\t\\t\\r\\n\\t\\t\\t\\t\\t\\t<li class=\"\">\\r\\n\\t\\t\\t\\t\\t\\t\\t<a class=\"a3\" href=\"/camplife/stu-support/job/\" target=\"_self\">취업 정보</a>\\r\\n\\t\\t\\t\\t\\t\\t\\t<ul class=\"dep4 \" >\\r\\n\\t\\t\\t\\t\\t\\t\\t\\r\\n\\t\\t\\t\\t\\t\\t\\t</ul>\\r\\n\\t\\t\\t\\t\\t\\t</li>\\r\\n\\t\\t\\t\\t\\t\\r\\n\\t\\t\\t\\t\\t\\t<li class=\"\">\\r\\n\\t\\t\\t\\t\\t\\t\\t<a class=\"a3\" href=\"/camplife/stu-support/military/\" target=\"_self\">병무 정보</a>\\r\\n\\t\\t\\t\\t\\t\\t\\t<ul class=\"dep4 \" >\\r\\n\\t\\t\\t\\t\\t\\t\\t\\r\\n\\t\\t\\t\\t\\t\\t\\t</ul>\\r\\n\\t\\t\\t\\t\\t\\t</li>\\r\\n\\t\\t\\t\\t\\t\\r\\n\\t\\t\\t\\t\\t</ul>\\r\\n\\t\\t\\t\\t</li>\\r\\n\\t\\t\\t\\r\\n\\t\\t\\t\\t<li class=\"\">\\r\\n\\t\\t\\t\\t\\t<a class=\"a2s\" href=\"/camplife/stu-organ/\"  target=\"_self\">학생기구</a>\\r\\n\\t\\t\\t\\t\\t<ul class=\"dep3 \" >\\r\\n\\t\\t\\t\\t\\t\\r\\n\\t\\t\\t\\t\\t\\t<li class=\"\">\\r\\n\\t\\t\\t\\t\\t\\t\\t<a class=\"a3s\" href=\"/camplife/stu-organ/independent-org/\" target=\"_self\">학생자치기구소개</a>\\r\\n\\t\\t\\t\\t\\t\\t\\t<ul class=\"dep4 \" >\\r\\n\\t\\t\\t\\t\\t\\t\\t\\r\\n\\t\\t\\t\\t\\t\\t\\t\\t<li class=\"\">\\r\\n\\t\\t\\t\\t\\t\\t\\t\\t\\t<a class=\"a4\" href=\"/camplife/stu-organ/independent-org/student-body/\" target=\"_self\">총학생회</a>\\r\\n\\t\\t\\t\\t\\t\\t\\t\\t</li>\\r\\n\\t\\t\\t\\t\\t\\t\\t\\r\\n\\t\\t\\t\\t\\t\\t\\t\\t<li class=\"\">\\r\\n\\t\\t\\t\\t\\t\\t\\t\\t\\t<a class=\"a4\" href=\"/camplife/stu-organ/independent-org/council/\" target=\"_self\">대의원회</a>\\r\\n\\t\\t\\t\\t\\t\\t\\t\\t</li>\\r\\n\\t\\t\\t\\t\\t\\t\\t\\r\\n\\t\\t\\t\\t\\t\\t\\t\\t<li class=\"\">\\r\\n\\t\\t\\t\\t\\t\\t\\t\\t\\t<a class=\"a4\" href=\"/camplife/stu-organ/independent-org/dormitory/\" target=\"_self\">생활관 자치회</a>\\r\\n\\t\\t\\t\\t\\t\\t\\t\\t</li>\\r\\n\\t\\t\\t\\t\\t\\t\\t\\r\\n\\t\\t\\t\\t\\t\\t\\t\\t<li class=\"\">\\r\\n\\t\\t\\t\\t\\t\\t\\t\\t\\t<a class=\"a4\" href=\"/camplife/stu-organ/independent-org/club/\" target=\"_self\">총동아리연합회</a>\\r\\n\\t\\t\\t\\t\\t\\t\\t\\t</li>\\r\\n\\t\\t\\t\\t\\t\\t\\t\\r\\n\\t\\t\\t\\t\\t\\t\\t</ul>\\r\\n\\t\\t\\t\\t\\t\\t</li>\\r\\n\\t\\t\\t\\t\\t\\r\\n\\t\\t\\t\\t\\t\\t<li class=\"\">\\r\\n\\t\\t\\t\\t\\t\\t\\t<a class=\"a3s\" href=\"/camplife/stu-organ/club/\" target=\"_self\">동아리소개</a>\\r\\n\\t\\t\\t\\t\\t\\t\\t<ul class=\"dep4 \" >\\r\\n\\t\\t\\t\\t\\t\\t\\t\\r\\n\\t\\t\\t\\t\\t\\t\\t\\t<li class=\"\">\\r\\n\\t\\t\\t\\t\\t\\t\\t\\t\\t<a class=\"a4\" href=\"/camplife/stu-organ/club/perform/\" target=\"_self\">공연예술 분과</a>\\r\\n\\t\\t\\t\\t\\t\\t\\t\\t</li>\\r\\n\\t\\t\\t\\t\\t\\t\\t\\r\\n\\t\\t\\t\\t\\t\\t\\t\\t<li class=\"\">\\r\\n\\t\\t\\t\\t\\t\\t\\t\\t\\t<a class=\"a4\" href=\"/camplife/stu-organ/club/exhibit/\" target=\"_self\">전시 분과</a>\\r\\n\\t\\t\\t\\t\\t\\t\\t\\t</li>\\r\\n\\t\\t\\t\\t\\t\\t\\t\\r\\n\\t\\t\\t\\t\\t\\t\\t\\t<li class=\"\">\\r\\n\\t\\t\\t\\t\\t\\t\\t\\t\\t<a class=\"a4\" href=\"/camplife/stu-organ/club/belief/\" target=\"_self\">종교분과</a>\\r\\n\\t\\t\\t\\t\\t\\t\\t\\t</li>\\r\\n\\t\\t\\t\\t\\t\\t\\t\\r\\n\\t\\t\\t\\t\\t\\t\\t\\t<li class=\"\">\\r\\n\\t\\t\\t\\t\\t\\t\\t\\t\\t<a class=\"a4\" href=\"/camplife/stu-organ/club/physical/\" target=\"_self\">체육분과</a>\\r\\n\\t\\t\\t\\t\\t\\t\\t\\t</li>\\r\\n\\t\\t\\t\\t\\t\\t\\t\\r\\n\\t\\t\\t\\t\\t\\t\\t\\t<li class=\"\">\\r\\n\\t\\t\\t\\t\\t\\t\\t\\t\\t<a class=\"a4\" href=\"/camplife/stu-organ/club/study/\" target=\"_self\">학술분과</a>\\r\\n\\t\\t\\t\\t\\t\\t\\t\\t</li>\\r\\n\\t\\t\\t\\t\\t\\t\\t\\r\\n\\t\\t\\t\\t\\t\\t\\t</ul>\\r\\n\\t\\t\\t\\t\\t\\t</li>\\r\\n\\t\\t\\t\\t\\t\\r\\n\\t\\t\\t\\t\\t</ul>\\r\\n\\t\\t\\t\\t</li>\\r\\n\\t\\t\\t\\r\\n\\t\\t\\t\\t<li class=\"\">\\r\\n\\t\\t\\t\\t\\t<a class=\"a2s\" href=\"/camplife/life/\"  target=\"_self\">생활정보</a>\\r\\n\\t\\t\\t\\t\\t<ul class=\"dep3 \" >\\r\\n\\t\\t\\t\\t\\t\\r\\n\\t\\t\\t\\t\\t\\t<li class=\"\">\\r\\n\\t\\t\\t\\t\\t\\t\\t<a class=\"a3s\" href=\"/camplife/life/amenity/\" target=\"_self\">편의시설안내</a>\\r\\n\\t\\t\\t\\t\\t\\t\\t<ul class=\"dep4 \" >\\r\\n\\t\\t\\t\\t\\t\\t\\t\\r\\n\\t\\t\\t\\t\\t\\t\\t\\t<li class=\"\">\\r\\n\\t\\t\\t\\t\\t\\t\\t\\t\\t<a class=\"a4\" href=\"/camplife/life/amenity/library/\" target=\"_self\">도서관</a>\\r\\n\\t\\t\\t\\t\\t\\t\\t\\t</li>\\r\\n\\t\\t\\t\\t\\t\\t\\t\\r\\n\\t\\t\\t\\t\\t\\t\\t\\t<li class=\"\">\\r\\n\\t\\t\\t\\t\\t\\t\\t\\t\\t<a class=\"a4\" href=\"/camplife/life/amenity/dormitory/\" target=\"_self\">생활관</a>\\r\\n\\t\\t\\t\\t\\t\\t\\t\\t</li>\\r\\n\\t\\t\\t\\t\\t\\t\\t\\r\\n\\t\\t\\t\\t\\t\\t\\t\\t<li class=\"\">\\r\\n\\t\\t\\t\\t\\t\\t\\t\\t\\t<a class=\"a4\" href=\"/camplife/life/amenity/cafeteria/\" target=\"_self\">식당</a>\\r\\n\\t\\t\\t\\t\\t\\t\\t\\t</li>\\r\\n\\t\\t\\t\\t\\t\\t\\t\\r\\n\\t\\t\\t\\t\\t\\t\\t\\t<li class=\"\">\\r\\n\\t\\t\\t\\t\\t\\t\\t\\t\\t<a class=\"a4\" href=\"/camplife/life/amenity/PC/\" target=\"_self\">컴퓨터 실습실</a>\\r\\n\\t\\t\\t\\t\\t\\t\\t\\t</li>\\r\\n\\t\\t\\t\\t\\t\\t\\t\\r\\n\\t\\t\\t\\t\\t\\t\\t\\t<li class=\"\">\\r\\n\\t\\t\\t\\t\\t\\t\\t\\t\\t<a class=\"a4\" href=\"/camplife/life/amenity/etc/\" target=\"_self\">기타 편의시설</a>\\r\\n\\t\\t\\t\\t\\t\\t\\t\\t</li>\\r\\n\\t\\t\\t\\t\\t\\t\\t\\r\\n\\t\\t\\t\\t\\t\\t\\t</ul>\\r\\n\\t\\t\\t\\t\\t\\t</li>\\r\\n\\t\\t\\t\\t\\t\\r\\n\\t\\t\\t\\t\\t\\t<li class=\"\">\\r\\n\\t\\t\\t\\t\\t\\t\\t<a class=\"a3\" href=\"http://admissions.handong.edu/camplife/shuttle/weekday/\" target=\"_blank\">셔틀버스 시간표</a>\\r\\n\\t\\t\\t\\t\\t\\t\\t<ul class=\"dep4 \" >\\r\\n\\t\\t\\t\\t\\t\\t\\t\\r\\n\\t\\t\\t\\t\\t\\t\\t</ul>\\r\\n\\t\\t\\t\\t\\t\\t</li>\\r\\n\\t\\t\\t\\t\\t\\r\\n\\t\\t\\t\\t\\t\\t<li class=\"\">\\r\\n\\t\\t\\t\\t\\t\\t\\t<a class=\"a3\" href=\"/camplife/life/aboutPohang/\" target=\"_self\">포항시 정보</a>\\r\\n\\t\\t\\t\\t\\t\\t\\t<ul class=\"dep4 \" >\\r\\n\\t\\t\\t\\t\\t\\t\\t\\r\\n\\t\\t\\t\\t\\t\\t\\t</ul>\\r\\n\\t\\t\\t\\t\\t\\t</li>\\r\\n\\t\\t\\t\\t\\t\\r\\n\\t\\t\\t\\t\\t</ul>\\r\\n\\t\\t\\t\\t</li>\\r\\n\\t\\t\\t\\r\\n\\t\\t\\t\\t<li class=\"\">\\r\\n\\t\\t\\t\\t\\t<a class=\"a2\" href=\"https://www.ihandong.info/\"  target=\"_blank\">국제교류</a>\\r\\n\\t\\t\\t\\t\\t<ul class=\"dep3 \" >\\r\\n\\t\\t\\t\\t\\t\\r\\n\\t\\t\\t\\t\\t</ul>\\r\\n\\t\\t\\t\\t</li>\\r\\n\\t\\t\\t\\r\\n\\t\\t\\t\\t<li class=\"\">\\r\\n\\t\\t\\t\\t\\t<a class=\"a2s\" href=\"http://rc.handong.edu/\"  target=\"_blank\">생활관/R.C.</a>\\r\\n\\t\\t\\t\\t\\t<ul class=\"dep3 \" >\\r\\n\\t\\t\\t\\t\\t\\r\\n\\t\\t\\t\\t\\t\\t<li class=\"\">\\r\\n\\t\\t\\t\\t\\t\\t\\t<a class=\"a3\" href=\"http://rc.handong.edu/page/dormitory_about.php\" target=\"_blank\">생활관소개</a>\\r\\n\\t\\t\\t\\t\\t\\t\\t<ul class=\"dep4 \" >\\r\\n\\t\\t\\t\\t\\t\\t\\t\\r\\n\\t\\t\\t\\t\\t\\t\\t</ul>\\r\\n\\t\\t\\t\\t\\t\\t</li>\\r\\n\\t\\t\\t\\t\\t\\r\\n\\t\\t\\t\\t\\t\\t<li class=\"\">\\r\\n\\t\\t\\t\\t\\t\\t\\t<a class=\"a3\" href=\"http://rc.handong.edu/page/rc_about.php\" target=\"_blank\">R.C.소개</a>\\r\\n\\t\\t\\t\\t\\t\\t\\t<ul class=\"dep4 \" >\\r\\n\\t\\t\\t\\t\\t\\t\\t\\r\\n\\t\\t\\t\\t\\t\\t\\t</ul>\\r\\n\\t\\t\\t\\t\\t\\t</li>\\r\\n\\t\\t\\t\\t\\t\\r\\n\\t\\t\\t\\t\\t</ul>\\r\\n\\t\\t\\t\\t</li>\\r\\n\\t\\t\\t\\r\\n\\t\\t\\t\\r\\n\\t\\t\\t\\t<li class=\"link\">\\r\\n\\t\\t\\t\\t\\t<div class=\"tb22\">E-서비스</div>\\r\\n\\t\\t\\t\\t\\t<ul class=\"ul li\">\\r\\n\\t\\t\\t\\t\\t\\t<li><a href=\"http://sarang.handong.edu/campaign/support/\" target=\"_blank\" title=\"새창\">한동대 후원 참여</a></li>\\r\\n\\t\\t\\t\\t\\t\\t<li><a href=\"/about/campus/map/\">캠퍼스맵</a></li>\\r\\n\\t\\t\\t\\t\\t\\t<!--li><a href=\"http://i7.handong.edu/\" target=\"_blank\" title=\"새창\">i7 인트라넷</a></li-->\\r\\n\\t\\t\\t\\t\\t\\t<li><a href=\"/about/campus/ways/\">찾아오시는길</a></li>\\r\\n\\t\\t\\t\\t\\t\\t<li><a href=\"http://han.certpia.com/\" target=\"_blank\" title=\"새창\">온라인증명발급</a></li>\\r\\n\\t\\t\\t\\t\\t\\t<!--li><a href=\"/about/campus/telephone/\">교내전화번호안내</a></li-->\\r\\n\\t\\t\\t\\t\\t\\t<li><a href=\"/square/inform/account/\" >예결산공고</a></li>\\r\\n\\t\\t\\t\\t\\t\\t<li><a href=\"/about/intro/general/\">2015 대학자체평가</a></li>\\r\\n\\t\\t\\t\\t\\t\\t<li><a href=\"/square/offerdata/\">홍보자료신청</a></li>\\r\\n\\t\\t\\t\\t\\t\\t<li><a class=\"last\" href=\"/square/media/video/\">홍보영상</a></li>\\r\\n\\t\\t\\t\\t\\t</ul>\\r\\n\\t\\t\\t\\t</li>\\r\\n\\t\\t\\t</ul>\\r\\n\\t\\t\\t\\r\\n\\t\\t</div>\\r\\n\\t\\r\\n\\t\\t<div class=\"dep1\" tabindex=\"0\">한동광장</div>\\r\\n\\t\\t<div class=\"dep2\" >\\r\\n\\t\\t\\t<ul class=\"d2\">\\r\\n\\t\\t\\t\\r\\n\\t\\t\\t\\t<li class=\"\">\\r\\n\\t\\t\\t\\t\\t<a class=\"a2s\" href=\"/square/inform/\"  target=\"_self\">대학정보알림</a>\\r\\n\\t\\t\\t\\t\\t<ul class=\"dep3 \" >\\r\\n\\t\\t\\t\\t\\t\\r\\n\\t\\t\\t\\t\\t\\t<li class=\"\">\\r\\n\\t\\t\\t\\t\\t\\t\\t<a class=\"a3\" href=\"/square/inform/notice/\" target=\"_self\">공지사항</a>\\r\\n\\t\\t\\t\\t\\t\\t\\t<ul class=\"dep4 \" >\\r\\n\\t\\t\\t\\t\\t\\t\\t\\r\\n\\t\\t\\t\\t\\t\\t\\t</ul>\\r\\n\\t\\t\\t\\t\\t\\t</li>\\r\\n\\t\\t\\t\\t\\t\\r\\n\\t\\t\\t\\t\\t\\t<li class=\"\">\\r\\n\\t\\t\\t\\t\\t\\t\\t<a class=\"a3\" href=\"/square/inform/press/\" target=\"_self\">교내소식</a>\\r\\n\\t\\t\\t\\t\\t\\t\\t<ul class=\"dep4 \" >\\r\\n\\t\\t\\t\\t\\t\\t\\t\\r\\n\\t\\t\\t\\t\\t\\t\\t</ul>\\r\\n\\t\\t\\t\\t\\t\\t</li>\\r\\n\\t\\t\\t\\t\\t\\r\\n\\t\\t\\t\\t\\t\\t<li class=\"\">\\r\\n\\t\\t\\t\\t\\t\\t\\t<a class=\"a3s\" href=\"/square/inform/account/\" target=\"_self\">예결산공고</a>\\r\\n\\t\\t\\t\\t\\t\\t\\t<ul class=\"dep4 \" >\\r\\n\\t\\t\\t\\t\\t\\t\\t\\r\\n\\t\\t\\t\\t\\t\\t\\t\\t<li class=\"\">\\r\\n\\t\\t\\t\\t\\t\\t\\t\\t\\t<a class=\"a4\" href=\"/square/inform/account/budget/\" target=\"_self\">예산공고</a>\\r\\n\\t\\t\\t\\t\\t\\t\\t\\t</li>\\r\\n\\t\\t\\t\\t\\t\\t\\t\\r\\n\\t\\t\\t\\t\\t\\t\\t\\t<li class=\"\">\\r\\n\\t\\t\\t\\t\\t\\t\\t\\t\\t<a class=\"a4\" href=\"/square/inform/account/settle/\" target=\"_self\">결산공고</a>\\r\\n\\t\\t\\t\\t\\t\\t\\t\\t</li>\\r\\n\\t\\t\\t\\t\\t\\t\\t\\r\\n\\t\\t\\t\\t\\t\\t\\t\\t<li class=\"\">\\r\\n\\t\\t\\t\\t\\t\\t\\t\\t\\t<a class=\"a4\" href=\"/square/inform/account/tuition/\" target=\"_self\">등록금심의위원회</a>\\r\\n\\t\\t\\t\\t\\t\\t\\t\\t</li>\\r\\n\\t\\t\\t\\t\\t\\t\\t\\r\\n\\t\\t\\t\\t\\t\\t\\t</ul>\\r\\n\\t\\t\\t\\t\\t\\t</li>\\r\\n\\t\\t\\t\\t\\t\\r\\n\\t\\t\\t\\t\\t\\t<li class=\"\">\\r\\n\\t\\t\\t\\t\\t\\t\\t<a class=\"a3\" href=\"/square/inform/bid/\" target=\"_self\">채용·입찰</a>\\r\\n\\t\\t\\t\\t\\t\\t\\t<ul class=\"dep4 \" >\\r\\n\\t\\t\\t\\t\\t\\t\\t\\r\\n\\t\\t\\t\\t\\t\\t\\t</ul>\\r\\n\\t\\t\\t\\t\\t\\t</li>\\r\\n\\t\\t\\t\\t\\t\\r\\n\\t\\t\\t\\t\\t\\t<li class=\"\">\\r\\n\\t\\t\\t\\t\\t\\t\\t<a class=\"a3\" href=\"/square/inform/article/\" target=\"_self\">뉴스기사 게시판</a>\\r\\n\\t\\t\\t\\t\\t\\t\\t<ul class=\"dep4 \" >\\r\\n\\t\\t\\t\\t\\t\\t\\t\\r\\n\\t\\t\\t\\t\\t\\t\\t</ul>\\r\\n\\t\\t\\t\\t\\t\\t</li>\\r\\n\\t\\t\\t\\t\\t\\r\\n\\t\\t\\t\\t\\t\\t<li class=\"\">\\r\\n\\t\\t\\t\\t\\t\\t\\t<a class=\"a3\" href=\"http://www.academyinfo.go.kr/popup/pubinfo1690/list.do?schlId=0000196\" target=\"_blank\">대학정보공시</a>\\r\\n\\t\\t\\t\\t\\t\\t\\t<ul class=\"dep4 \" >\\r\\n\\t\\t\\t\\t\\t\\t\\t\\r\\n\\t\\t\\t\\t\\t\\t\\t</ul>\\r\\n\\t\\t\\t\\t\\t\\t</li>\\r\\n\\t\\t\\t\\t\\t\\r\\n\\t\\t\\t\\t\\t\\t<li class=\"\">\\r\\n\\t\\t\\t\\t\\t\\t\\t<a class=\"a3\" href=\"/square/inform/earthqake/\" target=\"_self\">한동의 지진대응</a>\\r\\n\\t\\t\\t\\t\\t\\t\\t<ul class=\"dep4 \" >\\r\\n\\t\\t\\t\\t\\t\\t\\t\\r\\n\\t\\t\\t\\t\\t\\t\\t</ul>\\r\\n\\t\\t\\t\\t\\t\\t</li>\\r\\n\\t\\t\\t\\t\\t\\r\\n\\t\\t\\t\\t\\t</ul>\\r\\n\\t\\t\\t\\t</li>\\r\\n\\t\\t\\t\\r\\n\\t\\t\\t\\t<li class=\"\">\\r\\n\\t\\t\\t\\t\\t<a class=\"a2s\" href=\"/square/tour-program/\"  target=\"_self\">오픈캠퍼스(캠퍼스투어)</a>\\r\\n\\t\\t\\t\\t\\t<ul class=\"dep3 \" >\\r\\n\\t\\t\\t\\t\\t\\r\\n\\t\\t\\t\\t\\t\\t<li class=\"\">\\r\\n\\t\\t\\t\\t\\t\\t\\t<a class=\"a3\" href=\"/square/tour-program/inform/\" target=\"_self\">한소품 투어 안내</a>\\r\\n\\t\\t\\t\\t\\t\\t\\t<ul class=\"dep4 \" >\\r\\n\\t\\t\\t\\t\\t\\t\\t\\r\\n\\t\\t\\t\\t\\t\\t\\t</ul>\\r\\n\\t\\t\\t\\t\\t\\t</li>\\r\\n\\t\\t\\t\\t\\t\\r\\n\\t\\t\\t\\t\\t\\t<li class=\"\">\\r\\n\\t\\t\\t\\t\\t\\t\\t<a class=\"a3\" href=\"/square/tour-program/apply/\" target=\"_self\">투어신청 프로그램</a>\\r\\n\\t\\t\\t\\t\\t\\t\\t<ul class=\"dep4 \" >\\r\\n\\t\\t\\t\\t\\t\\t\\t\\r\\n\\t\\t\\t\\t\\t\\t\\t</ul>\\r\\n\\t\\t\\t\\t\\t\\t</li>\\r\\n\\t\\t\\t\\t\\t\\r\\n\\t\\t\\t\\t\\t\\t<li class=\"\">\\r\\n\\t\\t\\t\\t\\t\\t\\t<a class=\"a3\" href=\"/square/tour-program/mytour/\" target=\"_self\">투어신청 확인</a>\\r\\n\\t\\t\\t\\t\\t\\t\\t<ul class=\"dep4 \" >\\r\\n\\t\\t\\t\\t\\t\\t\\t\\r\\n\\t\\t\\t\\t\\t\\t\\t</ul>\\r\\n\\t\\t\\t\\t\\t\\t</li>\\r\\n\\t\\t\\t\\t\\t\\r\\n\\t\\t\\t\\t\\t</ul>\\r\\n\\t\\t\\t\\t</li>\\r\\n\\t\\t\\t\\r\\n\\t\\t\\t\\t<li class=\"\">\\r\\n\\t\\t\\t\\t\\t<a class=\"a2s\" href=\"/square/media/\"  target=\"_self\">미디어 한동</a>\\r\\n\\t\\t\\t\\t\\t<ul class=\"dep3 \" >\\r\\n\\t\\t\\t\\t\\t\\r\\n\\t\\t\\t\\t\\t\\t<li class=\"\">\\r\\n\\t\\t\\t\\t\\t\\t\\t<a class=\"a3\" href=\"/square/media/newsletter/\" target=\"_self\">뉴스레터 \\'한동인\\'</a>\\r\\n\\t\\t\\t\\t\\t\\t\\t<ul class=\"dep4 \" >\\r\\n\\t\\t\\t\\t\\t\\t\\t\\r\\n\\t\\t\\t\\t\\t\\t\\t</ul>\\r\\n\\t\\t\\t\\t\\t\\t</li>\\r\\n\\t\\t\\t\\t\\t\\r\\n\\t\\t\\t\\t\\t\\t<li class=\"\">\\r\\n\\t\\t\\t\\t\\t\\t\\t<a class=\"a3\" href=\"/square/media/magazine/\" target=\"_self\">한동 매거진</a>\\r\\n\\t\\t\\t\\t\\t\\t\\t<ul class=\"dep4 \" >\\r\\n\\t\\t\\t\\t\\t\\t\\t\\r\\n\\t\\t\\t\\t\\t\\t\\t</ul>\\r\\n\\t\\t\\t\\t\\t\\t</li>\\r\\n\\t\\t\\t\\t\\t\\r\\n\\t\\t\\t\\t\\t\\t<li class=\"\">\\r\\n\\t\\t\\t\\t\\t\\t\\t<a class=\"a3s\" href=\"/square/media/video/\" target=\"_self\">영상으로 본 한동</a>\\r\\n\\t\\t\\t\\t\\t\\t\\t<ul class=\"dep4 \" >\\r\\n\\t\\t\\t\\t\\t\\t\\t\\r\\n\\t\\t\\t\\t\\t\\t\\t\\t<li class=\"\">\\r\\n\\t\\t\\t\\t\\t\\t\\t\\t\\t<a class=\"a4\" href=\"/square/media/video/promotion/\" target=\"_self\">교내홍보동영상</a>\\r\\n\\t\\t\\t\\t\\t\\t\\t\\t</li>\\r\\n\\t\\t\\t\\t\\t\\t\\t\\r\\n\\t\\t\\t\\t\\t\\t\\t</ul>\\r\\n\\t\\t\\t\\t\\t\\t</li>\\r\\n\\t\\t\\t\\t\\t\\r\\n\\t\\t\\t\\t\\t</ul>\\r\\n\\t\\t\\t\\t</li>\\r\\n\\t\\t\\t\\r\\n\\t\\t\\t\\t<li class=\"\">\\r\\n\\t\\t\\t\\t\\t<a class=\"a2s\" href=\"https://www.facebook.com/handong.univ\"  target=\"_blank\">한동 SNS</a>\\r\\n\\t\\t\\t\\t\\t<ul class=\"dep3 \" >\\r\\n\\t\\t\\t\\t\\t\\r\\n\\t\\t\\t\\t\\t\\t<li class=\"\">\\r\\n\\t\\t\\t\\t\\t\\t\\t<a class=\"a3\" href=\"http://www.facebook.com/handong.univ\" target=\"_blank\">Facebook</a>\\r\\n\\t\\t\\t\\t\\t\\t\\t<ul class=\"dep4 \" >\\r\\n\\t\\t\\t\\t\\t\\t\\t\\r\\n\\t\\t\\t\\t\\t\\t\\t</ul>\\r\\n\\t\\t\\t\\t\\t\\t</li>\\r\\n\\t\\t\\t\\t\\t\\r\\n\\t\\t\\t\\t\\t\\t<li class=\"\">\\r\\n\\t\\t\\t\\t\\t\\t\\t<a class=\"a3\" href=\"https://www.youtube.com/c/HandongUniv\" target=\"_blank\">YouTube 채널</a>\\r\\n\\t\\t\\t\\t\\t\\t\\t<ul class=\"dep4 \" >\\r\\n\\t\\t\\t\\t\\t\\t\\t\\r\\n\\t\\t\\t\\t\\t\\t\\t</ul>\\r\\n\\t\\t\\t\\t\\t\\t</li>\\r\\n\\t\\t\\t\\t\\t\\r\\n\\t\\t\\t\\t\\t</ul>\\r\\n\\t\\t\\t\\t</li>\\r\\n\\t\\t\\t\\r\\n\\t\\t\\t\\t<li class=\"\">\\r\\n\\t\\t\\t\\t\\t<a class=\"a2\" href=\"/square/photo/\"  target=\"_self\">한동포토제닉</a>\\r\\n\\t\\t\\t\\t\\t<ul class=\"dep3 \" >\\r\\n\\t\\t\\t\\t\\t\\r\\n\\t\\t\\t\\t\\t</ul>\\r\\n\\t\\t\\t\\t</li>\\r\\n\\t\\t\\t\\r\\n\\t\\t\\t\\t<li class=\"\">\\r\\n\\t\\t\\t\\t\\t<a class=\"a2\" href=\"/square/offerdata/\"  target=\"_self\">홍보자료신청</a>\\r\\n\\t\\t\\t\\t\\t<ul class=\"dep3 \" >\\r\\n\\t\\t\\t\\t\\t\\r\\n\\t\\t\\t\\t\\t</ul>\\r\\n\\t\\t\\t\\t</li>\\r\\n\\t\\t\\t\\r\\n\\t\\t\\t\\t<li class=\"\">\\r\\n\\t\\t\\t\\t\\t<a class=\"a2\" href=\"http://www.hgualumni.org/\"  target=\"_blank\">총동문회</a>\\r\\n\\t\\t\\t\\t\\t<ul class=\"dep3 \" >\\r\\n\\t\\t\\t\\t\\t\\r\\n\\t\\t\\t\\t\\t</ul>\\r\\n\\t\\t\\t\\t</li>\\r\\n\\t\\t\\t\\r\\n\\t\\t\\t\\t<li class=\"\">\\r\\n\\t\\t\\t\\t\\t<a class=\"a2\" href=\"http://sarang.handong.edu/\"  target=\"_blank\">발전기금</a>\\r\\n\\t\\t\\t\\t\\t<ul class=\"dep3 \" >\\r\\n\\t\\t\\t\\t\\t\\r\\n\\t\\t\\t\\t\\t</ul>\\r\\n\\t\\t\\t\\t</li>\\r\\n\\t\\t\\t\\r\\n\\t\\t\\t\\t<li class=\"\">\\r\\n\\t\\t\\t\\t\\t<a class=\"a2\" href=\"http://handong.hompee.net/\"  target=\"_blank\">학부모 기도회</a>\\r\\n\\t\\t\\t\\t\\t<ul class=\"dep3 \" >\\r\\n\\t\\t\\t\\t\\t\\r\\n\\t\\t\\t\\t\\t</ul>\\r\\n\\t\\t\\t\\t</li>\\r\\n\\t\\t\\t\\r\\n\\t\\t\\t\\r\\n\\t\\t\\t\\t<li class=\"link\">\\r\\n\\t\\t\\t\\t\\t<div class=\"tb22\">E-서비스</div>\\r\\n\\t\\t\\t\\t\\t<ul class=\"ul li\">\\r\\n\\t\\t\\t\\t\\t\\t<li><a href=\"http://sarang.handong.edu/campaign/support/\" target=\"_blank\" title=\"새창\">한동대 후원 참여</a></li>\\r\\n\\t\\t\\t\\t\\t\\t<li><a href=\"/about/campus/map/\">캠퍼스맵</a></li>\\r\\n\\t\\t\\t\\t\\t\\t<!--li><a href=\"http://i7.handong.edu/\" target=\"_blank\" title=\"새창\">i7 인트라넷</a></li-->\\r\\n\\t\\t\\t\\t\\t\\t<li><a href=\"/about/campus/ways/\">찾아오시는길</a></li>\\r\\n\\t\\t\\t\\t\\t\\t<li><a href=\"http://han.certpia.com/\" target=\"_blank\" title=\"새창\">온라인증명발급</a></li>\\r\\n\\t\\t\\t\\t\\t\\t<!--li><a href=\"/about/campus/telephone/\">교내전화번호안내</a></li-->\\r\\n\\t\\t\\t\\t\\t\\t<li><a href=\"/square/inform/account/\" >예결산공고</a></li>\\r\\n\\t\\t\\t\\t\\t\\t<li><a href=\"/about/intro/general/\">2015 대학자체평가</a></li>\\r\\n\\t\\t\\t\\t\\t\\t<li><a href=\"/square/offerdata/\">홍보자료신청</a></li>\\r\\n\\t\\t\\t\\t\\t\\t<li><a class=\"last\" href=\"/square/media/video/\">홍보영상</a></li>\\r\\n\\t\\t\\t\\t\\t</ul>\\r\\n\\t\\t\\t\\t</li>\\r\\n\\t\\t\\t</ul>\\r\\n\\t\\t\\t\\r\\n\\t\\t</div>\\r\\n\\t\\r\\n\\t\\r\\n\\t\\r\\n\\t\\r\\n</div>\\r\\n\\r\\n<script type=\"text/javascript\">\\r\\n\\t$(\".gnb\").hover(function() {\\r\\n\\t}, function() {\\r\\n\\t\\t$(\".dep2\").removeClass(\"on\");\\r\\n\\t});\\r\\n\\t\\r\\n\\t$(\".dep1\").click(function () {\\t\\r\\n\\t\\t$(\".gnb .tab4\").css(\"display\" , \"none\");\\r\\n\\t\\tif (\"dep1 ok\" == $(this).next().attr(\"class\")) {\\r\\n\\t\\t\\t$(\".dep2\").removeClass(\"on\");\\r\\n\\t\\t\\t$(\".dep1\").removeClass(\"ok\");\\r\\n\\t\\t} else {\\r\\n\\t\\t\\t$(this).addClass(\"ok\");\\r\\n\\t\\t\\t$(\".gnb div, .gnb ul, .gnb li\").removeClass(\"on\");\\r\\n\\t\\t\\t$(this).next().addClass(\"on\");\\r\\n\\t\\t\\t$(this).next().children().children().eq(0).addClass(\"on\"); \\r\\n\\t\\t\\t$(this).next().children().children().eq(0).children().eq(1).addClass(\"on\"); \\r\\n\\t\\t\\t$(this).next().children().children().eq(0).children().next().children().eq(0).addClass(\"on\"); \\r\\n\\t\\t\\t$(this).next().children().children().eq(0).children().next().children().eq(0).children().eq(1).addClass(\"on\"); \\r\\n\\t\\t\\t$(this).next().children().children().eq(0).children().next().children().eq(0).children().eq(1).children().eq(0).addClass(\"on\"); \\r\\n\\t\\t\\t\\r\\n\\t\\t\\tif (\"dep2 on\" ==  $(\".gnb\").children().eq(1).attr(\"class\") ) {\\r\\n\\t\\t\\t\\t$(\".dep2 ul\").css(\"height\" , \"380px\"); \\r\\n\\t\\t\\t} else if (\"dep2 on\" ==  $(\".gnb\").children().eq(3).attr(\"class\") )  {\\r\\n\\t\\t\\t\\t$(\".dep2 ul\").css(\"height\" , \"435px\"); \\r\\n\\t\\t\\t} else if (\"dep2 on\" ==  $(\".gnb\").children().eq(5).attr(\"class\") )  {\\r\\n\\t\\t\\t\\t$(\".dep2 ul\").css(\"height\" , \"460px\"); \\r\\n\\t\\t\\t} else {\\r\\n\\t\\t\\t\\t$(\".dep2 ul\").css(\"height\" , \"280px\"); \\r\\n\\t\\t\\t}\\r\\n\\t\\t}\\r\\n\\t});\\r\\n\\t\\r\\n\\t$(\".dep2 a\").hover(function() {\\r\\n\\t\\tvar parent = $(this).parent().parent().attr(\"class\").split(\" \");\\r\\n\\t\\t$(\".\"+ parent[0] + \" li\").removeClass(\"on\");\\r\\n\\t\\tvar calendar = $(this).next().attr(\"class\");\\r\\n\\t\\t$(\".\"+ calendar).removeClass(\"on\");\\r\\n\\t\\t$(this).parent().addClass(\"on\");\\r\\n\\t\\t$(this).next().addClass(\"on\");\\r\\n\\t}, function() {\\r\\n\\t});\\r\\n\\r\\n\\t\\r\\n\\t$(\".dep1\").focus(function () {\\r\\n\\t\\t$(\".gnb .tab4\").css(\"display\" , \"none\");\\r\\n\\t\\t$(\".gnb div, .gnb ul, .gnb li\").removeClass(\"on\");\\r\\n\\t\\t$(this).next().addClass(\"on\");\\r\\n\\t\\t\\r\\n\\t\\tif (\"dep2 on\" ==  $(\".gnb\").children().eq(1).attr(\"class\") ) {\\r\\n\\t\\t\\t$(\".dep2 ul\").css(\"height\" , \"300px\"); \\r\\n\\t\\t} else if (\"dep2 on\" ==  $(\".gnb\").children().eq(3).attr(\"class\") )  {\\r\\n\\t\\t\\t$(\".dep2 ul\").css(\"height\" , \"435px\"); \\r\\n\\t\\t} else if (\"dep2 on\" ==  $(\".gnb\").children().eq(5).attr(\"class\") )  {\\r\\n\\t\\t\\t$(\".dep2 ul\").css(\"height\" , \"460px\"); \\r\\n\\t\\t} else {\\r\\n\\t\\t\\t$(\".dep2 ul\").css(\"height\" , \"280px\"); \\r\\n\\t\\t}\\r\\n\\t});\\r\\n\\r\\n\\t$(\".dep2 a\").focus(function() {\\r\\n\\t\\tvar parent = $(this).parent().parent().attr(\"class\").split(\" \");\\r\\n\\t\\t$(\".\"+ parent[0] + \" li\").removeClass(\"on\");\\r\\n\\t\\tvar calendar = $(this).next().attr(\"class\");\\r\\n\\t\\t$(\".\"+ calendar).removeClass(\"on\");\\r\\n\\t\\t$(this).parent().addClass(\"on\");\\r\\n\\t\\t$(this).next().addClass(\"on\");\\r\\n\\t});\\r\\n\\t\\r\\n\\t$(\".last\").blur(function () {\\r\\n\\t\\t$(\".dep2\").removeClass(\"on\");\\r\\n\\t});\\r\\n\\r\\n</script>\\r\\n\\r\\n\\t\\t\\t\\t</div>\\r\\n\\t\\t\\t</div>\\r\\n\\t\\t\\t<div id=\"m_head\">\\r\\n\\t\\t\\t\\t\\r\\n \\r\\n\\r\\n\\r\\n<ul class=\"menu\">\\r\\n\\t<li><img class=\"on\" alt=\"menu\" src=\"/site/handong/res/img/menu.png\"></li>\\r\\n\\t<li style=\"width:80%;\"><a href=\"/\"><img class=\"logo\" alt=\"logo\" src=\"/site/handong/res/img/m_logo.png\"></a></li>\\r\\n\\t<li><img class=\"gnb_s\" alt=\"search\" src=\"/site/handong/res/img/m_search.png\" /></li>\\r\\n</ul>\\r\\n<div class=\"search\">\\r\\n\\t<form method=\"post\" action=\"/sinfo/search/\">\\r\\n\\t\\t<input name=\"keyword\" type=\"text\" title=\"검색어 입력\" placeholder=\"검색어 입력\">\\r\\n\\t\\t<a onclick=\"$(this).parent().submit()\">검색</a>\\r\\n\\t</form>\\r\\n</div>\\r\\n\\r\\n<div class=\"m_gnb content\">\\r\\n\\t<div class=\"m_login\">\\r\\n\\t\\t\\r\\n \\r\\n\\r\\n\\r\\n \\r\\n  \\r\\n\\t<span class=\"m_no\"><a href=\"/sinfo/signup/\">회원가입</a> &nbsp; l &nbsp;</span>\\r\\n\\t<a class=\"m_off log fancybox.iframe\" href=\"/site/handong/user/login.dcp\">로그인</a>\\r\\n\\t<a class=\"m_on\" href=\"/site/handong/user/login.dcp\">로그인</a> &nbsp; l &nbsp;\\r\\n  \\t\\r\\n\\r\\n \\r\\n<style>\\r\\n\\t.m_on {display:none;}\\r\\n\\t@media only screen and (max-width:1024px) {\\r\\n\\t\\t.m_no {display:none;}\\r\\n\\t}\\r\\n\\t@media only screen and (max-width:860px) {\\r\\n\\t\\t.m_off {display:none;}\\r\\n\\t\\t.m_on {display:inline-block;}\\r\\n\\t\\t#my {display:none;}\\r\\n\\t}\\r\\n</style>\\r\\n\\r\\n\\r\\n\\r\\n\\t\\t<a href=\"http://hisnet.handong.edu/\" target=\"_blank\" title=\"새창\">HISNET</a> &nbsp; l &nbsp;\\r\\n\\t\\t<a href=\"http://www.handong.edu/eng/\">ENGLISH</a>\\r\\n\\t</div>\\r\\n\\t<div class=\"m_menu\">\\r\\n\\t\\r\\n\\t\\t\\r\\n\\t\\t<div>학교소개</div>\\r\\n\\t\\t<ul>\\r\\n\\t\\t\\r\\n\\t\\t\\t\\r\\n\\t\\t\\t<li><a href=\"/about/greet/\" target=\"_self\">환영인사</a></li>\\r\\n\\t\\t\\t\\r\\n\\t\\t\\r\\n\\t\\t\\t\\r\\n\\t\\t\\t<li><a href=\"/about/vision/\" target=\"_self\">이념과 비전</a></li>\\r\\n\\t\\t\\t\\r\\n\\t\\t\\r\\n\\t\\t\\t\\r\\n\\t\\t\\t<li><a href=\"/about/history/\" target=\"_self\">한동의 역사</a></li>\\r\\n\\t\\t\\t\\r\\n\\t\\t\\r\\n\\t\\t\\t\\r\\n\\t\\t\\t<li><a href=\"/about/symbol/\" target=\"_self\">한동의 상징</a></li>\\r\\n\\t\\t\\t\\r\\n\\t\\t\\r\\n\\t\\t\\t\\r\\n\\t\\t\\t<li><a href=\"/about/edu/\" target=\"_self\">한동의 교육</a></li>\\r\\n\\t\\t\\t\\r\\n\\t\\t\\r\\n\\t\\t\\t\\r\\n\\t\\t\\t<li><a href=\"/about/intro/\" target=\"_self\">대학현황</a></li>\\r\\n\\t\\t\\t\\r\\n\\t\\t\\r\\n\\t\\t\\t\\r\\n\\t\\t\\t<li><a href=\"/about/institute/\" target=\"_self\">대학기관</a></li>\\r\\n\\t\\t\\t\\r\\n\\t\\t\\r\\n\\t\\t\\t\\r\\n\\t\\t\\t<li><a href=\"/about/campus/\" target=\"_self\">캠퍼스 안내</a></li>\\r\\n\\t\\t\\t\\r\\n\\t\\t\\r\\n\\t\\t</ul>\\r\\n\\t\\t\\r\\n\\t\\r\\n\\t\\t\\r\\n\\t\\t<div>대학·대학원</div>\\r\\n\\t\\t<ul>\\r\\n\\t\\t\\r\\n\\t\\t\\t\\r\\n\\t\\t\\t<li><a href=\"/major/college/\" target=\"_self\">대학</a></li>\\r\\n\\t\\t\\t\\r\\n\\t\\t\\r\\n\\t\\t\\t\\r\\n\\t\\t\\t<li><a href=\"/major/college_ITC/\" target=\"_self\">IT융합대학</a></li>\\r\\n\\t\\t\\t\\r\\n\\t\\t\\r\\n\\t\\t\\t\\r\\n\\t\\t\\t<li><a href=\"/major/gradschool/\" target=\"_self\">대학원</a></li>\\r\\n\\t\\t\\t\\r\\n\\t\\t\\r\\n\\t\\t</ul>\\r\\n\\t\\t\\r\\n\\t\\r\\n\\t\\t\\r\\n\\t\\t<div>산학·연구</div>\\r\\n\\t\\t<ul>\\r\\n\\t\\t\\r\\n\\t\\t\\t\\r\\n\\t\\t\\t<li><a href=\"/lab-coop/indus-edu-coop/\" target=\"_self\">산학협력</a></li>\\r\\n\\t\\t\\t\\r\\n\\t\\t\\r\\n\\t\\t\\t\\r\\n\\t\\t\\t<li><a href=\"/lab-coop/lab/\" target=\"_self\">연구소</a></li>\\r\\n\\t\\t\\t\\r\\n\\t\\t\\r\\n\\t\\t</ul>\\r\\n\\t\\t\\r\\n\\t\\r\\n\\t\\t\\r\\n\\t\\t<div>입학안내</div>\\r\\n\\t\\t<ul>\\r\\n\\t\\t\\r\\n\\t\\t\\t\\r\\n\\t\\t\\t<li><a href=\"http://admissions.handong.edu/\" target=\"_blank\">대학입학</a></li>\\r\\n\\t\\t\\t\\r\\n\\t\\t\\r\\n\\t\\t\\t\\r\\n\\t\\t\\t<li><a href=\"/admission/gradschool/\" target=\"_self\">대학원입학</a></li>\\r\\n\\t\\t\\t\\r\\n\\t\\t\\r\\n\\t\\t</ul>\\r\\n\\t\\t\\r\\n\\t\\r\\n\\t\\t\\r\\n\\t\\t<div>대학생활</div>\\r\\n\\t\\t<ul>\\r\\n\\t\\t\\r\\n\\t\\t\\t\\r\\n\\t\\t\\t<li><a href=\"/camplife/inform/\" target=\"_self\">학사 및 장학 정보</a></li>\\r\\n\\t\\t\\t\\r\\n\\t\\t\\r\\n\\t\\t\\t\\r\\n\\t\\t\\t<li><a href=\"/camplife/stu-support/\" target=\"_self\">학생지원</a></li>\\r\\n\\t\\t\\t\\r\\n\\t\\t\\r\\n\\t\\t\\t\\r\\n\\t\\t\\t<li><a href=\"/camplife/stu-organ/\" target=\"_self\">학생기구</a></li>\\r\\n\\t\\t\\t\\r\\n\\t\\t\\r\\n\\t\\t\\t\\r\\n\\t\\t\\t<li><a href=\"/camplife/life/\" target=\"_self\">생활정보</a></li>\\r\\n\\t\\t\\t\\r\\n\\t\\t\\r\\n\\t\\t\\t\\r\\n\\t\\t\\t<li><a href=\"https://www.ihandong.info/\" target=\"_blank\">국제교류</a></li>\\r\\n\\t\\t\\t\\r\\n\\t\\t\\r\\n\\t\\t\\t\\r\\n\\t\\t\\t<li><a href=\"http://rc.handong.edu/\" target=\"_blank\">생활관/R.C.</a></li>\\r\\n\\t\\t\\t\\r\\n\\t\\t\\r\\n\\t\\t</ul>\\r\\n\\t\\t\\r\\n\\t\\r\\n\\t\\t\\r\\n\\t\\t<div>한동광장</div>\\r\\n\\t\\t<ul>\\r\\n\\t\\t\\r\\n\\t\\t\\t\\r\\n\\t\\t\\t<li><a href=\"/square/inform/\" target=\"_self\">대학정보알림</a></li>\\r\\n\\t\\t\\t\\r\\n\\t\\t\\r\\n\\t\\t\\t\\r\\n\\t\\t\\t<li><a href=\"/square/tour-program/\" target=\"_self\">오픈캠퍼스(캠퍼스투어)</a></li>\\r\\n\\t\\t\\t\\r\\n\\t\\t\\r\\n\\t\\t\\t\\r\\n\\t\\t\\t<li><a href=\"/square/media/\" target=\"_self\">미디어 한동</a></li>\\r\\n\\t\\t\\t\\r\\n\\t\\t\\r\\n\\t\\t\\t\\r\\n\\t\\t\\t<li><a href=\"https://www.facebook.com/handong.univ\" target=\"_blank\">한동 SNS</a></li>\\r\\n\\t\\t\\t\\r\\n\\t\\t\\r\\n\\t\\t\\t\\r\\n\\t\\t\\t<li><a href=\"/square/photo/\" target=\"_self\">한동포토제닉</a></li>\\r\\n\\t\\t\\t\\r\\n\\t\\t\\r\\n\\t\\t\\t\\r\\n\\t\\t\\t<li><a href=\"/square/offerdata/\" target=\"_self\">홍보자료신청</a></li>\\r\\n\\t\\t\\t\\r\\n\\t\\t\\r\\n\\t\\t\\t\\r\\n\\t\\t\\t<li><a href=\"http://www.hgualumni.org/\" target=\"_blank\">총동문회</a></li>\\r\\n\\t\\t\\t\\r\\n\\t\\t\\r\\n\\t\\t\\t\\r\\n\\t\\t\\t<li><a href=\"http://sarang.handong.edu/\" target=\"_blank\">발전기금</a></li>\\r\\n\\t\\t\\t\\r\\n\\t\\t\\r\\n\\t\\t\\t\\r\\n\\t\\t\\t<li><a href=\"http://handong.hompee.net/\" target=\"_blank\">학부모 기도회</a></li>\\r\\n\\t\\t\\t\\r\\n\\t\\t\\r\\n\\t\\t</ul>\\r\\n\\t\\t\\r\\n\\t\\r\\n\\t</div>\\r\\n</div>\\r\\n\\r\\n<script type=\"text/javascript\">\\r\\n\\t$(\".menu .gnb_s\").click(function () {\\r\\n\\t\\tif (\"none\" == $(\"#m_head .search\").css(\"display\")) {\\r\\n\\t\\t\\t$(\".search\").slideDown();\\r\\n\\t\\t\\t$(\".m_gnb\").slideUp();\\r\\n\\t\\t} else {\\r\\n\\t\\t\\t$(\".search\").slideUp();\\r\\n\\t\\t}\\r\\n\\t});\\r\\n\\t\\r\\n\\t$(\".menu .on\").click(function () {\\r\\n\\t\\tif (\"none\" == $(\".m_gnb\").css(\"display\")) {\\r\\n\\t\\t\\t$(\".m_gnb\").slideDown();\\r\\n\\t\\t\\t$(\".search\").slideUp();\\r\\n\\t\\t} else {\\r\\n\\t\\t\\t$(\".m_gnb\").slideUp();\\r\\n\\t\\t}\\r\\n\\t});\\r\\n\\t\\r\\n\\t$(\".m_gnb .m_menu div\").click(function () {\\t\\r\\n\\t\\tif (\"none\" == $(this).next().css(\"display\")) {\\r\\n\\t\\t\\t$(\".m_gnb .m_menu div\").removeClass(\"on\");\\r\\n\\t\\t\\t$(this).addClass(\"on\");\\r\\n\\t\\t\\t$(\".m_gnb .m_menu ul\").slideUp();\\r\\n\\t\\t\\t$(this).next().slideDown();\\r\\n\\t\\t} else {\\r\\n\\t\\t\\t$(this).next().slideUp();\\r\\n\\t\\t}\\r\\n\\t});\\r\\n\\t\\r\\n\\t$(window).resize(function() {\\r\\n\\t\\tif ($(\".m_gnb\").css(\"display\") != \"none\") {\\r\\n\\t\\t\\tif (1024 < $(\"#head\").css(\"width\").replace(\"px\", \"\")) {\\r\\n\\t\\t\\t\\t$(\".m_gnb\").css(\"display\", \"none\");\\r\\n\\t\\t\\t}\\r\\n\\t\\t}\\r\\n   \\t});\\n</script>\\r\\n \\r\\n\\t\\t\\t</div>\\r\\n\\t\\t\\t\\r\\n\\t\\t\\t<div id=\"main\">\\r\\n\\t\\t\\t\\t<div class=\"splash-w\">\\r\\n\\t\\t\\t\\t\\t<div class=\"splash\">\\r\\n\\t\\t\\t\\t\\t\\t\\r\\n\\t\\t\\t\\t\\t\\t\\t\\r\\n\\t\\t\\t\\t\\t\\t\\t\\r\\n\\t\\t\\t\\t\\t\\t\\r\\n \\r\\n\\r\\n\\n\\n <style type=\"text/css\">\\n \\t#slides {max-height:400px; overflow:hidden;}\\n\\t#slides .slick-dots {position:absolute; top:5px; left:10px; z-index:10;}\\n\\t#slides .slick-dots li {display:inline-block;}\\n\\t#slides .slick-dots button {width:8px; height:8px; border:none; margin:0 3px; font-size:0; background:url(\"/site/handong/res/img/util_slides_off.png\") no-repeat 0 0; cursor:pointer;}\\n\\t#slides .slick-dots .slick-active button {background:url(\"/site/handong/res/img/util_slides_on.png\") no-repeat 0 0;}\\n\\n\\t#slides .img {width:100%; max-width:1199px;}\\n\\t#slides .img-m {width:100%; max-width:1199px; display:none;}\\n\\t#slides .text {position:absolute; bottom:0; right:0;}\\n\\t#slides .text a {display:block; padding:5px 10PX; font-size:20px; font-weight:bold; color:#fff !important; text-align:right; background:#c6a96f; opacity:0.9; overflow:hidden; white-space:nowrap;}\\n\\t#slides .text a span {margin-left:5px; padding:5px 10px; color:#fff; background:#005b9a; border-radius:8px;}\\n\\t.mobile {width:100%; display:none;}\\n\\t.mobile2 {width:100%; display:none;}\\n\\t\\n\\t@media only screen and (max-width:768px) {\\n\\t\\t#slides .text a {font-size:18px;}\\n\\t}\\n\\t@media only screen and (max-width:640px) {\\n\\t\\t#slides .text a {font-size:15px;}\\n\\t}\\n\\t@media only screen and (max-width:480px) {\\n\\t\\t#slides .img {display:none;}\\n\\t\\t#slides .img-m {display:block;}\\n\\t}\\n\\t@media only screen and (max-width:360px) {\\n\\t\\t#slides .text a {padding:5px 2%;  font-size:12px;}\\n\\t}\\n\\t@media only screen and (max-width:320px) {\\n\\t}\\n</style>\\n    \\n<div id=\"slides\">\\n\\t\\n\\t  \\n\\t\\t<div>\\n\\t\\t\\t<img class=\"img\" alt=\"\" src=\"/dcp/store/down.dcp?id=8021\" onerror=\"src=\\'/site/handong/res/img/splash-1199.png\\';\"/>\\n\\t\\t\\t<img class=\"img-m\" alt=\"\" src=\"/dcp/store/down.dcp?id=8022\" onerror=\"src=\\'/site/handong/res/img/splash-600.png\\';\" />\\n\\t\\t\\t<div class=\"text\">\\n\\t\\t\\t\\t<a href=\"https://admissions.handong.edu/inform/notice/?mode=view&id=33571\" target=\"_blank\">수시모집 원서접수 안내 <span>바로가기</span> </a>\\n\\t\\t\\t</div>\\n\\t\\t</div>\\n\\t  \\n\\t\\n\\t  \\n\\t\\t<div>\\n\\t\\t\\t<img class=\"img\" alt=\"\" src=\"/dcp/store/down.dcp?id=7953\" onerror=\"src=\\'/site/handong/res/img/splash-1199.png\\';\"/>\\n\\t\\t\\t<img class=\"img-m\" alt=\"\" src=\"/dcp/store/down.dcp?id=7955\" onerror=\"src=\\'/site/handong/res/img/splash-600.png\\';\" />\\n\\t\\t\\t<div class=\"text\">\\n\\t\\t\\t\\t<a href=\"/square/inform/press/?mode=view&id=33185\" target=\"_self\">파푸아뉴기니 기업가 훈련 프로그램 <span>바로가기</span> </a>\\n\\t\\t\\t</div>\\n\\t\\t</div>\\n\\t  \\n\\t\\n\\t  \\n\\t\\t<div>\\n\\t\\t\\t<img class=\"img\" alt=\"\" src=\"/dcp/store/down.dcp?id=7901\" onerror=\"src=\\'/site/handong/res/img/splash-1199.png\\';\"/>\\n\\t\\t\\t<img class=\"img-m\" alt=\"\" src=\"/dcp/store/down.dcp?id=7908\" onerror=\"src=\\'/site/handong/res/img/splash-600.png\\';\" />\\n\\t\\t\\t<div class=\"text\">\\n\\t\\t\\t\\t<a href=\"/square/inform/press/?mode=view&id=32962&group=0\" target=\"_self\">UNAI 반기문 글로벌교육원 개원 <span>바로가기</span> </a>\\n\\t\\t\\t</div>\\n\\t\\t</div>\\n\\t  \\n\\t\\n\\t  \\n\\t\\t<div>\\n\\t\\t\\t<img class=\"img\" alt=\"\" src=\"/dcp/store/down.dcp?id=7899\" onerror=\"src=\\'/site/handong/res/img/splash-1199.png\\';\"/>\\n\\t\\t\\t<img class=\"img-m\" alt=\"\" src=\"/dcp/store/down.dcp?id=7900\" onerror=\"src=\\'/site/handong/res/img/splash-600.png\\';\" />\\n\\t\\t\\t<div class=\"text\">\\n\\t\\t\\t\\t<a href=\"/square/inform/press/?mode=view&id=32960&group=0\" target=\"_self\">통일교육주간 대한적십자사 방문 <span>바로가기</span> </a>\\n\\t\\t\\t</div>\\n\\t\\t</div>\\n\\t  \\n\\t\\n\\t  \\n\\t\\t<div>\\n\\t\\t\\t<img class=\"img\" alt=\"\" src=\"/dcp/store/down.dcp?id=7896\" onerror=\"src=\\'/site/handong/res/img/splash-1199.png\\';\"/>\\n\\t\\t\\t<img class=\"img-m\" alt=\"\" src=\"/dcp/store/down.dcp?id=7898\" onerror=\"src=\\'/site/handong/res/img/splash-600.png\\';\" />\\n\\t\\t\\t<div class=\"text\">\\n\\t\\t\\t\\t<a href=\"/square/inform/press/?mode=view&id=32871&group=0\" target=\"_self\">한동대, 제12회 ‘사랑의 마라톤’ 개최 <span>바로가기</span> </a>\\n\\t\\t\\t</div>\\n\\t\\t</div>\\n\\t  \\n\\t\\t\\n</div>\\n<img class=\"mobile\" alt=\"\" src=\"/site/handong/res/img/splash-m.jpg\" />\\n<img class=\"mobile2\" alt=\"\" src=\"/site/handong/res/img/splash-1199.png\" />\\n\\n<script type=\"text/javascript\">\\n\\t$(function() {\\n    \\t$(\"#slides\").slick({\\n    \\t\\tautoplay: true,\\n\\t\\t  \\tautoplaySpeed: 7000,\\n\\t\\t\\tarrows : false,\\n\\t\\t\\tdots: true,\\n\\t\\t\\tfade: true,\\n\\t\\t\\tcssEase: \\'linear\\'\\n    \\t});\\n  \\t});\\n\\t\\n</script>\\n\\n\\n\\r\\n\\t\\t\\t\\t\\t</div>\\r\\n\\t\\t\\t\\t</div>\\r\\n\\t\\t\\t\\t<div class=\"moblie\">\\r\\n\\t\\t\\t\\t\\t<img class=\"iw\" alt=\"\" src=\"/site/handong/res/img/main_mov.png\">\\r\\n\\t\\t\\t\\t</div>\\r\\n\\t\\t\\t\\t<div class=\"about-w\">\\r\\n\\t\\t\\t\\t\\t<div class=\"about off\">\\r\\n\\t\\t\\t\\t\\t\\t<div class=\"text\">\\r\\n\\t\\t\\t\\t\\t\\t\\t<div class=\"but\">ABOUT US <img alt=\"\" src=\"/site/handong/res/img/about-up.png\"></div>\\r\\n\\t\\t\\t\\t\\t\\t\\t<img class=\"img\" alt=\"\" src=\"/site/handong/res/img/main_about01.png\">\\r\\n\\t\\t\\t\\t\\t\\t\\t<div class=\"t30\">“사랑 + 창의력”</div>\\r\\n\\t\\t\\t\\t\\t\\t\\t<div class=\"t14\">\\r\\n\\t\\t\\t\\t\\t\\t\\t\\t이웃과 지역사회를 섬기겠다는 ‘사랑’과 문제를해결하고 타인을 도울 수 있는 <br>\\r\\n\\t\\t\\t\\t\\t\\t\\t\\t‘창의력’을 갖춤으로써 <br>\\r\\n\\t\\t\\t\\t\\t\\t\\t\\t대한민국과 지역사회의 발전에 기여하고자 합니다.<br>\\r\\n\\t\\t\\t\\t\\t\\t\\t\\t현실 문제와 동떨어진 공부만 시키는 대학이 아닌 직접 현실적인 문제를 <br>\\r\\n\\t\\t\\t\\t\\t\\t\\t\\t해결하면서 사회에 이바지하는 <br>\\r\\n\\t\\t\\t\\t\\t\\t\\t\\t역할을 하는 한동대학교가 되기 위해 노력할 것 입니다.  \\r\\n\\t\\t\\t\\t\\t\\t\\t</div>\\r\\n\\t\\t\\t\\t\\t\\t</div>\\r\\n\\t\\t\\t\\t\\t</div>\\r\\n\\t\\t\\t\\t</div>\\r\\n\\r\\n\\t\\t\\t\\t<div class=\"main-w\" id=\"skip_main\">\\r\\n\\t\\t\\t\\t\\t<div class=\"main\">\\r\\n\\t\\t\\t\\t\\t\\t<div class=\"t30\">NEWS &amp; NOTICE</div>\\r\\n\\t\\t\\t\\t\\t\\t\\r\\n\\t\\t\\t\\t\\t\\t<ul class=\"news\">\\r\\n\\t\\t\\t\\t\\t\\t\\t\\r\\n\\t\\t\\t\\t\\t\\t\\t\\t\\r\\n\\t\\t\\t\\t\\t\\t\\t\\t\\r\\n\\t\\t\\t\\t\\t\\t\\t\\t\\r\\n\\t\\t\\t\\t\\t\\t\\t\\r\\n \\r\\n\\r\\n\\r\\n\\r\\n\\r\\n\\t<li class=\"m1 b1\">\\r\\n\\t\\t<a href=\"/square/inform/press/?mode=view&id=33662\">\\r\\n\\t\\t\\t<img alt=\"\" src=\"/dcp/store/thumb.dcp?id=8028&cx=300&cy=160\" onerror=\"this.src=\\'/site/handong/res/img/bbs_blog00.png\\';\">\\r\\n\\t\\t\\t<span class=\"tb15\">한동대 LINC+사업단, 취업역량캠프 &lsquo;LINC+ Festival&rsquo; 개최</span>\\r\\n\\t\\t\\t<span class=\"t12\">한동대학교 LINC+사업단은 지난 22일부터 24일까지 경주 스위트호텔에서 취업역량캠프 &lsquo;LINC+ Festival&rsquo;을 개최했다.\\n\\n&nbsp;\\n\\n캠프는 ▲자기소개서 코칭...</span>\\r\\n\\t\\t\\t<span class=\"more\" >more</span>\\r\\n\\t\\t</a>\\r\\n\\t</li>\\r\\n\\r\\n\\t<li class=\"m2 b2\">\\r\\n\\t\\t<a href=\"/square/inform/press/?mode=view&id=33660\">\\r\\n\\t\\t\\t<img alt=\"\" src=\"/dcp/store/thumb.dcp?id=8027&cx=300&cy=160\" onerror=\"this.src=\\'/site/handong/res/img/bbs_blog00.png\\';\">\\r\\n\\t\\t\\t<span class=\"tb15\">한동대, 美 실리콘밸리와 MOU 체결 보도자료</span>\\r\\n\\t\\t\\t<span class=\"t12\">한동대학교(총장 장순흥)가 수많은 스타트업과 유니콘 기업의 탄생지인 미국 실리콘밸리로 진출한다.\\n\\n&nbsp;\\n\\n26일 한동대는 KOTRA 실리콘밸리 무역관(이하 무역관)과 글로벌 산학협력에 ...</span>\\r\\n\\t\\t\\t<span class=\"more\" >more</span>\\r\\n\\t\\t</a>\\r\\n\\t</li>\\r\\n\\r\\n\\t<li class=\"m3 b1\">\\r\\n\\t\\t<a href=\"/square/inform/press/?mode=view&id=33656\">\\r\\n\\t\\t\\t<img alt=\"\" src=\"/dcp/store/thumb.dcp?id=8026&cx=300&cy=160\" onerror=\"this.src=\\'/site/handong/res/img/bbs_blog00.png\\';\">\\r\\n\\t\\t\\t<span class=\"tb15\">한동대 자작자동차동아리, 2019 KSAE 대학생 자작자동차대회 기술아이디어 동상</span>\\r\\n\\t\\t\\t<span class=\"t12\">한동대학교 링크플러스 사업단이 지원하는 자작자동차(AMG)동아리가 한국자동차공학회 주최 2019 KSAE 자작자동차대회에서 기술아이디어 동상을 수상했다.\\n\\n&nbsp;\\n\\n\\n\\n(사진1) 한동대 ...</span>\\r\\n\\t\\t\\t<span class=\"more\" >more</span>\\r\\n\\t\\t</a>\\r\\n\\t</li>\\r\\n\\r\\n\\r\\n\\t\\t\\t\\t\\t\\t</ul>\\r\\n\\t\\t\\t\\t\\t\\t\\r\\n\\t\\t\\t\\t\\t\\t<div class=\"banner\">\\r\\n\\t\\t\\t\\t\\t\\t\\t\\r\\n\\t\\t\\t\\t\\t\\t\\t\\t\\r\\n\\t\\t\\t\\t\\t\\t\\t\\t\\r\\n\\t\\t\\t\\t\\t\\t\\t\\r\\n \\r\\n\\r\\n\\n <style type=\"text/css\">\\n \\t#banners {position:relative; width:239px; height:273px; overflow:hidden;}\\n\\t#banners .slick-dots {position:absolute; bottom:15px; right:10px; z-index:10;}\\n\\t#banners .slick-dots li {display:inline-block;}\\n\\t#banners .slick-dots button {width:8px; height:8px; border:none; margin:0 3px; font-size:0; background:url(\"/site/handong/res/img/util_slides_off.png\") no-repeat 0 0; cursor:pointer;}\\n\\t#banners .slick-dots .slick-active button {background:url(\"/site/handong/res/img/util_slides_on.png\") no-repeat 0 0;}\\n\\n\\t#banners .img {height:273px;}\\n\\t#banners .link {position:absolute; bottom:30px; left:20px; width:73px; display:block; font-size:12px; font-weight:bold; line-height:31px; color:#fff; text-align:center; background:#005b9a; border-radius:5px;}\\n\\t\\n</style>\\n\\n<div id=\"banners\">\\n\\t\\n\\t\\t\\n\\t\\t\\t<div>\\n\\t\\t\\t\\t<img class=\"img\" alt=\"\" src=\"/dcp/store/down.dcp?id=7890\" />\\n\\t\\t\\t\\t<a class=\"link\" href=\"https://www.handongsam.com/\" target=\"_blank\"><img alt=\"바로가기\" src=\"/site/handong/res/img/splash_link.png\"></a>\\n\\t\\t\\t</div>\\n\\t\\t\\n\\t\\n\\t\\t\\n\\t\\t\\t<div>\\n\\t\\t\\t\\t<img class=\"img\" alt=\"\" src=\"/dcp/store/down.dcp?id=1643\" />\\n\\t\\t\\t\\t<a class=\"link\" href=\"http://sarang.handong.edu/news/ebook/gal/\" target=\"_self\"><img alt=\"바로가기\" src=\"/site/handong/res/img/splash_link.png\"></a>\\n\\t\\t\\t</div>\\n\\t\\t\\n\\t\\n\\t\\t\\n\\t\\n\\t\\t\\n\\t\\n\\t\\t\\n\\t\\n\\t\\t\\n\\t\\n\\t\\t\\n\\t\\n\\t\\t\\n\\t\\n\\t\\t\\n\\t\\n\\t\\t\\n\\t\\n\\t\\t\\n\\t\\n\\t\\t\\n\\t\\t\\n</div>\\n\\n<script type=\"text/javascript\">\\n\\t$(function() {\\n   \\t\\t$(\"#banners\").slick({\\n      \\t\\tautoplay: true,\\n  \\t\\t  \\tautoplaySpeed: 3000,\\n  \\t\\t\\tarrows : false,\\n  \\t\\t\\tdots: true,\\n  \\t\\t\\tfade: true,\\n  \\t\\t\\tcssEase: \\'linear\\'\\n      \\t});\\n  \\t});\\n</script>\\n\\r\\n\\t\\t\\t\\t\\t\\t</div>\\r\\n\\t\\t\\t\\t\\t\\t\\r\\n\\t\\t\\t\\t\\t\\t<div class=\"notice\">\\r\\n\\t\\t\\t\\t\\t\\t\\t<div class=\"title on\" tabindex=\"0\">한동소식</div>\\r\\n\\t\\t\\t\\t\\t\\t\\t<ul class=\"bbs\">\\r\\n\\t\\t\\t\\t\\t\\t\\t\\t<a class=\"more\" href=\"/square/inform/press/\"><img alt=\"바로가기\" src=\"/site/handong/res/img/main_link01.png\"></a>\\r\\n\\t\\t\\t\\t\\t\\t\\t\\t\\r\\n\\t\\t\\t\\t\\t\\t\\t\\t\\t\\r\\n\\t\\t\\t\\t\\t\\t\\t\\t\\t\\r\\n\\t\\t\\t\\t\\t\\t\\t\\t\\t\\r\\n\\t\\t\\t\\t\\t\\t\\t\\t\\r\\n \\r\\n\\r\\n\\r\\n\\r\\n\\r\\n\\t\\r\\n\\t<li><a href=\"/square/inform/press/?mode=view&id=33662\">한동대 LINC+사업단, 취업역량캠프 &lsquo;LINC+ Festival&rsquo; 개최</a><span>2019-08-29</span></li>\\r\\n\\t\\r\\n\\t\\r\\n\\r\\n\\t\\r\\n\\t<li><a href=\"/square/inform/press/?mode=view&id=33660\">한동대, 美 실리콘밸리와 MOU 체결 보도자료</a><span>2019-08-28</span></li>\\r\\n\\t\\r\\n\\t\\r\\n\\r\\n\\t\\r\\n\\t<li><a href=\"/square/inform/press/?mode=view&id=33656\">한동대 자작자동차동아리, 2019 KSAE 대학생 자작자동차대회 기술아이디어 동상</a><span>2019-08-27</span></li>\\r\\n\\t\\r\\n\\t\\r\\n\\r\\n\\t\\r\\n\\t<li><a href=\"/square/inform/press/?mode=view&id=33527\">한동대, 인도네시아에서 국제 기업가정신 워크숍 개최</a><span>2019-08-26</span></li>\\r\\n\\t\\r\\n\\t\\r\\n\\r\\n\\t\\r\\n\\t<li><a href=\"/square/inform/press/?mode=view&id=33503\">한동대, 우즈베크 공기업 중간관리자 초청 한국의 경제발전 경험 및 경영전략 전수</a><span>2019-08-23</span></li>\\r\\n\\t\\r\\n\\t\\r\\n\\r\\n\\t\\t\\t\\t\\t\\t\\t</ul>\\r\\n\\t\\t\\t\\t\\t\\t\\t<div class=\"title\" tabindex=\"0\">입학공지</div>\\r\\n\\t\\t\\t\\t\\t\\t\\t<ul class=\"bbs\">\\r\\n\\t\\t\\t\\t\\t\\t\\t\\t<a class=\"more\" href=\"http://admissions.handong.edu/inform/notice/\" target=\"_blank\"><img alt=\"바로가기\" src=\"/site/handong/res/img/main_link01.png\"></a>\\r\\n\\t\\t\\t\\t\\t\\t\\t\\t\\r\\n\\t\\t\\t\\t\\t\\t\\t\\t\\t\\r\\n\\t\\t\\t\\t\\t\\t\\t\\t\\t\\r\\n\\t\\t\\t\\t\\t\\t\\t\\t\\t\\r\\n\\t\\t\\t\\t\\t\\t\\t\\t\\r\\n \\r\\n\\r\\n\\r\\n\\r\\n\\r\\n\\t\\r\\n\\t\\r\\n\\t<li><a href=\"http://admissions.handong.edu/inform/notice/?mode=view&id=33571\" target=\"_blank\" title=\"새창\">2020학년도 수시모집 원서접수 및  경쟁률, 서류제출 안내</a><span>2019-09-04</span></li>\\r\\n\\t\\r\\n\\r\\n\\t\\r\\n\\t\\r\\n\\t<li><a href=\"http://admissions.handong.edu/inform/notice/?mode=view&id=33671\" target=\"_blank\" title=\"새창\">2020학년도 정시 모집요강 공고</a><span>2019-09-02</span></li>\\r\\n\\t\\r\\n\\r\\n\\t\\r\\n\\t\\r\\n\\t<li><a href=\"http://admissions.handong.edu/inform/notice/?mode=view&id=33608\" target=\"_blank\" title=\"새창\">2020학년도 재외국민 등 최초합격자 발표 안내</a><span>2019-08-30</span></li>\\r\\n\\t\\r\\n\\r\\n\\t\\r\\n\\t\\r\\n\\t<li><a href=\"http://admissions.handong.edu/inform/notice/?mode=view&id=33581\" target=\"_blank\" title=\"새창\">2020학년도 편입학 모집계획</a><span>2019-08-29</span></li>\\r\\n\\t\\r\\n\\r\\n\\t\\r\\n\\t\\r\\n\\t<li><a href=\"http://admissions.handong.edu/inform/notice/?mode=view&id=33452\" target=\"_blank\" title=\"새창\">2019학년도 2학기 학생환경기록카드 작성 안내</a><span>2019-08-19</span></li>\\r\\n\\t\\r\\n\\r\\n\\t\\t\\t\\t\\t\\t\\t</ul>\\r\\n\\t\\t\\t\\t\\t\\t\\t<div class=\"title\" tabindex=\"0\">대학공지</div>\\r\\n\\t\\t\\t\\t\\t\\t\\t<ul class=\"bbs\">\\r\\n\\t\\t\\t\\t\\t\\t\\t\\t<a class=\"more\" href=\"/square/inform/notice/\"><img alt=\"바로가기\" src=\"/site/handong/res/img/main_link01.png\"></a>\\r\\n\\t\\t\\t\\t\\t\\t\\t\\t\\r\\n\\t\\t\\t\\t\\t\\t\\t\\t\\t\\r\\n\\t\\t\\t\\t\\t\\t\\t\\t\\t\\r\\n\\t\\t\\t\\t\\t\\t\\t\\t\\t\\r\\n\\t\\t\\t\\t\\t\\t\\t\\t\\r\\n \\r\\n\\r\\n\\r\\n\\r\\n\\r\\n\\t\\r\\n\\t<li><a href=\"/square/inform/notice/?mode=view&id=33348\">2019학년도 후기 일반대학원 입학전형 추가모집 합격자 발표</a><span>2019-08-06</span></li>\\r\\n\\t\\r\\n\\t\\r\\n\\r\\n\\t\\r\\n\\t<li><a href=\"/square/inform/notice/?mode=view&id=33301\">2019학년도 2학기 등록금 납부 및 분납 안내(학부 재학생)</a><span>2019-07-30</span></li>\\r\\n\\t\\r\\n\\t\\r\\n\\r\\n\\t\\r\\n\\t<li><a href=\"/square/inform/notice/?mode=view&id=33230\">2019년 2학기 글로벌 미래 평생교육원 일반교육과정 수강생 모집 안내</a><span>2019-07-18</span></li>\\r\\n\\t\\r\\n\\t\\r\\n\\r\\n\\t\\r\\n\\t<li><a href=\"/square/inform/notice/?mode=view&id=33222\"> (마감)로봇교육 지도사 양성과정 수강생 모집</a><span>2019-07-17</span></li>\\r\\n\\t\\r\\n\\t\\r\\n\\r\\n\\t\\r\\n\\t<li><a href=\"/square/inform/notice/?mode=view&id=33136\">2019학년도 후기 일반대학원 입학전형 최종 합격자 발표</a><span>2019-07-03</span></li>\\r\\n\\t\\r\\n\\t\\r\\n\\r\\n\\t\\t\\t\\t\\t\\t\\t</ul>\\r\\n\\t\\t\\t\\t\\t\\t\\t<div class=\"title\" tabindex=\"0\">채용·입찰</div>\\r\\n\\t\\t\\t\\t\\t\\t\\t<ul class=\"bbs\">\\r\\n\\t\\t\\t\\t\\t\\t\\t\\t<a class=\"more\" href=\"/square/inform/bid/\"><img alt=\"바로가기\" src=\"/site/handong/res/img/main_link01.png\"></a>\\r\\n\\t\\t\\t\\t\\t\\t\\t\\t\\r\\n\\t\\t\\t\\t\\t\\t\\t\\t\\t\\r\\n\\t\\t\\t\\t\\t\\t\\t\\t\\t\\r\\n\\t\\t\\t\\t\\t\\t\\t\\t\\t\\r\\n\\t\\t\\t\\t\\t\\t\\t\\t\\r\\n \\r\\n\\r\\n\\r\\n\\r\\n\\r\\n\\t\\r\\n\\t<li><a href=\"/square/inform/bid/?mode=view&id=33760\">재무관리팀 계약직원 신규채용 공고</a><span>2019-09-05</span></li>\\r\\n\\t\\r\\n\\t\\r\\n\\r\\n\\t\\r\\n\\t<li><a href=\"/square/inform/bid/?mode=view&id=33729\"> 2019학년도 2학기 창의융합교육원 겸임교수 초빙 </a><span>2019-09-04</span></li>\\r\\n\\t\\r\\n\\t\\r\\n\\r\\n\\t\\r\\n\\t<li><a href=\"/square/inform/bid/?mode=view&id=33574\">한동대학교 경력개발팀 계약직원 채용 공고</a><span>2019-08-28</span></li>\\r\\n\\t\\r\\n\\t\\r\\n\\r\\n\\t\\r\\n\\t<li><a href=\"/square/inform/bid/?mode=view&id=33526\">[면접대상자 발표] 첨단기계기술연구소 연구원(코디네이터) 신규채용 공고</a><span>2019-08-26</span></li>\\r\\n\\t\\r\\n\\t\\r\\n\\r\\n\\t\\r\\n\\t<li><a href=\"/square/inform/bid/?mode=view&id=33504\">한동대학교 창업교육지원팀 계약직원채용</a><span>2019-08-23</span></li>\\r\\n\\t\\r\\n\\t\\r\\n\\r\\n\\t\\t\\t\\t\\t\\t\\t</ul>\\r\\n\\t\\t\\t\\t\\t\\t</div>\\r\\n\\t\\t\\t\\t\\t\\t\\r\\n\\t\\t\\t\\t\\t\\t<div class=\"calendar\">\\r\\n\\t\\t\\t\\t\\t\\t\\t<a class=\"more\" href=\"/camplife/inform/school/schedule/\"><img alt=\"바로가기\" src=\"/site/handong/res/img/main_link03.png\"></a>\\r\\n\\t\\t\\t\\t\\t\\t\\t<div class=\"tb20\">학사일정</div>\\r\\n\\t\\t\\t\\t\\t\\t\\t\\r\\n \\r\\n\\r\\n\\r\\n\\t\\r\\n<div class=\"dcp-schedule\" style=\"height: 210px !important\">\\r\\n\\t<ul style=\"padding: 0 20px 0 15px !important;\">\\r\\n\\t\\t\\r\\n\\t\\t\\r\\n\\t\\t\\r\\n\\t\\t<li style=\"padding:14px 0px !important; width:200px;\">\\r\\n\\t\\t\\r\\n\\t\\t\\t<a href=\"/camplife/inform/school/schedule/\">\\r\\n\\t\\t\\t<span>&gt; &nbsp; 개강후 7일이내 휴학마감(등록금 전액이월)</span>\\r\\n\\t\\t\\t<span class=\"date\">&nbsp; &nbsp; &nbsp;\\r\\n\\t\\t\\t\\t\\r\\n\\t\\t\\t\\t\\t\\r\\n\\t\\t\\t\\t\\t\\t2019.09.01\\r\\n\\t\\t\\t\\t\\t\\r\\n\\t\\t\\t\\t\\t\\r\\n\\t\\t\\t\\t\\r\\n\\t \\t\\t</span>\\r\\n\\t\\t</a>\\r\\n\\t\\t\\r\\n\\t\\t\\r\\n\\t\\t</li>\\r\\n\\t\\t\\r\\n\\t\\t\\r\\n\\t\\t\\r\\n\\t\\t<li style=\"padding:14px 0px !important; width:200px;\">\\r\\n\\t\\t\\r\\n\\t\\t\\t<a href=\"/camplife/inform/school/schedule/\">\\r\\n\\t\\t\\t<span>&gt; &nbsp; 히즈넷 수강철회</span>\\r\\n\\t\\t\\t<span class=\"date\">&nbsp; &nbsp; &nbsp;\\r\\n\\t\\t\\t\\t\\r\\n\\t\\t\\t\\t\\t\\r\\n\\t\\t\\t\\t\\t\\r\\n\\t\\t\\t\\t\\t\\t2019.09.06 ~ 2019.09.08\\t\\t\\r\\n\\t\\t\\t\\t\\t\\r\\n\\t\\t\\t\\t\\r\\n\\t \\t\\t</span>\\r\\n\\t\\t</a>\\r\\n\\t\\t\\r\\n\\t\\t\\r\\n\\t\\t</li>\\r\\n\\t\\t\\r\\n\\t\\t\\r\\n\\t\\t\\r\\n\\t\\t<li style=\"padding:14px 0px !important; width:200px;\">\\r\\n\\t\\t\\r\\n\\t\\t\\t<a href=\"/camplife/inform/school/schedule/\">\\r\\n\\t\\t\\t<span>&gt; &nbsp; 2019-2학기 수업적응도 1차 설문조사 시작</span>\\r\\n\\t\\t\\t<span class=\"date\">&nbsp; &nbsp; &nbsp;\\r\\n\\t\\t\\t\\t\\r\\n\\t\\t\\t\\t\\t\\r\\n\\t\\t\\t\\t\\t\\t2019.09.16\\r\\n\\t\\t\\t\\t\\t\\r\\n\\t\\t\\t\\t\\t\\r\\n\\t\\t\\t\\t\\r\\n\\t \\t\\t</span>\\r\\n\\t\\t</a>\\r\\n\\t\\t\\r\\n\\t\\t\\r\\n\\t\\t</li>\\r\\n\\t\\t\\r\\n\\t\\t\\r\\n\\t\\t\\r\\n\\t\\t<li style=\"padding:14px 0px !important; width:200px;\">\\r\\n\\t\\t\\r\\n\\t\\t\\t<a href=\"/camplife/inform/school/schedule/\">\\r\\n\\t\\t\\t<span>&gt; &nbsp; 수업일수 1/4선</span>\\r\\n\\t\\t\\t<span class=\"date\">&nbsp; &nbsp; &nbsp;\\r\\n\\t\\t\\t\\t\\r\\n\\t\\t\\t\\t\\t\\r\\n\\t\\t\\t\\t\\t\\t2019.09.20\\r\\n\\t\\t\\t\\t\\t\\r\\n\\t\\t\\t\\t\\t\\r\\n\\t\\t\\t\\t\\r\\n\\t \\t\\t</span>\\r\\n\\t\\t</a>\\r\\n\\t\\t\\r\\n\\t\\t\\r\\n\\t\\t</li>\\r\\n\\t\\t\\r\\n\\t\\t\\r\\n\\t\\t\\r\\n\\t\\t<li style=\"padding:14px 0px !important; width:200px;\">\\r\\n\\t\\t\\r\\n\\t\\t\\t<a href=\"/camplife/inform/school/schedule/\">\\r\\n\\t\\t\\t<span>&gt; &nbsp; 2019-2학기 수업적응도 1차 설문조사 마감</span>\\r\\n\\t\\t\\t<span class=\"date\">&nbsp; &nbsp; &nbsp;\\r\\n\\t\\t\\t\\t\\r\\n\\t\\t\\t\\t\\t\\r\\n\\t\\t\\t\\t\\t\\t2019.09.29\\r\\n\\t\\t\\t\\t\\t\\r\\n\\t\\t\\t\\t\\t\\r\\n\\t\\t\\t\\t\\r\\n\\t \\t\\t</span>\\r\\n\\t\\t</a>\\r\\n\\t\\t\\r\\n\\t\\t\\r\\n\\t\\t</li>\\r\\n\\t\\t\\r\\n\\t</ul>\\r\\n</div>\\r\\n\\r\\n\\r\\n<script type=\"text/javascript\">\\r\\n\\r\\n\\t$(\\'.dcp-schedule\\').vTicker(\\'init\\', {\\r\\n\\t\\tspeed: 1000, \\r\\n    \\tpause: 5000,\\r\\n    \\tshowItems: 3\\r\\n    });\\r\\n\\t\\r\\n</script>\\r\\n\\r\\n\\t\\t\\t\\t\\t\\t</div>\\r\\n\\t\\t\\t\\t\\t\\t\\r\\n\\t\\t\\t\\t\\t\\t<div class=\"t30 dn\">HGU MEDIA</div>\\r\\n\\t\\t\\t\\t\\t\\t<div class=\"hgu\">\\r\\n\\t\\t\\t\\t\\t\\t\\t<a class=\"more\" href=\"/square/media/video/promotion/\"><img alt=\"바로가기\" src=\"/site/handong/res/img/main_link02.png\"></a>\\r\\n\\t\\t\\t\\t\\t\\t\\t\\r\\n\\t\\t\\t\\t\\t\\t\\t\\t\\r\\n\\t\\t\\t\\t\\t\\t\\t\\t\\r\\n\\t\\t\\t\\t\\t\\t\\t\\r\\n \\r\\n\\r\\n\\r\\n\\r\\n<script type=\"text/javascript\">\\r\\n\\tfunction onVideo(id, bbs_id) {\\r\\n\\t\\t\\xa0$.ajax({\\r\\n\\xa0\\xa0\\xa0\\xa0\\xa0\\xa0\\xa0\\xa0\\xa0\\xa0\\xa0\\xa0type: \"post\",\\r\\n\\xa0\\xa0\\xa0\\xa0\\xa0\\xa0\\xa0\\xa0\\xa0\\xa0\\xa0\\xa0url: \\'/ext/bbs/get_video.dcp\\',\\r\\n\\xa0\\xa0\\xa0\\xa0\\xa0\\xa0\\xa0\\xa0\\xa0\\xa0\\xa0\\xa0data: {\"id\": id, \"bbs_id\": bbs_id, \"view\": \"video_handong_main\" },\\r\\n\\t\\t\\tdataType: \"text\",\\r\\n\\xa0\\xa0\\xa0\\xa0\\xa0\\xa0\\xa0\\xa0\\xa0\\xa0\\xa0\\xa0success: function(data) {\\r\\n\\t\\t\\t\\t$(\"#video_view\").html(data);\\r\\n\\t\\t\\t}\\r\\n\\xa0\\xa0\\xa0\\xa0\\xa0\\xa0\\xa0\\xa0});\\r\\n\\t}\\r\\n</script>\\r\\n\\r\\n<div class=\"video\" id=\"video_view\" style=\"width:560px;\">\\r\\n</div>\\r\\n\\r\\n<ul class=\"content video_list\" style=\"margin-top: 55px; width: 385px;\">\\r\\n  \\r\\n\\t\\r\\n  \\t\\t<script type=\"text/javascript\">\\r\\n  \\t\\t\\tonVideo(\\'33667\\', \\'61\\');\\r\\n  \\t\\t</script>\\r\\n\\t\\t\\t\\r\\n\\t<li class=\"main_video main_video_33667\">\\r\\n\\t\\t<a href=\"javascript:onVideo(33667, 61)\">\\r\\n\\t\\t\\t<img style=\"width:70px; height:40px;\" class=\"img\" alt=\"\" src=\"/dcp/store/thumb.dcp?id=8029&cx=145&cy=105\" onerror=\"src=\\'/res/img/bbs/video01.png\\';\">\\r\\n\\t\\t\\t<span class=\"tb14\">2019 여름방학 특집! 한동, 여름방학엔 무슨 일들이?!</span><br>\\r\\n\\t\\t\\t<span class=\"t12\">2019.08.27</span><br>\\r\\n\\t\\t</a>\\r\\n\\t</li>\\r\\n  \\r\\n\\t\\t\\t\\r\\n\\t<li class=\"main_video main_video_33469\">\\r\\n\\t\\t<a href=\"javascript:onVideo(33469, 61)\">\\r\\n\\t\\t\\t<img style=\"width:70px; height:40px;\" class=\"img\" alt=\"\" src=\"/dcp/store/thumb.dcp?id=7996&cx=145&cy=105\" onerror=\"src=\\'/res/img/bbs/video01.png\\';\">\\r\\n\\t\\t\\t<span class=\"tb14\">2박 3일 대학 체험판, 한동대학교 입시 캠프 | 2019 G-IMPACT</span><br>\\r\\n\\t\\t\\t<span class=\"t12\">2019.08.14</span><br>\\r\\n\\t\\t</a>\\r\\n\\t</li>\\r\\n  \\r\\n\\t\\t\\t\\r\\n\\t<li class=\"main_video main_video_33468\">\\r\\n\\t\\t<a href=\"javascript:onVideo(33468, 61)\">\\r\\n\\t\\t\\t<img style=\"width:70px; height:40px;\" class=\"img\" alt=\"\" src=\"/dcp/store/thumb.dcp?id=7995&cx=145&cy=105\" onerror=\"src=\\'/res/img/bbs/video01.png\\';\">\\r\\n\\t\\t\\t<span class=\"tb14\">✈ 외국인 중&middot;고등생들의 한국/한동대학교 체험기 [2019 Handong Leadership School]</span><br>\\r\\n\\t\\t\\t<span class=\"t12\">2019.08.01</span><br>\\r\\n\\t\\t</a>\\r\\n\\t</li>\\r\\n  \\r\\n\\t\\t\\t\\r\\n\\t<li class=\"main_video main_video_33209\">\\r\\n\\t\\t<a href=\"javascript:onVideo(33209, 61)\">\\r\\n\\t\\t\\t<img style=\"width:70px; height:40px;\" class=\"img\" alt=\"\" src=\"/dcp/store/thumb.dcp?id=7934&cx=145&cy=105\" onerror=\"src=\\'/res/img/bbs/video01.png\\';\">\\r\\n\\t\\t\\t<span class=\"tb14\">첫 학기를 마친 새내기들에게 전하는 선배들의 메세지는? [소파인터뷰 #02]</span><br>\\r\\n\\t\\t\\t<span class=\"t12\">2019.07.12</span><br>\\r\\n\\t\\t</a>\\r\\n\\t</li>\\r\\n  \\r\\n\\t\\t\\t\\r\\n\\t<li class=\"main_video main_video_33172\">\\r\\n\\t\\t<a href=\"javascript:onVideo(33172, 61)\">\\r\\n\\t\\t\\t<img style=\"width:70px; height:40px;\" class=\"img\" alt=\"\" src=\"/dcp/store/thumb.dcp?id=7924&cx=145&cy=105\" onerror=\"src=\\'/res/img/bbs/video01.png\\';\">\\r\\n\\t\\t\\t<span class=\"tb14\">故 김영길 초대 총장 천국환송예배(포항)</span><br>\\r\\n\\t\\t\\t<span class=\"t12\">2019.07.04</span><br>\\r\\n\\t\\t</a>\\r\\n\\t</li>\\r\\n  \\r\\n\\t\\t\\t\\r\\n\\t<li class=\"main_video main_video_33171\">\\r\\n\\t\\t<a href=\"javascript:onVideo(33171, 61)\">\\r\\n\\t\\t\\t<img style=\"width:70px; height:40px;\" class=\"img\" alt=\"\" src=\"/dcp/store/thumb.dcp?id=7923&cx=145&cy=105\" onerror=\"src=\\'/res/img/bbs/video01.png\\';\">\\r\\n\\t\\t\\t<span class=\"tb14\">故 김영길 초대 총장 추모영상</span><br>\\r\\n\\t\\t\\t<span class=\"t12\">2019.07.03</span><br>\\r\\n\\t\\t</a>\\r\\n\\t</li>\\r\\n  \\r\\n\\t\\t\\t\\r\\n\\t<li class=\"main_video main_video_33126\">\\r\\n\\t\\t<a href=\"javascript:onVideo(33126, 61)\">\\r\\n\\t\\t\\t<img style=\"width:70px; height:40px;\" class=\"img\" alt=\"\" src=\"/dcp/store/thumb.dcp?id=7917&cx=145&cy=105\" onerror=\"src=\\'/res/img/bbs/video01.png\\';\">\\r\\n\\t\\t\\t<span class=\"tb14\">故 김영길 총장 퇴임 이벤트</span><br>\\r\\n\\t\\t\\t<span class=\"t12\">2019.07.02</span><br>\\r\\n\\t\\t</a>\\r\\n\\t</li>\\r\\n  \\r\\n\\t\\t\\t\\r\\n\\t<li class=\"main_video main_video_33115\">\\r\\n\\t\\t<a href=\"javascript:onVideo(33115, 61)\">\\r\\n\\t\\t\\t<img style=\"width:70px; height:40px;\" class=\"img\" alt=\"\" src=\"/dcp/store/thumb.dcp?id=7913&cx=145&cy=105\" onerror=\"src=\\'/res/img/bbs/video01.png\\';\">\\r\\n\\t\\t\\t<span class=\"tb14\">시골 소년 우주를 꿈꾸다 (어느 과학자의 이야기)</span><br>\\r\\n\\t\\t\\t<span class=\"t12\">2019.06.30</span><br>\\r\\n\\t\\t</a>\\r\\n\\t</li>\\r\\n  \\r\\n\\t\\t\\t\\r\\n\\t<li class=\"main_video main_video_33114\">\\r\\n\\t\\t<a href=\"javascript:onVideo(33114, 61)\">\\r\\n\\t\\t\\t<img style=\"width:70px; height:40px;\" class=\"img\" alt=\"\" src=\"/dcp/store/thumb.dcp?id=7912&cx=145&cy=105\" onerror=\"src=\\'/res/img/bbs/video01.png\\';\">\\r\\n\\t\\t\\t<span class=\"tb14\">故 김영길 초대 총장 마지막 채플</span><br>\\r\\n\\t\\t\\t<span class=\"t12\">2019.06.30</span><br>\\r\\n\\t\\t</a>\\r\\n\\t</li>\\r\\n  \\r\\n\\t\\t\\t\\r\\n\\t<li class=\"main_video main_video_33127\">\\r\\n\\t\\t<a href=\"javascript:onVideo(33127, 61)\">\\r\\n\\t\\t\\t<img style=\"width:70px; height:40px;\" class=\"img\" alt=\"\" src=\"/dcp/store/thumb.dcp?id=7918&cx=145&cy=105\" onerror=\"src=\\'/res/img/bbs/video01.png\\';\">\\r\\n\\t\\t\\t<span class=\"tb14\">2019. 6월 - 봄 학기 한동엔 무슨일들이?</span><br>\\r\\n\\t\\t\\t<span class=\"t12\">2019.06.28</span><br>\\r\\n\\t\\t</a>\\r\\n\\t</li>\\r\\n  \\r\\n</ul>\\r\\n\\t\\t\\t\\t\\t\\t</div>\\r\\n\\t\\t\\t\\t\\t\\t\\r\\n\\t\\t\\t\\t\\t\\t<div class=\"thanks\">\\r\\n\\t\\t\\t\\t\\t\\t\\t<a class=\"more\" href=\"http://sarang.handong.edu/news/story/\" target=\"_blank\"><img alt=\"바로가기\" src=\"/site/handong/res/img/main_link03.png\"></a>\\r\\n\\t\\t\\t\\t\\t\\t\\t<ul>\\r\\n\\t\\t\\t\\t\\t\\t\\t\\t<li class=\"t20\">한동 감사의 글</li>\\r\\n\\t\\t\\t\\t\\t\\t\\t\\t<li><a href=\"http://sarang.handong.edu/news/story/\" target=\"_blank\" title=\"새창\"><span class=\"t16\">후원자들께 전하는 감사의 마음</span><span class=\"t14\">With One Heart 수상작</span></a></li>\\r\\n\\t\\t\\t\\t\\t\\t\\t\\t<li><a href=\"http://sarang.handong.edu/news/story/?mode=view&id=30200&group=0\" target=\"_blank\" title=\"새창\"><span class=\"t16\">100세 후원자의 한동사랑</span><span class=\"t14\">윤영태 후원자</span></a></li>\\r\\n\\t\\t\\t\\t\\t\\t\\t\\t<li><a href=\"http://sarang.handong.edu/news/story/?mode=view&id=30201&group=0\" target=\"_blank\" title=\"새창\"><span class=\"t16\">한동의 갈대상자</span><span class=\"t14\">기억합니다, 감사합니다.</span></a></li>\\r\\n\\t\\t\\t\\t\\t\\t\\t</ul>\\r\\n\\t\\t\\t\\t\\t\\t</div>\\r\\n\\t\\t\\t\\t\\t\\t\\r\\n\\t\\t\\t\\t\\t\\t<div class=\"banner2\">\\r\\n\\t\\t\\t\\t\\t\\t\\t\\r\\n\\t\\t\\t\\t\\t\\t\\t\\t\\r\\n\\t\\t\\t\\t\\t\\t\\t\\t\\r\\n\\t\\t\\t\\t\\t\\t\\t\\r\\n \\r\\n\\r\\n\\n <style type=\"text/css\">\\n \\t#banners2 {position:relative; width:100%; height:273px; overflow:hidden;}\\n \\t#banners2 .slick-slide {text-align:center;}\\n \\t#banners2 .slick-slide img {display:inline;}\\n\\t#banners2 .slick-dots {position:absolute; bottom:15px; right:10px; z-index:10;}\\n\\t#banners2 .slick-dots li {display:inline-block;}\\n\\t#banners2 .slick-dots button {width:8px; height:8px; border:none; margin:0 3px; font-size:0; background:url(\"/site/handong/res/img/util_slides_off.png\") no-repeat 0 0; cursor:pointer;}\\n\\t#banners2 .slick-dots .slick-active button {background:url(\"/site/handong/res/img/util_slides_on.png\") no-repeat 0 0;}\\t\\n\\t\\n\\t#banners2 .img {height:273px;}\\n\\t#banners2 .link {position:absolute; bottom:30px; left:20px; width:73px; display:block; font-size:12px; font-weight:bold; line-height:31px; color:#fff; text-align:center; background:#005b9a; border-radius:5px;}\\n</style>\\n    \\n<div id=\"banners2\">\\n\\t\\n\\t\\t\\n\\t\\t\\t<div>\\n\\t\\t\\t\\t<img class=\"img\" alt=\"\" src=\"/dcp/store/down.dcp?id=7890\" />\\n\\t\\t\\t\\t<a class=\"link\" href=\"https://www.handongsam.com/\" target=\"_blank\"><img alt=\"바로가기\" src=\"/site/handong/res/img/splash_link.png\"></a>\\n\\t\\t\\t</div>\\n\\t\\t\\n\\t\\n\\t\\t\\n\\t\\t\\t<div>\\n\\t\\t\\t\\t<img class=\"img\" alt=\"\" src=\"/dcp/store/down.dcp?id=1643\" />\\n\\t\\t\\t\\t<a class=\"link\" href=\"http://sarang.handong.edu/news/ebook/gal/\" target=\"_self\"><img alt=\"바로가기\" src=\"/site/handong/res/img/splash_link.png\"></a>\\n\\t\\t\\t</div>\\n\\t\\t\\n\\t\\n\\t\\t\\n\\t\\n\\t\\t\\n\\t\\n\\t\\t\\n\\t\\n\\t\\t\\n\\t\\n\\t\\t\\n\\t\\n\\t\\t\\n\\t\\n\\t\\t\\n\\t\\n\\t\\t\\n\\t\\n\\t\\t\\n\\t\\n\\t\\t\\n\\t\\t\\n</div>\\n\\n<script type=\"text/javascript\">\\n\\t$(function() {\\n\\t\\t\\t$(\"#banners2\").slick({\\n\\t  \\t\\tautoplay: true,\\n\\t\\t\\t  \\tautoplaySpeed: 3000,\\n\\t\\t\\t\\tarrows : false,\\n\\t\\t\\t\\tdots: true,\\n\\t\\t\\t\\tfade: true,\\n\\t\\t\\t\\tcssEase: \\'linear\\'\\n\\t  \\t});\\n\\t});\\n</script>\\n\\r\\n\\t\\t\\t\\t\\t\\t</div>\\r\\n\\t\\t\\t\\t\\t\\t\\r\\n\\t\\t\\t\\t\\t\\t<div class=\"media\">\\r\\n\\t\\t\\t\\t\\t\\t\\t<a class=\"more\" href=\"/square/inform/article/\"><img alt=\"바로가기\" src=\"/site/handong/res/img/main_link03.png\"></a>\\r\\n\\t\\t\\t\\t\\t\\t\\t<div class=\"tb20\">뉴스기사 게시판</div>\\r\\n\\t\\t\\t\\t\\t\\t\\t<ul>\\r\\n\\t\\t\\t\\t\\t\\t\\t\\t\\r\\n\\t\\t\\t\\t\\t\\t\\t\\t\\t\\r\\n\\t\\t\\t\\t\\t\\t\\t\\t\\t\\r\\n\\t\\t\\t\\t\\t\\t\\t\\t\\t\\r\\n\\t\\t\\t\\t\\t\\t\\t\\t\\r\\n \\r\\n\\r\\n\\r\\n\\r\\n\\r\\n\\t<li>\\r\\n\\t\\t<img alt=\"\" src=\"/dcp/store/thumb.dcp?id=7287&cx=300&cy=160\" onerror=\"this.src=\\'/site/handong/res/img/bbs_blog00.png\\';\">\\r\\n\\t\\t<div class=\"title\"><a href=\"http://www.ebs.co.kr/tv/show;jsessionid=aQLPX6b2yNy0YtXFJpLsLHMbmF1Cq8nDrJKtcaLlQQBth3cX0nMvyY1EL2HjHniK.enswasp02_servlet_engine1?courseId=BP0PHPL0000000075&stepId=01BP0PHPL0000000075&lectId=10917714\" style=\"color:#fff\" target=\"_blank\" title=\"새창\">[EBS] 헌정 70년, 우리는 헌법을 아는가? - 한동대 이국운 법학부 교수</a></div>\\r\\n\\t\\t<div class=\"t13\">제헌절을 맞이하여 이국운 교수와 함께 대한민국 헌법의 지향점과 그 가치에 대해서 살펴보고자 한다\\r\\n</div>\\r\\n\\t\\t<div class=\"t12\">관리자  |  2018-07-17</div>\\r\\n\\t</li>\\r\\n\\r\\n\\t<li>\\r\\n\\t\\t<img alt=\"\" src=\"/dcp/store/thumb.dcp?id=5926&cx=300&cy=160\" onerror=\"this.src=\\'/site/handong/res/img/bbs_blog00.png\\';\">\\r\\n\\t\\t<div class=\"title\"><a href=\"http://www.sedaily.com/NewsView/1OAUS5J9B1\" style=\"color:#fff\" target=\"_blank\" title=\"새창\">[서울경제]인공지능이 가져올 새로운 생태계(김인중 교수)</a></div>\\r\\n\\t\\t<div class=\"t13\">김인중 한동대학교 전산전자공학부 교수\\r\\n기술장벽 갇혀있던 인공지능\\r\\n딥러닝 등장에 &#39;상상&#39; 현실화\\r\\nCES 달군 아마존 알렉사처럼\\r\\n한국, 패러다임 변혁 대비해야\\r\\n</div>\\r\\n\\t\\t<div class=\"t12\">관리자  |  2017-01-19</div>\\r\\n\\t</li>\\r\\n\\r\\n\\t<li>\\r\\n\\t\\t<img alt=\"\" src=\"/dcp/store/thumb.dcp?id=5905&cx=300&cy=160\" onerror=\"this.src=\\'/site/handong/res/img/bbs_blog00.png\\';\">\\r\\n\\t\\t<div class=\"title\"><a href=\"http://www.phmbc.co.kr/?q=44&idx=247128&mode=view\" style=\"color:#fff\" target=\"_blank\" title=\"새창\">[포항MBC] 재능 기부로 공공디자인 혁신(이진구 교수 소개)</a></div>\\r\\n\\t\\t<div class=\"t13\">포항 시내를 거닐다 보면 &quot;아! 이 디자인 참 괜찮다&quot;라는 생각이 드는 조형물들이 있는데요,&nbsp;\\r\\n\\r\\n10여 년 동안 남다른 열정과 감각을 살려 포항...</div>\\r\\n\\t\\t<div class=\"t12\">관리자  |  2017-01-10</div>\\r\\n\\t</li>\\r\\n\\r\\n\\r\\n\\r\\n\\t\\t\\t\\t\\t\\t\\t</ul>\\r\\n\\t\\t\\t\\t\\t\\t</div>\\r\\n\\t\\t\\t\\t\\t\\t\\r\\n\\t\\t\\t\\t\\t\\t<div class=\"newsletter b1\">\\r\\n\\t\\t\\t\\t\\t\\t\\t<div class=\"tb20\">한동IN <span>e-Newsletter</span></div>\\r\\n\\t\\t\\t\\t\\t\\t\\t\\r\\n\\t\\t\\t\\t\\t\\t\\t\\t\\t\\r\\n\\t\\t\\t\\t\\t\\t\\t\\t\\t\\r\\n\\t\\t\\t\\t\\t\\t\\t\\t\\t\\r\\n\\t\\t\\t\\t\\t\\t\\t\\t\\r\\n \\r\\n\\r\\n\\r\\n\\r\\n\\r\\n\\t<a href=\"https://www.handong.edu/handongin/64/index.html\" target=\"_blank\" title=\"새창\"><img alt=\"\" src=\"/dcp/store/thumb.dcp?id=7728&cx=183&cy=239\" onerror=\"this.src=\\'/site/handong/res/img/main_magazine01.png\\';\"></a>\\r\\n\\r\\n\\r\\n\\t\\t\\t\\t\\t\\t</div>\\r\\n\\t\\t\\t\\t\\t\\t\\r\\n\\t\\t\\t\\t\\t\\t<div class=\"newsletter b2\">\\r\\n\\t\\t\\t\\t\\t\\t\\t<div class=\"tb20\">한동人 <span>Magazine</span></div>\\r\\n\\t\\t\\t\\t\\t\\t\\t<a class=\"popup fancybox.iframe\" href=\"/ext/bbs/pdf.dcp?doc=/site/handong/res/store/magazine/magazine11.pdf\">\\r\\n\\t\\t\\t\\t\\t\\t\\t\\t<img alt=\"\" src=\"/site/handong/res/img/main_magazine01_new.png\" onerror=\"this.src=\\'/site/handong/res/img/main_magazine01.png\\';\"></a>\\r\\n\\t\\t\\t\\t\\t\\t</div>\\r\\n\\t\\t\\t\\t\\t\\t\\r\\n\\t\\t\\t\\t\\t</div>\\r\\n\\t\\t\\t\\t</div>\\r\\n\\t\\t\\t\\r\\n\\t\\t\\t</div>\\r\\n\\t\\t\\r\\n\\t\\t\\t<div id=\"tail\">\\r\\n\\t\\t\\t\\t\\r\\n \\r\\n\\r\\n\\r\\n\\r\\n<div class=\"qlink\">\\r\\n\\t<div class=\"top\">\\r\\n\\t\\t<div class=\"link\">\\r\\n\\t\\t\\t<div class=\"t18\">QUICK LINK</div>\\r\\n\\t\\t\\t<ul class=\"o13\">\\r\\n\\t\\t\\t\\t<li><a href=\"http://ige.handong.edu\" target=\"_blank\" title=\"새창\">한동대-UNAI IGE</a></li>\\r\\n\\t\\t\\t\\t<li><a href=\"http://www.unaikorea.org\" target=\"_blank\" title=\"새창\">UNAI Korea</a></li>\\r\\n\\t\\t\\t\\t<!--li><a href=\"http://www.iie.org/programs/global-e3/institutions/korea.htm\" target=\"_blank\" title=\"새창\">I.I.E (GEEE)</a></li-->\\r\\n\\t\\t\\t\\t<li><a href=\"https://www.ihandong.info/overview\" target=\"_blank\" title=\"새창\">국제교류 프로그램</a></li>\\r\\n\\t\\t\\t\\t<li><a href=\"http://hicee.handong.edu/\" target=\"_blank\" title=\"새창\">공학교육혁신센터</a></li>\\r\\n\\t\\t\\t</ul>\\t\\t\\r\\n\\t\\t\\t<ul class=\"o13\">\\r\\n\\t\\t\\t\\t<li><a href=\"http://sarang.handong.edu/\" target=\"_blank\" title=\"새창\">한동대 발전기금</a></li>\\r\\n\\t\\t\\t\\t<!--li><a href=\"http://ace.handong.edu/\" target=\"_blank\" title=\"새창\">ACE 사업</a></li-->\\r\\n\\t\\t\\t\\t<li><a href=\"http://senate.handong.edu/\" target=\"_blank\" title=\"새창\">대학평의원회</a></li>\\r\\n\\t\\t\\t\\t<li><a href=\"http://handong.workcenter.kr/\" target=\"_blank\" title=\"새창\">대학일자리센터</a></li>\\r\\n\\t\\t\\t</ul>\\r\\n\\t\\t</div>\\r\\n\\t\\r\\n\\t\\t<div class=\"service\">\\r\\n\\t\\t\\t<div class=\"t18\">E-SERVICE</div>\\r\\n\\t\\t\\t<ul class=\"o13\">\\r\\n\\t\\t\\t\\t<li><a href=\"http://sarang.handong.edu/campaign/support/\" target=\"_blank\" title=\"새창\">한동대 후원 참여</a></li>\\r\\n\\t\\t\\t\\t<li><a href=\"https://hisnet.handong.edu/haksa/regist/HREG200M.php\" target=\"_blank\" title=\"새창\">등록금 고지서  발급</a></li>\\r\\n\\t\\t\\t\\t<li><a href=\"https://hisnet.handong.edu/haksa/regist/HREG200M.php\" target=\"_blank\" title=\"새창\">등록금 납부확인서 발급</a></li>\\r\\n\\t\\t\\t\\t<li><a href=\"http://han.certpia.com/\" target=\"_blank\" title=\"새창\">온라인증명발급</a></li>\\r\\n\\t\\t\\t</ul>\\r\\n\\t\\t\\t<ul class=\"o13\">\\r\\n\\t\\t\\t\\t<li><a href=\"/square/offerdata/\">홍보자료신청</a></li>\\r\\n\\t\\t\\t\\t<li><a href=\"/square/tour-program/inform/\">한소품 투어</a></li>\\r\\n\\t\\t\\t\\t<li><a href=\"/about/intro/general/\">대학자체평가(2015)</a></li>\\r\\n\\t\\t\\t\\t<!--li><a href=\"https://i7.handong.edu/\" target=\"_blank\" title=\"새창\">i7 인트라넷</a></li-->\\r\\n\\t\\t\\t</ul>\\r\\n\\t\\t\\t<ul class=\"o13\">\\r\\n\\t\\t\\t\\t<li><a href=\"/about/campus/ways/\">찾아오시는길</a></li>\\r\\n\\t\\t\\t\\t<li><a href=\"/about/campus/map/\">캠퍼스맵</a></li>\\r\\n\\t\\t\\t\\t<li><a href=\"/square/inform/account/\" >예결산공고</a></li>\\r\\n\\t\\t\\t\\t<!--li><a href=\"/about/campus/telephone/\">교내전화번호안내</a></li-->\\r\\n\\t\\t\\t</ul>\\r\\n\\t\\t</div>\\r\\n\\t</div>\\r\\n\\t\\r\\n\\t<div class=\"socialize\">\\r\\n\\t\\t<div class=\"t12\">SOCIALIZE</div>\\t\\r\\n\\t\\t<a href=\"https://www.facebook.com/handong.univ\" target=\"_blank\" title=\"새창\"><img alt=\"\" src=\"/site/handong/res/img/util_tail01.png\"></a>\\r\\n\\t\\t<a href=\"https://www.youtube.com/channel/UCqiLRaMzzSCme3gsMPszg8A\" target=\"_blank\" title=\"새창\"><img alt=\"\" src=\"/site/handong/res/img/util_tail06.png\"></a>\\r\\n\\t\\t<img class=\"on\" alt=\"icon\" src=\"/site/handong/res/img/util_tail_view.png\">\\r\\n\\t</div>\\r\\n\\t\\r\\n</div>\\r\\n\\r\\n<div class=\"tail\">\\r\\n\\t<img alt=\"한동대학교\" src=\"/site/handong/res/img/fail_logo.png\">\\r\\n\\t\\r\\n\\t<div class=\"fr\">\\r\\n\\t\\t<div class=\"t12\">\\r\\n\\t\\t\\t<a href=\"http://www.academyinfo.go.kr/popup/pubinfo1690/list.do?schlId=0000196\" target=\"_blank\" title=\"새창\">대학정보공시</a> &nbsp; l &nbsp; \\r\\n\\t\\t\\t<a href=\"/sinfo/public/\" >정보공개</a> &nbsp; l &nbsp; \\r\\n\\t\\t\\t<a href=\"/sinfo/persnal/\" >개인정보보호방침</a>\\r\\n\\t\\t</div>\\r\\n\\t\\t<div class=\"t13\">37554 경북 포항시 북구 흥해읍 한동로 558 한동대학교 Tel: 054-260-1111 Fax: 054-260-1149</div>\\r\\n\\t\\t<div class=\"t11\">copyright(c) Handong Global University. All rights resesrved</div>\\r\\n\\t</div>\\r\\n\\r\\n</div>\\r\\n\\r\\n<script type=\"text/javascript\">\\r\\n\\t$(\".qlink .on\").click(function () {\\t\\r\\n\\t\\tif (\"block\" == $(\".qlink .top\").css(\"display\")) {\\r\\n\\t\\t\\t$(\".qlink .top\").fadeToggle(1);\\r\\n// \\t\\t\\t$(\"#tail .qlink .socialize .on\").css({\"transform\" : \"rotate(0deg)\" , \"transition\" : \"transform 0.1s\"});\\r\\n\\t\\t\\t$(\"#tail .qlink .socialize .on\").css(\"transform\" , \"rotate(0deg)\");\\r\\n\\t\\t} else {\\r\\n\\t\\t\\t$(\".qlink .top\").fadeToggle(1);\\r\\n// \\t\\t\\t$(\"#tail .qlink .socialize .on\").css({\"transform\" : \"rotate(180deg)\" , \"transition\" : \"transform 0.5s\"});\\r\\n\\t\\t\\t$(\"#tail .qlink .socialize .on\").css(\"transform\" , \"rotate(180deg)\");\\r\\n\\t\\t}\\r\\n\\t});\\r\\n</script> \\r\\n\\t\\t\\t</div>\\r\\n\\r\\n\\t\\t</div>\\r\\n\\t\\t\\r\\n\\t\\t<script type=\"text/javascript\">\\r\\n\\t\\t\\t$(\".notice .title\").click(function () {\\t\\t\\t\\t\\r\\n\\t\\t\\t\\t$(\".notice .title\").removeClass(\"on\");\\r\\n\\t\\t\\t\\t$(this).addClass(\"on\");\\r\\n\\t\\t\\t});\\r\\n\\t\\t\\t\\r\\n\\t\\t\\t$(\".notice .title\").focus(function() {\\r\\n\\t\\t\\t\\t$(\".notice .title\").removeClass(\"on\");\\r\\n\\t\\t\\t\\t$(this).addClass(\"on\");\\r\\n\\t\\t\\t});\\r\\n\\t\\t\\r\\n\\t\\t\\t$(\".about-w .about .but\").click(function() {\\r\\n\\t\\t\\t\\tif ($(\"#main .about\").attr(\"class\") == \"about off\") {\\r\\n\\t\\t\\t\\t\\t$(\".about\").addClass(\"on\");\\r\\n\\t\\t\\t\\t\\t$(\".about\").removeClass(\"off\");\\r\\n\\t\\t\\t\\t} else {\\r\\n\\t\\t\\t\\t\\t$(\".about\").addClass(\"off\");\\r\\n\\t\\t\\t\\t\\t$(\".about\").removeClass(\"on\");\\r\\n\\t\\t\\t\\t}\\r\\n\\t\\t\\t});\\r\\n\\r\\n\\t\\t\\t$(\".about-w .about\").hover(function() {\\r\\n\\t\\t\\t}, function() {\\r\\n\\t\\t\\t\\t\\t$(\".about\").addClass(\"off\");\\r\\n\\t\\t\\t\\t\\t$(\".about\").removeClass(\"on\");\\r\\n\\t\\t\\t});\\r\\n\\t\\t\\t\\t\\r\\n\\t\\t\\t(function($){\\r\\n\\t\\t        $(window).load(function(){\\r\\n\\t\\t           $(\".content\").mCustomScrollbar({\\r\\n\\t\\t               theme:\"minimal\",\\r\\n\\t\\t               mouseWheelPixels: 100\\r\\n\\t\\t           });\\r\\n\\t\\t        });\\r\\n\\t\\t    })(jQuery);\\r\\n\\t\\t\\t\\r\\n\\t\\t\\t$(document).ready(function() {\\r\\n\\t\\t\\t\\tif (jQuery.browser.mobile) {\\r\\n\\t\\t\\t\\t\\t$(\".gotop\").css(\"display\", \"none\");\\r\\n\\t\\t\\t\\t\\t$(\".gotop\").removeClass(\"gotop\");\\r\\n\\t\\t\\t\\t}\\r\\n\\t\\t\\t});\\r\\n\\t\\t\\t\\r\\n\\t\\t\\t$(\".popup\").fancybox({\\r\\n\\t\\t \\t\\twidth: \\'90%\\',\\r\\n\\t\\t \\t\\topenEffect: \\'elastic\\',\\r\\n\\t\\t \\t\\tcloseEffect: \\'elastic\\'\\r\\n\\t\\t \\t});\\t\\r\\n\\t\\t</script>\\t\\r\\n\\t</body>\\r\\n</html>'"
     },
     "metadata": {},
     "output_type": "execute_result",
     "execution_count": 45
    }
   ],
   "source": [
    "response.text[:]\n"
   ]
  },
  {
   "cell_type": "markdown",
   "metadata": {},
   "source": [
    "## Read a remote file and process the text"
   ]
  },
  {
   "cell_type": "code",
   "execution_count": 56,
   "metadata": {
    "pycharm": {
     "is_executing": false
    }
   },
   "outputs": [],
   "source": [
    "# 외부의 파일을 가져오기.\n",
    "from urllib.request import urlopen \n",
    "#book = urlopen('http://www.gutenberg.org/cache/epub/10/pg10.txt')\n",
    "book = urlopen('http://composingprograms.com/shakespeare.txt')"
   ]
  },
  {
   "cell_type": "code",
   "execution_count": 57,
   "metadata": {
    "pycharm": {
     "is_executing": false
    }
   },
   "outputs": [],
   "source": [
    "wlist = book.read().decode().split()"
   ]
  },
  {
   "cell_type": "markdown",
   "metadata": {},
   "source": [
    "- Get the number of words in `wlist`"
   ]
  },
  {
   "cell_type": "code",
   "execution_count": 58,
   "metadata": {
    "pycharm": {
     "is_executing": false
    }
   },
   "outputs": [
    {
     "data": {
      "text/plain": "980637"
     },
     "metadata": {},
     "output_type": "execute_result",
     "execution_count": 58
    }
   ],
   "source": [
    "len(wlist)"
   ]
  },
  {
   "cell_type": "markdown",
   "metadata": {},
   "source": [
    "- Check the first 20 words in `wlist`"
   ]
  },
  {
   "cell_type": "code",
   "execution_count": 59,
   "metadata": {
    "pycharm": {
     "is_executing": false
    }
   },
   "outputs": [
    {
     "data": {
      "text/plain": "['A',\n \"MIDSUMMER-NIGHT'S\",\n 'DREAM',\n 'Now',\n ',',\n 'fair',\n 'Hippolyta',\n ',',\n 'our',\n 'nuptial']"
     },
     "metadata": {},
     "output_type": "execute_result",
     "execution_count": 59
    }
   ],
   "source": [
    "wlist[:10]\n"
   ]
  },
  {
   "cell_type": "markdown",
   "metadata": {},
   "source": [
    "- Sort words in `wlist`. Use `sort()`."
   ]
  },
  {
   "cell_type": "code",
   "execution_count": 61,
   "metadata": {
    "pycharm": {
     "is_executing": false
    }
   },
   "outputs": [],
   "source": [
    "wlist.sort()"
   ]
  },
  {
   "cell_type": "markdown",
   "metadata": {},
   "source": [
    "- Check the first 10 words in `wlist` after sort(). Use `count()`."
   ]
  },
  {
   "cell_type": "code",
   "execution_count": 62,
   "metadata": {
    "pycharm": {
     "is_executing": false
    }
   },
   "outputs": [
    {
     "data": {
      "text/plain": "['!', '!', '!', '!', '!', '!', '!', '!', '!', '!']"
     },
     "metadata": {},
     "output_type": "execute_result",
     "execution_count": 62
    }
   ],
   "source": [
    "wlist[:10]\n"
   ]
  },
  {
   "cell_type": "markdown",
   "metadata": {},
   "source": [
    "- Count a specific word `truth` in `wlist`."
   ]
  },
  {
   "cell_type": "code",
   "execution_count": null,
   "metadata": {
    "pycharm": {
     "is_executing": false
    }
   },
   "outputs": [],
   "source": [
    "wlist.count('truth')"
   ]
  },
  {
   "cell_type": "markdown",
   "metadata": {},
   "source": [
    "Remove duplicated words and check its length(or number of words). Use `set()`."
   ]
  },
  {
   "cell_type": "code",
   "execution_count": null,
   "metadata": {
    "pycharm": {
     "is_executing": false
    }
   },
   "outputs": [],
   "source": []
  },
  {
   "cell_type": "code",
   "execution_count": null,
   "metadata": {
    "pycharm": {
     "is_executing": false
    }
   },
   "outputs": [],
   "source": [
    "ulist[:10]     # set is not subscriptable"
   ]
  },
  {
   "cell_type": "markdown",
   "metadata": {},
   "source": [
    "- Convert `ulist` in `set` type to `list` type."
   ]
  },
  {
   "cell_type": "code",
   "execution_count": null,
   "metadata": {
    "pycharm": {
     "is_executing": false
    }
   },
   "outputs": [],
   "source": [
    "wlist = list(ulist) \n",
    "len(wlist)"
   ]
  },
  {
   "cell_type": "markdown",
   "metadata": {},
   "source": [
    "- Sort first\n",
    "- Then print the first and last 10 words in the list, respectively."
   ]
  },
  {
   "cell_type": "code",
   "execution_count": null,
   "metadata": {
    "pycharm": {
     "is_executing": false
    }
   },
   "outputs": [],
   "source": []
  },
  {
   "cell_type": "code",
   "execution_count": null,
   "metadata": {
    "pycharm": {
     "is_executing": false
    }
   },
   "outputs": [],
   "source": []
  },
  {
   "cell_type": "markdown",
   "metadata": {},
   "source": [
    "- Get the last word in alphabetical order"
   ]
  },
  {
   "cell_type": "code",
   "execution_count": null,
   "metadata": {
    "pycharm": {
     "is_executing": false
    }
   },
   "outputs": [],
   "source": []
  },
  {
   "cell_type": "markdown",
   "metadata": {},
   "source": [
    "- Get the longest word. Use `max() with key=len` argument."
   ]
  },
  {
   "cell_type": "code",
   "execution_count": null,
   "metadata": {
    "pycharm": {
     "is_executing": false
    }
   },
   "outputs": [],
   "source": []
  },
  {
   "cell_type": "code",
   "execution_count": null,
   "metadata": {
    "pycharm": {
     "is_executing": false
    }
   },
   "outputs": [],
   "source": [
    "alist = [] \n",
    "for w in wlist: \n",
    "    if len(w) == 6 and w[::-1] in wlist: \n",
    "        alist.append(w) \n",
    "print(alist)\n"
   ]
  },
  {
   "cell_type": "code",
   "execution_count": null,
   "metadata": {
    "pycharm": {
     "is_executing": false
    }
   },
   "outputs": [],
   "source": [
    "[w for w in wlist if w[::-1] in wlist and len(w) == 6]"
   ]
  },
  {
   "cell_type": "code",
   "execution_count": null,
   "metadata": {
    "pycharm": {
     "is_executing": false
    }
   },
   "outputs": [],
   "source": [
    "[w for w in wlist if w[::-1] in wlist and len(w) > 6 ]"
   ]
  },
  {
   "cell_type": "markdown",
   "metadata": {},
   "source": [
    "## List\n",
    "Python makes it easy to create lists, which can contain any kind of object. We can index these, concatenate them, and find the length, just as we can with strings. For more examples, refter to [Python Tutorials](https://docs.python.org/3/tutorial/datastructures.html?highlight=list%20comprehension#more-on-lists)"
   ]
  },
  {
   "cell_type": "code",
   "execution_count": null,
   "metadata": {
    "pycharm": {
     "is_executing": false
    }
   },
   "outputs": [],
   "source": [
    "lst = [1, 2.0, 3, 'handong']\n",
    "lst"
   ]
  },
  {
   "cell_type": "code",
   "execution_count": null,
   "metadata": {
    "pycharm": {
     "is_executing": false
    }
   },
   "outputs": [],
   "source": [
    "lst + lst"
   ]
  },
  {
   "cell_type": "code",
   "execution_count": null,
   "metadata": {
    "pycharm": {
     "is_executing": false
    }
   },
   "outputs": [],
   "source": [
    "lst[0]"
   ]
  },
  {
   "cell_type": "code",
   "execution_count": null,
   "metadata": {
    "pycharm": {
     "is_executing": false
    }
   },
   "outputs": [],
   "source": [
    "lst[-1]"
   ]
  },
  {
   "cell_type": "code",
   "execution_count": null,
   "metadata": {
    "pycharm": {
     "is_executing": false
    }
   },
   "outputs": [],
   "source": [
    "len(lst)"
   ]
  },
  {
   "cell_type": "markdown",
   "metadata": {},
   "source": [
    "We can also append new things to the end of an existing list."
   ]
  },
  {
   "cell_type": "code",
   "execution_count": null,
   "metadata": {
    "pycharm": {
     "is_executing": false
    }
   },
   "outputs": [],
   "source": [
    "lst.append('song')\n",
    "lst"
   ]
  },
  {
   "cell_type": "markdown",
   "metadata": {},
   "source": [
    "## Set\n",
    "Python also provides the __set__ data structure, which can be created using curly brackets."
   ]
  },
  {
   "cell_type": "code",
   "execution_count": null,
   "metadata": {
    "pycharm": {
     "is_executing": false
    }
   },
   "outputs": [],
   "source": [
    "a = {1, 2, 3, 4}\n",
    "a"
   ]
  },
  {
   "cell_type": "code",
   "execution_count": null,
   "metadata": {
    "pycharm": {
     "is_executing": false
    }
   },
   "outputs": [],
   "source": [
    "b = {2, 3, 4, 5}\n",
    "b"
   ]
  },
  {
   "cell_type": "code",
   "execution_count": null,
   "metadata": {
    "pycharm": {
     "is_executing": false
    }
   },
   "outputs": [],
   "source": [
    "a.add(1)\n",
    "a"
   ]
  },
  {
   "cell_type": "code",
   "execution_count": null,
   "metadata": {
    "pycharm": {
     "is_executing": false
    }
   },
   "outputs": [],
   "source": [
    "a & b"
   ]
  },
  {
   "cell_type": "code",
   "execution_count": null,
   "metadata": {
    "pycharm": {
     "is_executing": false
    }
   },
   "outputs": [],
   "source": [
    "a | b"
   ]
  },
  {
   "cell_type": "code",
   "execution_count": null,
   "metadata": {
    "pycharm": {
     "is_executing": false
    }
   },
   "outputs": [],
   "source": [
    "a ^ b"
   ]
  },
  {
   "cell_type": "markdown",
   "metadata": {},
   "source": []
  },
  {
   "cell_type": "markdown",
   "metadata": {},
   "source": [
    "## Image & Video Display\n",
    "\n",
    "The pictures and more exotic objects can also be displayed, as long as their representation supports the IPython display protocol.\n",
    "For example, videos hosted externally on YouTube are easy to load (and writing a similar wrapper for other hosted content is trivial):"
   ]
  },
  {
   "cell_type": "code",
   "execution_count": null,
   "metadata": {
    "pycharm": {
     "is_executing": false
    }
   },
   "outputs": [],
   "source": [
    "import matplotlib.pyplot as plt\n",
    "from matplotlib.image import imread\n",
    "\n",
    "img = imread('https://github.com/idebtor/KMOOC-ML/blob/master/ipynb/images/lenna.png?raw=true')\n",
    "plt.imshow(img)\n",
    "plt.show()"
   ]
  },
  {
   "cell_type": "code",
   "execution_count": null,
   "metadata": {
    "scrolled": true,
    "pycharm": {
     "is_executing": false
    }
   },
   "outputs": [],
   "source": [
    "from IPython.display import Video\n",
    "#Video(\"https://github.com/idebtor/KOICA-Python/tree/master/videos/MLwithPythonIntro.mp4\")\n",
    "Video(\"videos/MLwithPythonIntro.mp4\")"
   ]
  },
  {
   "cell_type": "markdown",
   "metadata": {},
   "source": [
    "## Functions\n",
    "\n",
    "Now let's take a look at defining and using functions in Python. We will start by defining a function to evaluate a polynomial."
   ]
  },
  {
   "cell_type": "code",
   "execution_count": null,
   "metadata": {
    "pycharm": {
     "is_executing": false
    }
   },
   "outputs": [],
   "source": [
    "import numpy as np\n",
    "import matplotlib.pyplot as plt\n",
    "%matplotlib inline\n",
    "\n",
    "x = np.arange(0, 6, 0.1)\n",
    "plt.plot(x, np.cos(x))\n",
    "plt.show()"
   ]
  },
  {
   "cell_type": "code",
   "execution_count": null,
   "metadata": {
    "pycharm": {
     "is_executing": false
    }
   },
   "outputs": [],
   "source": [
    "# how do you evaluate x?\n"
   ]
  },
  {
   "cell_type": "code",
   "execution_count": null,
   "metadata": {
    "pycharm": {
     "is_executing": false
    }
   },
   "outputs": [],
   "source": [
    "def poly(x, a, b, c):\n",
    "    y = a*x**2 + b*x + c\n",
    "    return y"
   ]
  },
  {
   "cell_type": "code",
   "execution_count": null,
   "metadata": {
    "pycharm": {
     "is_executing": false
    }
   },
   "outputs": [],
   "source": [
    "x = 1\n",
    "poly(x, 1, 2, 3)"
   ]
  },
  {
   "cell_type": "markdown",
   "metadata": {},
   "source": [
    "We can also pass an array as the argument x."
   ]
  },
  {
   "cell_type": "code",
   "execution_count": null,
   "metadata": {
    "pycharm": {
     "is_executing": false
    }
   },
   "outputs": [],
   "source": [
    "#from numpy import array\n",
    "import numpy as np\n",
    "x = np.arange(0, 6, 0.1)\n",
    "poly(x, 1, 2, 3)"
   ]
  },
  {
   "cell_type": "markdown",
   "metadata": {},
   "source": [
    "And also do this for a 10-element array, and quickly make a plot of the values."
   ]
  },
  {
   "cell_type": "code",
   "execution_count": null,
   "metadata": {
    "pycharm": {
     "is_executing": false
    }
   },
   "outputs": [],
   "source": [
    "%matplotlib inline\n",
    "import matplotlib.pyplot as plot\n",
    "\n",
    "x = np.arange(10)\n",
    "plot.plot(x, poly(x, 2, 3, 4))"
   ]
  },
  {
   "cell_type": "markdown",
   "metadata": {},
   "source": [
    "We can also specify keyword arguments, which are specified by name."
   ]
  },
  {
   "cell_type": "code",
   "execution_count": null,
   "metadata": {
    "pycharm": {
     "is_executing": false
    }
   },
   "outputs": [],
   "source": [
    "def poly(x, a=1, b=2, c=3):\n",
    "    y = a*x**2 + b*x + c\n",
    "    return y"
   ]
  },
  {
   "cell_type": "code",
   "execution_count": null,
   "metadata": {
    "pycharm": {
     "is_executing": false
    }
   },
   "outputs": [],
   "source": [
    "poly(x)"
   ]
  },
  {
   "cell_type": "code",
   "execution_count": null,
   "metadata": {
    "pycharm": {
     "is_executing": false
    }
   },
   "outputs": [],
   "source": [
    "poly(x, b=5)"
   ]
  },
  {
   "cell_type": "markdown",
   "metadata": {},
   "source": [
    "## Class and Object"
   ]
  },
  {
   "cell_type": "markdown",
   "metadata": {},
   "source": [
    "Now lets create a class. In Python, every class should derive from object. Our class will describe a person, with a name and an age. We will supply a constructor, and a method to get the full name.\n",
    "- How to create a class: Refer to [Wikibook](http://en.wikibooks.org/wiki/A_Beginner's_Python_Tutorial/Classes)"
   ]
  },
  {
   "cell_type": "code",
   "execution_count": null,
   "metadata": {
    "pycharm": {
     "is_executing": false
    }
   },
   "outputs": [],
   "source": [
    "class Person(object):\n",
    "    def __init__(self, first, last, age):\n",
    "        self.first = first\n",
    "        self.last = last\n",
    "        self.age = age\n",
    "    \n",
    "    def full_name(self):\n",
    "        return self.first + ' ' + self.last"
   ]
  },
  {
   "cell_type": "markdown",
   "metadata": {},
   "source": [
    "Now we can create an instance of a Person, and work with the attributes of the class."
   ]
  },
  {
   "cell_type": "code",
   "execution_count": null,
   "metadata": {
    "pycharm": {
     "is_executing": false
    }
   },
   "outputs": [],
   "source": [
    "person = Person('Lee', 'Handong', 21)\n",
    "person.first"
   ]
  },
  {
   "cell_type": "code",
   "execution_count": null,
   "metadata": {
    "pycharm": {
     "is_executing": false
    }
   },
   "outputs": [],
   "source": [
    "person.last"
   ]
  },
  {
   "cell_type": "code",
   "execution_count": null,
   "metadata": {
    "pycharm": {
     "is_executing": false
    }
   },
   "outputs": [],
   "source": [
    "person.full_name()"
   ]
  },
  {
   "cell_type": "code",
   "execution_count": null,
   "metadata": {
    "pycharm": {
     "is_executing": false
    }
   },
   "outputs": [],
   "source": [
    "person.last = 'Kim'"
   ]
  },
  {
   "cell_type": "markdown",
   "metadata": {},
   "source": [
    "In Python, we can add new class attributes on the fly, even if they have not been defined yet."
   ]
  },
  {
   "cell_type": "code",
   "execution_count": null,
   "metadata": {
    "pycharm": {
     "is_executing": false
    }
   },
   "outputs": [],
   "source": [
    "person.smoke = False\n",
    "person.smoke"
   ]
  },
  {
   "cell_type": "markdown",
   "metadata": {},
   "source": [
    "That gives you a quick tour of the capabilities of IPython. \n",
    "\n",
    "We covered a lot of ground here, but this should give you an idea of the power that Python puts at your fingertips. In the later lectures, we will give you a more in-depth tour of most of these features."
   ]
  },
  {
   "cell_type": "markdown",
   "metadata": {},
   "source": [
    "# Tips on Jupyter Notebook\n",
    "\n",
    "__When you execute code somewhere in the middle of a notebook, the code fragment may be dependent on imports, intermediate results in local variables and other such initializations in preceding cells.  So it is better to execute code cells sequentially, starting at the top, when new to IPython Notebook, to avoid being confused by such extraneous errors.__  \n",
    "\n",
    "Even so if you want to dive in and not have to execute each preceding code cell then you'll need to execute the menu item 'Cell->Run All'.  This executes each code cell for you sequentially once, so from that point on all dependencies on prior code cells are satisfied.\n",
    "\n",
    "# A simple way to start Jupyter notebook in Windows\n",
    "To start an Jupyter Notebook, you create a console window first, then you type \"jupyter notebook\" and options in the command-line prompt. Then you still need to navigate to file folders where your Jupyter Notebook files(~.ipynb) are. It is cumbersome. \n",
    "\n",
    "I created a batch file (`_start_ipynb.bat`) as shown below and place it in the folder where I want to start Jupyter Notebook from. In my case, I placed it in folders where my notebooks exist such as `~/Dropbox` and `~/Dropbox/CrushPython`. Then starting jupyter notebook is __a double clicks away__. Enjoy it. \n",
    "\n",
    "The batch filename I use is `_start_ipynb.bat` since the file is usually displayed at the top in the folder view because of the prefix `_`,\n",
    "```\n",
    "rem  start jupyter notebook here .bat file \n",
    "rem  If ~.py file to be written as well, then use jupyter notebook --script \n",
    "dir \n",
    "jupyter notebook \n",
    "pause \n",
    "```\n"
   ]
  },
  {
   "cell_type": "markdown",
   "metadata": {},
   "source": [
    "-------\n",
    "__Be joyful always!__ 1 Thes.5:16"
   ]
  }
 ],
 "metadata": {
  "kernelspec": {
   "display_name": "Python 3",
   "language": "python",
   "name": "python3"
  },
  "language_info": {
   "codemirror_mode": {
    "name": "ipython",
    "version": 3
   },
   "file_extension": ".py",
   "mimetype": "text/x-python",
   "name": "python",
   "nbconvert_exporter": "python",
   "pygments_lexer": "ipython3",
   "version": "3.7.3"
  },
  "pycharm": {
   "stem_cell": {
    "cell_type": "raw",
    "source": [],
    "metadata": {
     "collapsed": false
    }
   }
  }
 },
 "nbformat": 4,
 "nbformat_minor": 1
}